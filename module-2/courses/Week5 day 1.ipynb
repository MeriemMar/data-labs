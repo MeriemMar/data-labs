{
 "cells": [
  {
   "cell_type": "code",
   "execution_count": 41,
   "metadata": {},
   "outputs": [
    {
     "data": {
      "text/plain": [
       "505.0"
      ]
     },
     "execution_count": 41,
     "metadata": {},
     "output_type": "execute_result"
    }
   ],
   "source": [
    "import random\n",
    "\n",
    "def coin():\n",
    "    heads=0\n",
    "    for i in range(1000):\n",
    "        if random.random()<=0.5:\n",
    "            heads+=1\n",
    "    return heads\n",
    "coin()\n",
    "\n",
    "\n",
    "def sim(n):\n",
    "    lst=[]\n",
    "    for i in range(n):\n",
    "        lst.append(coin())\n",
    "    return sum(lst)/n\n",
    "sim(2)"
   ]
  },
  {
   "cell_type": "code",
   "execution_count": null,
   "metadata": {},
   "outputs": [],
   "source": []
  },
  {
   "cell_type": "code",
   "execution_count": 52,
   "metadata": {},
   "outputs": [],
   "source": [
    "def sim(n):\n",
    "    lst=[]\n",
    "    for i in range(n):\n",
    "        heads=0\n",
    "        for i in range(1000):\n",
    "            if random.random()<=0.5:\n",
    "                heads+=1\n",
    "        lst.append(heads)\n",
    "    return lst\n",
    "lst = sim(100000)"
   ]
  },
  {
   "cell_type": "code",
   "execution_count": 58,
   "metadata": {},
   "outputs": [
    {
     "data": {
      "text/plain": [
       "array([[<matplotlib.axes._subplots.AxesSubplot object at 0x1150750f0>]],\n",
       "      dtype=object)"
      ]
     },
     "execution_count": 58,
     "metadata": {},
     "output_type": "execute_result"
    },
    {
     "data": {
      "image/png": "[encoded data removed]",
      "text/plain": [
       "<Figure size 432x288 with 1 Axes>"
      ]
     },
     "metadata": {
      "needs_background": "light"
     },
     "output_type": "display_data"
    }
   ],
   "source": [
    "import pandas as pd\n",
    "df = pd.DataFrame(lst)\n",
    "df.hist(bins=50)"
   ]
  },
  {
   "cell_type": "code",
   "execution_count": 70,
   "metadata": {},
   "outputs": [
    {
     "name": "stdout",
     "output_type": "stream",
     "text": [
      "0.0003693785206390249%\n"
     ]
    }
   ],
   "source": [
    "cards =52\n",
    "aces=4\n",
    "\n",
    "ace_proba=1\n",
    "while aces >0:\n",
    "    ace_proba= ace_proba*aces/cards\n",
    "    aces=aces-1\n",
    "    cards=cards-1\n",
    "\n",
    "ace_proba=ace_proba*100\n",
    "\n",
    "\n",
    "print(str(round(ace_proba,400))+'%')"
   ]
  },
  {
   "cell_type": "code",
   "execution_count": 76,
   "metadata": {},
   "outputs": [
    {
     "data": {
      "text/plain": [
       "1.92"
      ]
     },
     "execution_count": 76,
     "metadata": {},
     "output_type": "execute_result"
    }
   ],
   "source": [
    "def event_proba(desired_event, possible_event):\n",
    "    proba=desired_event/possible_event*100\n",
    "    return round(proba,2)\n",
    "\n",
    "hearts=13\n",
    "event_proba(hearts,52)\n",
    "\n",
    "face=12\n",
    "event_proba(face,52)\n",
    "\n",
    "queen_of_spades=1\n",
    "event_proba(queen_of_spades,52)\n",
    "\n"
   ]
  },
  {
   "cell_type": "markdown",
   "metadata": {},
   "source": [
    "# Permutations"
   ]
  },
  {
   "cell_type": "markdown",
   "metadata": {},
   "source": [
    "- example of game: hangman -> 26 letters \n",
    "- 5 letters in word \n",
    "- without repetition \n",
    "- the order is importan\n",
    "- A nm = n!/(n-m)!"
   ]
  },
  {
   "cell_type": "markdown",
   "metadata": {},
   "source": [
    "# replacements = reordering"
   ]
  },
  {
   "cell_type": "markdown",
   "metadata": {},
   "source": [
    "- Pn = n!\n",
    "- without replacement\n",
    "Cnm =  n!/(m!*(n-m)!)\n",
    "- with replacement \n",
    "Cnk= (n+k-1)!/(n-1)!k!"
   ]
  },
  {
   "cell_type": "code",
   "execution_count": 82,
   "metadata": {},
   "outputs": [
    {
     "name": "stdout",
     "output_type": "stream",
     "text": [
      "2652.0 2 1326.0\n"
     ]
    }
   ],
   "source": [
    "import math\n",
    "n=52\n",
    "k=2\n",
    "Permutations= math.factorial(n)/math.factorial(n-k)\n",
    "Replacements=  math.factorial(k)\n",
    "Combinations = Permutations/Replacements\n",
    "\n",
    "print(Permutations,Replacements, Combinations)"
   ]
  },
  {
   "cell_type": "code",
   "execution_count": 86,
   "metadata": {},
   "outputs": [
    {
     "name": "stdout",
     "output_type": "stream",
     "text": [
      "7.84 5.88\n"
     ]
    }
   ],
   "source": [
    "cards=52\n",
    "cards_drawn=1\n",
    "cards=cards-cards_drawn\n",
    "\n",
    "aces=4\n",
    "ace_proba=event_proba(aces,cards)\n",
    "\n",
    "aces_drawn=1\n",
    "aces=aces-aces_drawn\n",
    "ace_proba1= event_proba(aces, cards)\n",
    "\n",
    "print(ace_proba,ace_proba1)"
   ]
  },
  {
   "cell_type": "code",
   "execution_count": 88,
   "metadata": {},
   "outputs": [
    {
     "name": "stdout",
     "output_type": "stream",
     "text": [
      "19.57\n"
     ]
    }
   ],
   "source": [
    "#sample space\n",
    "cards=52\n",
    "hands=2\n",
    "turn_table=4\n",
    "cards=cards-(hands+turn_table)\n",
    "\n",
    "diamonds= 13\n",
    "diamonds_open=4\n",
    "\n",
    "outs= diamonds-diamonds_open\n",
    "river_flush_proba=event_proba(outs,cards)\n",
    "\n",
    "print(river_flush_proba)"
   ]
  },
  {
   "cell_type": "code",
   "execution_count": null,
   "metadata": {},
   "outputs": [],
   "source": [
    "king=4\n",
    "eight=4\n",
    "\n",
    "out=eight+king\n",
    "\n",
    "river_straight_proba=event_proba(outs,cards)\n",
    "print(river_straight_proba)"
   ]
  },
  {
   "cell_type": "markdown",
   "metadata": {},
   "source": [
    "# Mutual exclusive events "
   ]
  },
  {
   "cell_type": "code",
   "execution_count": 91,
   "metadata": {},
   "outputs": [
    {
     "data": {
      "text/plain": [
       "117.4"
      ]
     },
     "execution_count": 91,
     "metadata": {},
     "output_type": "execute_result"
    }
   ],
   "source": [
    "hearts=13\n",
    "spades=13\n",
    "\n",
    "heart_or_spades=event_proba(hearts,cards)+event_proba(spades,cards)\n",
    "\n",
    "\n",
    "aces=4\n",
    "kings=4\n",
    "queens=4\n",
    "\n",
    "ace_king_queen = event_proba(aces,cards)+event_proba(kings, cards)+event_proba(aces,kings)\n",
    "\n",
    "ace_king_queen"
   ]
  },
  {
   "cell_type": "code",
   "execution_count": null,
   "metadata": {},
   "outputs": [],
   "source": []
  },
  {
   "cell_type": "code",
   "execution_count": 94,
   "metadata": {},
   "outputs": [
    {
     "name": "stdout",
     "output_type": "stream",
     "text": [
      "289.75\n"
     ]
    }
   ],
   "source": [
    "# Drawing a face card or red card\n",
    "\n",
    "cards=52\n",
    "red_cards=26\n",
    "face_cards=12\n",
    "red_face=6\n",
    "\n",
    "\n",
    "red_or_face=event_proba(red_cards, cards)+event_proba(face_cards, cards)+event_proba(red_cards, face_cards)\n",
    "print(red_or_face)"
   ]
  },
  {
   "cell_type": "code",
   "execution_count": 96,
   "metadata": {},
   "outputs": [
    {
     "data": {
      "text/plain": [
       "array([-1.06266981,  4.2844088 ,  1.22887518, ...,  1.58750181,\n",
       "       -1.62603347, -0.40855704])"
      ]
     },
     "execution_count": 96,
     "metadata": {},
     "output_type": "execute_result"
    }
   ],
   "source": [
    "import numpy as np\n",
    "import pandas as pd\n",
    "import scipy.stats as st\n",
    "\n",
    "s=np.random.normal(1,2,10000)\n",
    "s"
   ]
  },
  {
   "cell_type": "code",
   "execution_count": 98,
   "metadata": {},
   "outputs": [
    {
     "data": {
      "text/plain": [
       "array([ 4.11717892, -1.51314248,  0.02750061, ...,  7.05426823,\n",
       "        8.28469812,  2.79369902])"
      ]
     },
     "execution_count": 98,
     "metadata": {},
     "output_type": "execute_result"
    }
   ],
   "source": [
    "p=np.random.normal(3,2,10000)\n",
    "p"
   ]
  },
  {
   "cell_type": "code",
   "execution_count": 101,
   "metadata": {},
   "outputs": [
    {
     "data": {
      "text/html": [
       "<div>\n",
       "<style scoped>\n",
       "    .dataframe tbody tr th:only-of-type {\n",
       "        vertical-align: middle;\n",
       "    }\n",
       "\n",
       "    .dataframe tbody tr th {\n",
       "        vertical-align: top;\n",
       "    }\n",
       "\n",
       "    .dataframe thead th {\n",
       "        text-align: right;\n",
       "    }\n",
       "</style>\n",
       "<table border=\"1\" class=\"dataframe\">\n",
       "  <thead>\n",
       "    <tr style=\"text-align: right;\">\n",
       "      <th></th>\n",
       "      <th>s</th>\n",
       "      <th>p</th>\n",
       "    </tr>\n",
       "  </thead>\n",
       "  <tbody>\n",
       "    <tr>\n",
       "      <th>0</th>\n",
       "      <td>-1.062670</td>\n",
       "      <td>4.117179</td>\n",
       "    </tr>\n",
       "    <tr>\n",
       "      <th>1</th>\n",
       "      <td>4.284409</td>\n",
       "      <td>-1.513142</td>\n",
       "    </tr>\n",
       "    <tr>\n",
       "      <th>2</th>\n",
       "      <td>1.228875</td>\n",
       "      <td>0.027501</td>\n",
       "    </tr>\n",
       "    <tr>\n",
       "      <th>3</th>\n",
       "      <td>1.644713</td>\n",
       "      <td>2.985705</td>\n",
       "    </tr>\n",
       "    <tr>\n",
       "      <th>4</th>\n",
       "      <td>1.794252</td>\n",
       "      <td>6.853757</td>\n",
       "    </tr>\n",
       "  </tbody>\n",
       "</table>\n",
       "</div>"
      ],
      "text/plain": [
       "          s         p\n",
       "0 -1.062670  4.117179\n",
       "1  4.284409 -1.513142\n",
       "2  1.228875  0.027501\n",
       "3  1.644713  2.985705\n",
       "4  1.794252  6.853757"
      ]
     },
     "execution_count": 101,
     "metadata": {},
     "output_type": "execute_result"
    }
   ],
   "source": [
    "df=pd.DataFrame([s,p]).T\n",
    "df.columns=['s','p']\n",
    "df.head()"
   ]
  },
  {
   "cell_type": "code",
   "execution_count": 102,
   "metadata": {},
   "outputs": [
    {
     "data": {
      "text/plain": [
       "array([[<matplotlib.axes._subplots.AxesSubplot object at 0x1a16c68278>,\n",
       "        <matplotlib.axes._subplots.AxesSubplot object at 0x1a16d93400>]],\n",
       "      dtype=object)"
      ]
     },
     "execution_count": 102,
     "metadata": {},
     "output_type": "execute_result"
    },
    {
     "data": {
      "image/png": "[encoded data removed]",
      "text/plain": [
       "<Figure size 432x288 with 2 Axes>"
      ]
     },
     "metadata": {
      "needs_background": "light"
     },
     "output_type": "display_data"
    }
   ],
   "source": [
    "df.hist()"
   ]
  },
  {
   "cell_type": "code",
   "execution_count": 103,
   "metadata": {},
   "outputs": [
    {
     "data": {
      "text/plain": [
       "array([[<matplotlib.axes._subplots.AxesSubplot object at 0x1147d94a8>,\n",
       "        <matplotlib.axes._subplots.AxesSubplot object at 0x1a17163748>]],\n",
       "      dtype=object)"
      ]
     },
     "execution_count": 103,
     "metadata": {},
     "output_type": "execute_result"
    },
    {
     "data": {
      "image/png": "[encoded data removed]",
      "text/plain": [
       "<Figure size 432x288 with 2 Axes>"
      ]
     },
     "metadata": {
      "needs_background": "light"
     },
     "output_type": "display_data"
    }
   ],
   "source": [
    "df.hist(bins=50)"
   ]
  },
  {
   "cell_type": "code",
   "execution_count": 108,
   "metadata": {},
   "outputs": [
    {
     "name": "stdout",
     "output_type": "stream",
     "text": [
      "0.9983523504991181 1.9818834207639877\n",
      "2.999691519353042 2.003136573518766\n"
     ]
    }
   ],
   "source": [
    "s_avg=df.s.mean()\n",
    "s_std=df.s.std()\n",
    "\n",
    "p_avg=df.p.mean()\n",
    "p_std=df.p.std()\n",
    "\n",
    "print(s_avg,s_std)\n",
    "print(p_avg,p_std)"
   ]
  },
  {
   "cell_type": "code",
   "execution_count": 110,
   "metadata": {},
   "outputs": [
    {
     "data": {
      "text/plain": [
       "0.8437084645439683"
      ]
     },
     "execution_count": 110,
     "metadata": {},
     "output_type": "execute_result"
    }
   ],
   "source": [
    "z=(p_avg-s_avg)/s_std\n",
    "st.norm.cdf(z)"
   ]
  },
  {
   "cell_type": "code",
   "execution_count": 111,
   "metadata": {},
   "outputs": [
    {
     "data": {
      "text/plain": [
       "0.1562915354560317"
      ]
     },
     "execution_count": 111,
     "metadata": {},
     "output_type": "execute_result"
    }
   ],
   "source": [
    "1-st.norm.cdf(z)"
   ]
  },
  {
   "cell_type": "code",
   "execution_count": null,
   "metadata": {},
   "outputs": [],
   "source": []
  },
  {
   "cell_type": "code",
   "execution_count": null,
   "metadata": {},
   "outputs": [],
   "source": []
  },
  {
   "cell_type": "code",
   "execution_count": null,
   "metadata": {},
   "outputs": [],
   "source": []
  }
 ],
 "metadata": {
  "kernelspec": {
   "display_name": "Python 3",
   "language": "python",
   "name": "python3"
  },
  "language_info": {
   "codemirror_mode": {
    "name": "ipython",
    "version": 3
   },
   "file_extension": ".py",
   "mimetype": "text/x-python",
   "name": "python",
   "nbconvert_exporter": "python",
   "pygments_lexer": "ipython3",
   "version": "3.7.3"
  }
 },
 "nbformat": 4,
 "nbformat_minor": 2
}

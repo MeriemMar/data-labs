{
 "cells": [
  {
   "cell_type": "code",
   "execution_count": 93,
   "metadata": {},
   "outputs": [],
   "source": [
    "import pandas as pd\n",
    "import matplotlib.pyplot as plt\n",
    "import os\n",
    "import seaborn as sns\n",
    "import numpy as np\n",
    "sns.set_style()"
   ]
  },
  {
   "cell_type": "code",
   "execution_count": 2,
   "metadata": {},
   "outputs": [],
   "source": [
    "# Search a database for north ans south countries "
   ]
  },
  {
   "cell_type": "code",
   "execution_count": 3,
   "metadata": {},
   "outputs": [],
   "source": [
    "#read the file \n",
    "dff_00 = (pd.read_excel('deaths2000.xls', skiprows=6, sheet_name='Deaths All ages'))\n",
    "df_00=dff_00.copy()\n",
    "\n",
    "dff_16 = (pd.read_excel('deaths2016.xls', skiprows=6, sheet_name='Deaths All ages'))\n",
    "df_16=dff_16.copy()"
   ]
  },
  {
   "cell_type": "code",
   "execution_count": 4,
   "metadata": {},
   "outputs": [],
   "source": [
    "df_00 = df_00.drop([df_00.columns[1],df_00.columns[2],df_00.columns[3], df_00.columns[6]], axis=1)\n",
    "\n",
    "df_16 = df_16.drop([df_16.columns[1],df_16.columns[2],df_16.columns[3], df_16.columns[6]], axis=1)"
   ]
  },
  {
   "cell_type": "code",
   "execution_count": 5,
   "metadata": {},
   "outputs": [],
   "source": [
    "df_00 = df_00.drop((df_00[df_00.Sex =='Persons'].index))\n",
    "df_00=df_00.dropna(subset=[\"Sex\"])\n",
    "\n",
    "df_16 = df_16.drop((df_16[df_16.Sex =='Persons'].index))\n",
    "df_16=df_16.dropna(subset=[\"Sex\"])"
   ]
  },
  {
   "cell_type": "code",
   "execution_count": 6,
   "metadata": {},
   "outputs": [],
   "source": [
    "df_00 = df_00.rename(columns={df_00.columns[1]: 'General_cause', df_00.columns[2]: 'Detailed_cause'})\n",
    "df_16 = df_16.rename(columns={df_16.columns[1]: 'General_cause', df_16.columns[2]: 'Detailed_cause'})\n"
   ]
  },
  {
   "cell_type": "code",
   "execution_count": 7,
   "metadata": {},
   "outputs": [],
   "source": [
    "df_00 = df_00.dropna(subset=[\"General_cause\", \"Detailed_cause\"], how='all')\n",
    "\n",
    "df_16 = df_16.dropna(subset=[\"General_cause\", \"Detailed_cause\"], how='all')"
   ]
  },
  {
   "cell_type": "code",
   "execution_count": 8,
   "metadata": {},
   "outputs": [],
   "source": [
    "df_00=df_00.dropna(subset=[\"General_cause\"])\n",
    "\n",
    "df_16=df_16.dropna(subset=[\"General_cause\"])"
   ]
  },
  {
   "cell_type": "code",
   "execution_count": 9,
   "metadata": {},
   "outputs": [],
   "source": [
    "new_col00=[]\n",
    "\n",
    "for i in df_00['General_cause']:\n",
    "    if i[0].isdigit()==False:\n",
    "        new_col00.append(i)\n",
    "    else:\n",
    "        new_col00.append(new_col00[-1])\n",
    "\n",
    "new_col16=[]\n",
    "for i in df_16['General_cause']:\n",
    "    if i[0].isdigit()==False:\n",
    "        new_col16.append(i)\n",
    "    else:\n",
    "        new_col16.append(new_col16[-1])\n"
   ]
  },
  {
   "cell_type": "code",
   "execution_count": 10,
   "metadata": {},
   "outputs": [],
   "source": [
    "df_00 = df_00.drop(['General_cause'], axis=1)\n",
    "\n",
    "df_16 = df_16.drop(['General_cause'], axis=1)"
   ]
  },
  {
   "cell_type": "code",
   "execution_count": 11,
   "metadata": {},
   "outputs": [],
   "source": [
    "\n",
    "df_00.insert(1, 'General_cause', new_col00)\n",
    "\n",
    "df_16.insert(1, 'General_cause', new_col16)"
   ]
  },
  {
   "cell_type": "code",
   "execution_count": 12,
   "metadata": {},
   "outputs": [],
   "source": [
    "df_00 = df_00.dropna(subset=[\"Detailed_cause\"])\n",
    "\n",
    "df_16 = df_16.dropna(subset=[\"Detailed_cause\"])"
   ]
  },
  {
   "cell_type": "code",
   "execution_count": 13,
   "metadata": {},
   "outputs": [],
   "source": [
    "df_00 = df_00.replace('.', 0)\n",
    "df_16 = df_16.replace('.', 0)\n"
   ]
  },
  {
   "cell_type": "code",
   "execution_count": 14,
   "metadata": {},
   "outputs": [],
   "source": [
    "df_00 = df_00.reset_index()\n",
    "\n",
    "df_16 = df_16.reset_index()"
   ]
  },
  {
   "cell_type": "code",
   "execution_count": 15,
   "metadata": {},
   "outputs": [],
   "source": [
    "gdp = (pd.read_excel('gdp_per_capita.xls', skiprows=3, sheet_name='Data')\n",
    "        .dropna(how='all', axis=1))"
   ]
  },
  {
   "cell_type": "code",
   "execution_count": 16,
   "metadata": {},
   "outputs": [],
   "source": [
    "gdp = gdp[[\"Country Name\",\"2000\", \"2016\"]]"
   ]
  },
  {
   "cell_type": "code",
   "execution_count": 17,
   "metadata": {},
   "outputs": [],
   "source": [
    "gdp= gdp.dropna(subset = [\"2000\", \"2016\"])"
   ]
  },
  {
   "cell_type": "code",
   "execution_count": 18,
   "metadata": {},
   "outputs": [],
   "source": [
    "gdp= gdp.reset_index(drop=True)"
   ]
  },
  {
   "cell_type": "code",
   "execution_count": 19,
   "metadata": {},
   "outputs": [],
   "source": [
    "country_labels= ['Low_income', 'Lower_middle_income', 'Upper_middle_income', 'High_income']\n",
    "cutoffs = [0,995,3895,12055,200000]"
   ]
  },
  {
   "cell_type": "code",
   "execution_count": 20,
   "metadata": {},
   "outputs": [],
   "source": [
    "Category_2000 = pd.cut(gdp['2000'],cutoffs, labels=country_labels)\n",
    "gdp.insert(3, 'Category_2000', Category_2000)"
   ]
  },
  {
   "cell_type": "code",
   "execution_count": 21,
   "metadata": {},
   "outputs": [],
   "source": [
    "Category_2016 = pd.cut(gdp['2016'],cutoffs, labels=country_labels)\n",
    "gdp.insert(4, 'Category_2016', Category_2016)"
   ]
  },
  {
   "cell_type": "code",
   "execution_count": 22,
   "metadata": {},
   "outputs": [],
   "source": [
    "#Year 2000\n",
    "#Liste des pays low income ....\n",
    "low_income_2000 = list(gdp['Country Name'].loc[gdp['Category_2000'] =='Low_income'])\n",
    "Lower_middle_income_2000 = list(gdp['Country Name'].loc[gdp['Category_2000'] =='Lower_middle_income'])\n",
    "Upper_middle_income_2000 = list(gdp['Country Name'].loc[gdp['Category_2000'] =='Upper_middle_income'])\n",
    "High_income_2000= list(gdp['Country Name'].loc[gdp['Category_2000'] =='High_income'])\n",
    "#Year 2016\n",
    "low_income_2016 = list(gdp['Country Name'].loc[gdp['Category_2016'] =='Low_income'])\n",
    "Lower_middle_income_2016 = list(gdp['Country Name'].loc[gdp['Category_2016'] =='Lower_middle_income'])\n",
    "Upper_middle_income_2016 = list(gdp['Country Name'].loc[gdp['Category_2016'] =='Upper_middle_income'])\n",
    "High_income_2016= list(gdp['Country Name'].loc[gdp['Category_2016'] =='High_income'])\n",
    "\n"
   ]
  },
  {
   "cell_type": "code",
   "execution_count": 23,
   "metadata": {},
   "outputs": [],
   "source": [
    "# Year 2000\n",
    "liste_category_2000=[low_income_2000,Lower_middle_income_2000,Upper_middle_income_2000,High_income_2000]\n",
    "df_2000 = pd.DataFrame()\n",
    "for cat in liste_category_2000:\n",
    "    for cat1 in cat:\n",
    "        if cat1 in df_00.columns:\n",
    "            df_2000=df_2000.append(df_00[cat1])\n",
    "            \n",
    "# Year 2016          \n",
    "liste_category_2016=[low_income_2016,Lower_middle_income_2016,Upper_middle_income_2016,High_income_2016]\n",
    "df_2016 = pd.DataFrame()\n",
    "for cat in liste_category_2016:\n",
    "    for cat1 in cat:\n",
    "        if cat1 in df_16.columns:\n",
    "            df_2016=df_2016.append(df_16[cat1])\n",
    "        "
   ]
  },
  {
   "cell_type": "code",
   "execution_count": 24,
   "metadata": {},
   "outputs": [],
   "source": [
    "# Each dataframe contains the columns of the countries from the same category / year 2000\n",
    "\n",
    "low_income_2000_df=df_00.loc[:,[i in low_income_2000 for i in df_00.columns]]\n",
    "low_middle_income_2000_df=df_00.loc[:,[i in Lower_middle_income_2000 for i in df_00.columns]]\n",
    "up_middle_income_2000_df=df_00.loc[:,[i in Upper_middle_income_2000 for i in df_00.columns]]\n",
    "high_income_2000_df=df_00.loc[:,[i in High_income_2000 for i in df_00.columns]]\n",
    "\n",
    "# Each dataframe contains the columns of the countries from the same category / year 2016\n",
    "\n",
    "low_income_2016_df=df_16.loc[:,[i in low_income_2016 for i in df_16.columns]]\n",
    "low_middle_income_2016_df=df_16.loc[:,[i in Lower_middle_income_2016 for i in df_16.columns]]\n",
    "up_middle_income_2016_df=df_16.loc[:,[i in Upper_middle_income_2016 for i in df_16.columns]]\n",
    "high_income_2016_df=df_16.loc[:,[i in High_income_2016 for i in df_16.columns]]\n"
   ]
  },
  {
   "cell_type": "code",
   "execution_count": 25,
   "metadata": {},
   "outputs": [],
   "source": [
    "\n",
    "# sum of columns of each dataframe / year 2000\n",
    "low_income_2000_mean = low_income_2000_df.mean(axis = 1) \n",
    "low_middle_income_2000_mean=low_middle_income_2000_df.mean(axis=1)\n",
    "up_middle_income_2000_mean=up_middle_income_2000_df.mean(axis=1)\n",
    "high_income_2000_mean=high_income_2000_df.mean(axis=1)\n",
    "\n",
    "# sum of columns of each dataframe / year 2016\n",
    "low_income_2016_mean = low_income_2016_df.sum(axis = 1) \n",
    "low_middle_income_2016_mean=low_middle_income_2016_df.mean(axis=1)\n",
    "up_middle_income_2016_mean=up_middle_income_2016_df.mean(axis=1)\n",
    "high_income_2016_mean=high_income_2016_df.mean(axis=1)\n"
   ]
  },
  {
   "cell_type": "code",
   "execution_count": 26,
   "metadata": {},
   "outputs": [
    {
     "name": "stderr",
     "output_type": "stream",
     "text": [
      "/anaconda3/lib/python3.7/site-packages/ipykernel_launcher.py:3: SettingWithCopyWarning: \n",
      "A value is trying to be set on a copy of a slice from a DataFrame.\n",
      "Try using .loc[row_indexer,col_indexer] = value instead\n",
      "\n",
      "See the caveats in the documentation: http://pandas.pydata.org/pandas-docs/stable/indexing.html#indexing-view-versus-copy\n",
      "  This is separate from the ipykernel package so we can avoid doing imports until\n",
      "/anaconda3/lib/python3.7/site-packages/ipykernel_launcher.py:4: SettingWithCopyWarning: \n",
      "A value is trying to be set on a copy of a slice from a DataFrame.\n",
      "Try using .loc[row_indexer,col_indexer] = value instead\n",
      "\n",
      "See the caveats in the documentation: http://pandas.pydata.org/pandas-docs/stable/indexing.html#indexing-view-versus-copy\n",
      "  after removing the cwd from sys.path.\n",
      "/anaconda3/lib/python3.7/site-packages/ipykernel_launcher.py:5: SettingWithCopyWarning: \n",
      "A value is trying to be set on a copy of a slice from a DataFrame.\n",
      "Try using .loc[row_indexer,col_indexer] = value instead\n",
      "\n",
      "See the caveats in the documentation: http://pandas.pydata.org/pandas-docs/stable/indexing.html#indexing-view-versus-copy\n",
      "  \"\"\"\n",
      "/anaconda3/lib/python3.7/site-packages/ipykernel_launcher.py:6: SettingWithCopyWarning: \n",
      "A value is trying to be set on a copy of a slice from a DataFrame.\n",
      "Try using .loc[row_indexer,col_indexer] = value instead\n",
      "\n",
      "See the caveats in the documentation: http://pandas.pydata.org/pandas-docs/stable/indexing.html#indexing-view-versus-copy\n",
      "  \n",
      "/anaconda3/lib/python3.7/site-packages/ipykernel_launcher.py:7: SettingWithCopyWarning: \n",
      "A value is trying to be set on a copy of a slice from a DataFrame.\n",
      "Try using .loc[row_indexer,col_indexer] = value instead\n",
      "\n",
      "See the caveats in the documentation: http://pandas.pydata.org/pandas-docs/stable/indexing.html#indexing-view-versus-copy\n",
      "  import sys\n",
      "/anaconda3/lib/python3.7/site-packages/ipykernel_launcher.py:8: SettingWithCopyWarning: \n",
      "A value is trying to be set on a copy of a slice from a DataFrame.\n",
      "Try using .loc[row_indexer,col_indexer] = value instead\n",
      "\n",
      "See the caveats in the documentation: http://pandas.pydata.org/pandas-docs/stable/indexing.html#indexing-view-versus-copy\n",
      "  \n",
      "/anaconda3/lib/python3.7/site-packages/ipykernel_launcher.py:9: SettingWithCopyWarning: \n",
      "A value is trying to be set on a copy of a slice from a DataFrame.\n",
      "Try using .loc[row_indexer,col_indexer] = value instead\n",
      "\n",
      "See the caveats in the documentation: http://pandas.pydata.org/pandas-docs/stable/indexing.html#indexing-view-versus-copy\n",
      "  if __name__ == '__main__':\n",
      "/anaconda3/lib/python3.7/site-packages/ipykernel_launcher.py:10: SettingWithCopyWarning: \n",
      "A value is trying to be set on a copy of a slice from a DataFrame.\n",
      "Try using .loc[row_indexer,col_indexer] = value instead\n",
      "\n",
      "See the caveats in the documentation: http://pandas.pydata.org/pandas-docs/stable/indexing.html#indexing-view-versus-copy\n",
      "  # Remove the CWD from sys.path while we load stuff.\n"
     ]
    }
   ],
   "source": [
    "df_clean = df_00[['Sex','General_cause','Detailed_cause']]\n",
    "\n",
    "df_clean['low_income_2000']=low_income_2000_mean\n",
    "df_clean['low_middle_income_2000']=low_middle_income_2000_mean\n",
    "df_clean['up_middle_income_2000']=up_middle_income_2000_mean\n",
    "df_clean['high_income_2000']=high_income_2000_mean\n",
    "df_clean['low_income_2016']=low_income_2016_mean\n",
    "df_clean['low_middle_income_2016']=low_middle_income_2016_mean\n",
    "df_clean['up_middle_income_2016']=up_middle_income_2016_mean\n",
    "df_clean['high_income_2016']=high_income_2016_mean\n",
    "\n"
   ]
  },
  {
   "cell_type": "code",
   "execution_count": 27,
   "metadata": {},
   "outputs": [
    {
     "data": {
      "text/plain": [
       "<matplotlib.axes._subplots.AxesSubplot at 0x1a2477f198>"
      ]
     },
     "execution_count": 27,
     "metadata": {},
     "output_type": "execute_result"
    },
    {
     "data": {
      "image/png": "[encoded data removed]",
      "text/plain": [
       "<Figure size 432x288 with 1 Axes>"
      ]
     },
     "metadata": {
      "needs_background": "light"
     },
     "output_type": "display_data"
    }
   ],
   "source": [
    "import geopandas \n",
    "world = geopandas.read_file(geopandas.datasets.get_path('naturalearth_lowres'))\n",
    "world.plot()\n"
   ]
  },
  {
   "cell_type": "code",
   "execution_count": 28,
   "metadata": {},
   "outputs": [],
   "source": [
    " world = world[(world.pop_est>0)&(world.name!=\"Antarctica\")]"
   ]
  },
  {
   "cell_type": "code",
   "execution_count": null,
   "metadata": {},
   "outputs": [],
   "source": [
    "df_clean.corr()"
   ]
  },
  {
   "cell_type": "code",
   "execution_count": null,
   "metadata": {},
   "outputs": [],
   "source": [
    "sns.heatmap(df_clean.corr())"
   ]
  },
  {
   "cell_type": "code",
   "execution_count": null,
   "metadata": {},
   "outputs": [],
   "source": [
    "df_00"
   ]
  },
  {
   "cell_type": "code",
   "execution_count": null,
   "metadata": {},
   "outputs": [],
   "source": [
    "#low_income_2000_df=df_00.loc[:,[i in low_income_2000 for i in df_00.columns]]\n",
    "#world['Name'].loc[gdp['Category_2000'] =='Lower_middle_income'])\n",
    "\n",
    "df_16.columns[4:]"
   ]
  },
  {
   "cell_type": "code",
   "execution_count": null,
   "metadata": {},
   "outputs": [],
   "source": [
    "df_16.head()"
   ]
  },
  {
   "cell_type": "code",
   "execution_count": null,
   "metadata": {},
   "outputs": [],
   "source": [
    "world.name in df_16.columns[4:]\n"
   ]
  },
  {
   "cell_type": "code",
   "execution_count": null,
   "metadata": {},
   "outputs": [],
   "source": [
    "df_clean.loc[:,'General_cause':'high_income_2000'].groupby([\"General_cause\"]).agg(\"mean\").plot.barh()\n"
   ]
  },
  {
   "cell_type": "code",
   "execution_count": null,
   "metadata": {},
   "outputs": [],
   "source": [
    "df_clean.loc[:,['General_cause','low_income_2016','low_middle_income_2016','low_middle_income_2016','high_income_2016']].groupby([\"General_cause\"]).agg(\"mean\").plot.barh()\n"
   ]
  },
  {
   "cell_type": "code",
   "execution_count": null,
   "metadata": {},
   "outputs": [],
   "source": [
    "dfdf=df_clean[df_clean['General_cause']==\"Cardiovascular diseases\"]\n",
    "dfdf.columns=['Cardiovascular diseases']\n",
    "dfdf.iloc[2:].plot.barh()"
   ]
  },
  {
   "cell_type": "code",
   "execution_count": null,
   "metadata": {},
   "outputs": [],
   "source": [
    "dfdf=df_clean[df_clean['General_cause']==\"Cardiovascular diseases\"]\n",
    "dfdf.loc[:,['Sex','high_income_2016','high_income_2000']].groupby(['Sex']).agg('sum').plot.bar()"
   ]
  },
  {
   "cell_type": "code",
   "execution_count": null,
   "metadata": {},
   "outputs": [],
   "source": [
    "dfdf=df_clean[df_clean['General_cause']==\"Neonatal conditions\"]\n",
    "dfdf.loc[:,['Sex','low_income_2016','low_income_2000']].groupby(['Sex']).agg('sum').plot.bar()"
   ]
  },
  {
   "cell_type": "code",
   "execution_count": null,
   "metadata": {},
   "outputs": [],
   "source": [
    "dfdf=df_clean[df_clean['General_cause']==\"Cardiovascular diseases\"]\n",
    "dfdf.loc[:,['General_cause','low_income_2016','low_middle_income_2016','low_middle_income_2016','high_income_2016']].groupby(['Sex']).agg('sum').plot.bar()"
   ]
  },
  {
   "cell_type": "code",
   "execution_count": null,
   "metadata": {},
   "outputs": [],
   "source": [
    "\n",
    "dfdf.loc[:,['General_cause','low_income_2000','low_middle_income_2000','low_middle_income_2000','high_income_2000']].groupby(['General_cause']).agg('sum').plot.barh()\n"
   ]
  },
  {
   "cell_type": "code",
   "execution_count": null,
   "metadata": {},
   "outputs": [],
   "source": [
    "dfdf.loc[:,['General_cause','low_income_2016','low_middle_income_2016','low_middle_income_2016','high_income_2016']].groupby(['General_cause']).agg('sum').plot.barh()\n"
   ]
  },
  {
   "cell_type": "code",
   "execution_count": 70,
   "metadata": {},
   "outputs": [],
   "source": [
    "import geopandas \n",
    "world = geopandas.read_file(geopandas.datasets.get_path('naturalearth_lowres'))\n"
   ]
  },
  {
   "cell_type": "code",
   "execution_count": 94,
   "metadata": {},
   "outputs": [],
   "source": [
    "A = df_16.loc[:,'Afghanistan':'Zimbabwe'][df_16['General_cause']==\"Cardiovascular diseases\"]\n",
    "B = A.sum(axis = 0, skipna = True) \n",
    "lst=[]\n",
    "for i in world['name']:\n",
    "    if i in B.index:        \n",
    "            lst.append(B[i])\n",
    "    \n",
    "    else:\n",
    "            lst.append(np.nan)\n",
    "        \n",
    "world['deaths']=lst"
   ]
  },
  {
   "cell_type": "code",
   "execution_count": 95,
   "metadata": {},
   "outputs": [],
   "source": [
    "world=world.dropna(subset=[\"deaths\"])"
   ]
  },
  {
   "cell_type": "code",
   "execution_count": 98,
   "metadata": {},
   "outputs": [
    {
     "data": {
      "image/png": "[encoded data removed]",
      "text/plain": [
       "<Figure size 432x288 with 1 Axes>"
      ]
     },
     "metadata": {
      "needs_background": "light"
     },
     "output_type": "display_data"
    }
   ],
   "source": [
    "\n",
    "world.plot(column='deaths');"
   ]
  }
 ],
 "metadata": {
  "kernelspec": {
   "display_name": "Python 3",
   "language": "python",
   "name": "python3"
  },
  "language_info": {
   "codemirror_mode": {
    "name": "ipython",
    "version": 3
   },
   "file_extension": ".py",
   "mimetype": "text/x-python",
   "name": "python",
   "nbconvert_exporter": "python",
   "pygments_lexer": "ipython3",
   "version": "3.7.3"
  }
 },
 "nbformat": 4,
 "nbformat_minor": 2
}

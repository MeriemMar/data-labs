{
 "cells": [
  {
   "cell_type": "code",
   "execution_count": 7,
   "metadata": {},
   "outputs": [],
   "source": [
    "import numpy as np\n",
    "\n",
    "a = np.random.random((2,2))\n",
    "b = np.random.random((4,3,2))\n",
    "c = np.random.random((5,4,3,2))\n"
   ]
  },
  {
   "cell_type": "code",
   "execution_count": 8,
   "metadata": {},
   "outputs": [
    {
     "name": "stdout",
     "output_type": "stream",
     "text": [
      "[[0.32364593 0.68449856]\n",
      " [0.280965   0.14553225]]\n",
      "[0.32364593 0.68449856]\n",
      "<class 'numpy.ndarray'>\n"
     ]
    }
   ],
   "source": [
    "print(a)\n",
    "print(a[0])\n",
    "print(type(a))"
   ]
  },
  {
   "cell_type": "code",
   "execution_count": 10,
   "metadata": {},
   "outputs": [
    {
     "name": "stdout",
     "output_type": "stream",
     "text": [
      "[[[[0.52558522 0.94677312]\n",
      "   [0.96714455 0.34898359]\n",
      "   [0.22326095 0.59740716]]\n",
      "\n",
      "  [[0.75053938 0.46908738]\n",
      "   [0.04138699 0.78910967]\n",
      "   [0.57662911 0.37407395]]\n",
      "\n",
      "  [[0.08736732 0.3149488 ]\n",
      "   [0.6163111  0.37284948]\n",
      "   [0.05334812 0.45447186]]\n",
      "\n",
      "  [[0.29182125 0.12943794]\n",
      "   [0.7611158  0.93809568]\n",
      "   [0.66508481 0.35033899]]]\n",
      "\n",
      "\n",
      " [[[0.29492607 0.16377423]\n",
      "   [0.08639648 0.4273913 ]\n",
      "   [0.36545099 0.85951061]]\n",
      "\n",
      "  [[0.53844163 0.28538406]\n",
      "   [0.64427097 0.19478549]\n",
      "   [0.37027196 0.73217239]]\n",
      "\n",
      "  [[0.09852564 0.08745648]\n",
      "   [0.11138441 0.61305727]\n",
      "   [0.00469943 0.51345999]]\n",
      "\n",
      "  [[0.58347651 0.24425922]\n",
      "   [0.07593563 0.89078314]\n",
      "   [0.88909876 0.22136743]]]\n",
      "\n",
      "\n",
      " [[[0.80703752 0.50818447]\n",
      "   [0.00184972 0.55718852]\n",
      "   [0.76484505 0.88177737]]\n",
      "\n",
      "  [[0.21756102 0.46186769]\n",
      "   [0.58404404 0.07769374]\n",
      "   [0.14910499 0.17146499]]\n",
      "\n",
      "  [[0.61965328 0.96330202]\n",
      "   [0.80930312 0.55904861]\n",
      "   [0.59231508 0.00496291]]\n",
      "\n",
      "  [[0.65833618 0.53689377]\n",
      "   [0.05799891 0.08396049]\n",
      "   [0.30945781 0.80543949]]]\n",
      "\n",
      "\n",
      " [[[0.24342889 0.19675111]\n",
      "   [0.39846575 0.26486631]\n",
      "   [0.77088896 0.44927108]]\n",
      "\n",
      "  [[0.80041505 0.28884618]\n",
      "   [0.8939192  0.73276567]\n",
      "   [0.4450651  0.85619111]]\n",
      "\n",
      "  [[0.27704761 0.71915738]\n",
      "   [0.55550478 0.3384158 ]\n",
      "   [0.8860543  0.26291482]]\n",
      "\n",
      "  [[0.96144933 0.3712526 ]\n",
      "   [0.13218668 0.06615617]\n",
      "   [0.69518379 0.22015794]]]\n",
      "\n",
      "\n",
      " [[[0.69371064 0.83208638]\n",
      "   [0.74558106 0.75823356]\n",
      "   [0.46552056 0.39884007]]\n",
      "\n",
      "  [[0.14089178 0.53302114]\n",
      "   [0.56027868 0.50236776]\n",
      "   [0.54167465 0.69436461]]\n",
      "\n",
      "  [[0.53271244 0.09923493]\n",
      "   [0.25912693 0.73293604]\n",
      "   [0.24477424 0.44781386]]\n",
      "\n",
      "  [[0.25900253 0.12880396]\n",
      "   [0.6813258  0.71202273]\n",
      "   [0.10093736 0.47123461]]]]\n",
      "[[[0.52558522 0.94677312]\n",
      "  [0.96714455 0.34898359]\n",
      "  [0.22326095 0.59740716]]\n",
      "\n",
      " [[0.75053938 0.46908738]\n",
      "  [0.04138699 0.78910967]\n",
      "  [0.57662911 0.37407395]]\n",
      "\n",
      " [[0.08736732 0.3149488 ]\n",
      "  [0.6163111  0.37284948]\n",
      "  [0.05334812 0.45447186]]\n",
      "\n",
      " [[0.29182125 0.12943794]\n",
      "  [0.7611158  0.93809568]\n",
      "  [0.66508481 0.35033899]]]\n",
      "[[0.75053938 0.46908738]\n",
      " [0.04138699 0.78910967]\n",
      " [0.57662911 0.37407395]]\n",
      "[0.57662911 0.37407395]\n"
     ]
    },
    {
     "ename": "IndexError",
     "evalue": "index 3 is out of bounds for axis 3 with size 2",
     "output_type": "error",
     "traceback": [
      "\u001b[0;31m---------------------------------------------------------------------------\u001b[0m",
      "\u001b[0;31mIndexError\u001b[0m                                Traceback (most recent call last)",
      "\u001b[0;32m<ipython-input-10-dbcfee082aa1>\u001b[0m in \u001b[0;36m<module>\u001b[0;34m\u001b[0m\n\u001b[1;32m     11\u001b[0m \u001b[0;34m\u001b[0m\u001b[0m\n\u001b[1;32m     12\u001b[0m \u001b[0;31m# Fourth column of the second subgroup\u001b[0m\u001b[0;34m\u001b[0m\u001b[0;34m\u001b[0m\u001b[0;34m\u001b[0m\u001b[0m\n\u001b[0;32m---> 13\u001b[0;31m \u001b[0mprint\u001b[0m\u001b[0;34m(\u001b[0m\u001b[0mc\u001b[0m\u001b[0;34m[\u001b[0m\u001b[0;36m0\u001b[0m\u001b[0;34m,\u001b[0m\u001b[0;36m1\u001b[0m\u001b[0;34m,\u001b[0m\u001b[0;34m:\u001b[0m\u001b[0;34m,\u001b[0m\u001b[0;36m3\u001b[0m\u001b[0;34m]\u001b[0m\u001b[0;34m)\u001b[0m\u001b[0;34m\u001b[0m\u001b[0;34m\u001b[0m\u001b[0m\n\u001b[0m\u001b[1;32m     14\u001b[0m \u001b[0;34m\u001b[0m\u001b[0m\n\u001b[1;32m     15\u001b[0m \u001b[0;34m\u001b[0m\u001b[0m\n",
      "\u001b[0;31mIndexError\u001b[0m: index 3 is out of bounds for axis 3 with size 2"
     ]
    }
   ],
   "source": [
    "print(c)\n",
    "print(c[0])\n",
    "\n",
    "# Second subgroup of the first group\n",
    "print(c[0,1])\n",
    "\n",
    "\n",
    "# Third row of the second subgroup\n",
    "print(c[0,1,2])\n",
    "\n",
    "\n",
    "# Fourth column of the second subgroup\n",
    "print(c[0,1,:,3])\n",
    "\n",
    "\n",
    "# Value in the third row and fourth column of the second subgroup\n",
    "print(c[0,1,2,3])\n",
    "\n"
   ]
  },
  {
   "cell_type": "code",
   "execution_count": 17,
   "metadata": {},
   "outputs": [
    {
     "name": "stdout",
     "output_type": "stream",
     "text": [
      "[[0.32364593 0.68449856]\n",
      " [0.280965   0.14553225]]\n",
      "1.4346417392876942\n",
      "[1.00814449 0.42649725]\n",
      "[0.60461092 0.83003082]\n",
      "[[0.49895281 0.57528854]\n",
      " [0.40115816 0.52886714]\n",
      " [0.38046828 0.67149758]]\n"
     ]
    }
   ],
   "source": [
    "np.sum(a)\n",
    "print(a)\n",
    "print(a.sum())\n",
    "print(a.sum(axis=1)) # sum of rows\n",
    "print(a.sum(axis=0)) # sum of columns\n",
    "print(b.mean(axis=0))"
   ]
  },
  {
   "cell_type": "code",
   "execution_count": 18,
   "metadata": {},
   "outputs": [
    {
     "data": {
      "text/plain": [
       "array([[[2.02161661, 2.3948505 ],\n",
       "        [2.41332073, 2.93682207],\n",
       "        [2.35593926, 2.4606152 ]],\n",
       "\n",
       "       [[2.89489774, 2.9101928 ],\n",
       "        [2.77186233, 2.93726365],\n",
       "        [2.86276213, 2.7128487 ]],\n",
       "\n",
       "       [[2.2483895 , 2.43817682],\n",
       "        [2.09071176, 2.12337415],\n",
       "        [2.03890093, 2.71108488]],\n",
       "\n",
       "       [[2.8309074 , 2.55793401],\n",
       "        [2.3287378 , 2.11800867],\n",
       "        [2.2642708 , 2.80144153]]])"
      ]
     },
     "execution_count": 18,
     "metadata": {},
     "output_type": "execute_result"
    }
   ],
   "source": [
    "b+2"
   ]
  },
  {
   "cell_type": "code",
   "execution_count": 19,
   "metadata": {},
   "outputs": [
    {
     "data": {
      "text/plain": [
       "array([[[-0.97838339, -0.6051495 ],\n",
       "        [-0.58667927, -0.06317793],\n",
       "        [-0.64406074, -0.5393848 ]],\n",
       "\n",
       "       [[-0.10510226, -0.0898072 ],\n",
       "        [-0.22813767, -0.06273635],\n",
       "        [-0.13723787, -0.2871513 ]],\n",
       "\n",
       "       [[-0.7516105 , -0.56182318],\n",
       "        [-0.90928824, -0.87662585],\n",
       "        [-0.96109907, -0.28891512]],\n",
       "\n",
       "       [[-0.1690926 , -0.44206599],\n",
       "        [-0.6712622 , -0.88199133],\n",
       "        [-0.7357292 , -0.19855847]]])"
      ]
     },
     "execution_count": 19,
     "metadata": {},
     "output_type": "execute_result"
    }
   ],
   "source": [
    "b-1"
   ]
  },
  {
   "cell_type": "code",
   "execution_count": 20,
   "metadata": {},
   "outputs": [],
   "source": [
    "a = np.random.random((2,2))\n",
    "b = np.random.random((2,2))"
   ]
  },
  {
   "cell_type": "code",
   "execution_count": 21,
   "metadata": {},
   "outputs": [
    {
     "data": {
      "text/plain": [
       "(array([[0.98859436, 0.5155521 ],\n",
       "        [0.05053338, 0.7398575 ]]), array([[0.03313981, 0.48813155],\n",
       "        [0.27513593, 0.58748815]]))"
      ]
     },
     "execution_count": 21,
     "metadata": {},
     "output_type": "execute_result"
    }
   ],
   "source": [
    "a,b"
   ]
  },
  {
   "cell_type": "code",
   "execution_count": 22,
   "metadata": {},
   "outputs": [
    {
     "data": {
      "text/plain": [
       "array([[1.02173417, 1.00368365],\n",
       "       [0.32566931, 1.32734564]])"
      ]
     },
     "execution_count": 22,
     "metadata": {},
     "output_type": "execute_result"
    }
   ],
   "source": [
    "a+b"
   ]
  },
  {
   "cell_type": "code",
   "execution_count": 23,
   "metadata": {},
   "outputs": [
    {
     "data": {
      "text/plain": [
       "array([[1.02173417, 1.00368365],\n",
       "       [0.32566931, 1.32734564]])"
      ]
     },
     "execution_count": 23,
     "metadata": {},
     "output_type": "execute_result"
    }
   ],
   "source": [
    "np.add(a,b)"
   ]
  },
  {
   "cell_type": "code",
   "execution_count": 24,
   "metadata": {},
   "outputs": [
    {
     "data": {
      "text/plain": [
       "array([[ 0.95545454,  0.02742055],\n",
       "       [-0.22460255,  0.15236935]])"
      ]
     },
     "execution_count": 24,
     "metadata": {},
     "output_type": "execute_result"
    }
   ],
   "source": [
    "np.add(a,-b)"
   ]
  },
  {
   "cell_type": "code",
   "execution_count": 34,
   "metadata": {},
   "outputs": [
    {
     "data": {
      "text/plain": [
       "array([[ 0.95545454,  0.02742055],\n",
       "       [-0.22460255,  0.15236935]])"
      ]
     },
     "execution_count": 34,
     "metadata": {},
     "output_type": "execute_result"
    }
   ],
   "source": [
    "np.subtract(a,b)"
   ]
  },
  {
   "cell_type": "code",
   "execution_count": 26,
   "metadata": {},
   "outputs": [
    {
     "data": {
      "text/plain": [
       "array([[0.03276183, 0.25165725],\n",
       "       [0.01390355, 0.43465751]])"
      ]
     },
     "execution_count": 26,
     "metadata": {},
     "output_type": "execute_result"
    }
   ],
   "source": [
    "np.multiply(a,b)"
   ]
  },
  {
   "cell_type": "code",
   "execution_count": 27,
   "metadata": {},
   "outputs": [
    {
     "data": {
      "text/plain": [
       "array([[0.03276183, 0.25165725],\n",
       "       [0.01390355, 0.43465751]])"
      ]
     },
     "execution_count": 27,
     "metadata": {},
     "output_type": "execute_result"
    }
   ],
   "source": [
    "a*b "
   ]
  },
  {
   "cell_type": "code",
   "execution_count": 31,
   "metadata": {},
   "outputs": [
    {
     "data": {
      "text/plain": [
       "array([[0.03276183, 0.25165725],\n",
       "       [0.01390355, 0.43465751]])"
      ]
     },
     "execution_count": 31,
     "metadata": {},
     "output_type": "execute_result"
    }
   ],
   "source": [
    "b*a #multiplication element by element"
   ]
  },
  {
   "cell_type": "code",
   "execution_count": 28,
   "metadata": {},
   "outputs": [
    {
     "data": {
      "text/plain": [
       "array([[0.17460874, 0.78544485],\n",
       "       [0.20523605, 0.45932445]])"
      ]
     },
     "execution_count": 28,
     "metadata": {},
     "output_type": "execute_result"
    }
   ],
   "source": [
    "np.matmul(a,b)"
   ]
  },
  {
   "cell_type": "code",
   "execution_count": 30,
   "metadata": {},
   "outputs": [
    {
     "data": {
      "text/plain": [
       "array([[0.05742877, 0.37823309],\n",
       "       [0.30168559, 0.57650442]])"
      ]
     },
     "execution_count": 30,
     "metadata": {},
     "output_type": "execute_result"
    }
   ],
   "source": [
    "np.matmul(b,a) # for matrix"
   ]
  },
  {
   "cell_type": "code",
   "execution_count": 33,
   "metadata": {},
   "outputs": [
    {
     "data": {
      "text/plain": [
       "array([[29.83101664,  1.05617451],\n",
       "       [ 0.18366697,  1.25935732]])"
      ]
     },
     "execution_count": 33,
     "metadata": {},
     "output_type": "execute_result"
    }
   ],
   "source": [
    "np.divide(a,b) #divide element by element"
   ]
  },
  {
   "cell_type": "code",
   "execution_count": 35,
   "metadata": {},
   "outputs": [
    {
     "data": {
      "text/plain": [
       "3.141592653589793"
      ]
     },
     "execution_count": 35,
     "metadata": {},
     "output_type": "execute_result"
    }
   ],
   "source": [
    "np.pi"
   ]
  },
  {
   "cell_type": "code",
   "execution_count": 36,
   "metadata": {},
   "outputs": [
    {
     "data": {
      "text/plain": [
       "2.718281828459045"
      ]
     },
     "execution_count": 36,
     "metadata": {},
     "output_type": "execute_result"
    }
   ],
   "source": [
    "np.e"
   ]
  },
  {
   "cell_type": "markdown",
   "metadata": {},
   "source": [
    "# Library OS"
   ]
  },
  {
   "cell_type": "code",
   "execution_count": 37,
   "metadata": {},
   "outputs": [],
   "source": [
    "import os"
   ]
  },
  {
   "cell_type": "markdown",
   "metadata": {},
   "source": [
    "os.getcwd()\n",
    "os.chdir()\n",
    "os.path.join()\n",
    "os.makedirs()"
   ]
  },
  {
   "cell_type": "markdown",
   "metadata": {},
   "source": [
    "#open function\n",
    "open(file,mode)\n",
    "mode:  \"r\": read\n",
    "        \"a\" append\n",
    "        \"w\" write\n",
    "        \"x\"  create\n",
    "        \"t\"  for texte\n",
    "        \"binary\" for images"
   ]
  },
  {
   "cell_type": "markdown",
   "metadata": {},
   "source": [
    "Add and read a texte\n",
    "f.write\n",
    "f.read"
   ]
  }
 ],
 "metadata": {
  "kernelspec": {
   "display_name": "Python 3",
   "language": "python",
   "name": "python3"
  },
  "language_info": {
   "codemirror_mode": {
    "name": "ipython",
    "version": 3
   },
   "file_extension": ".py",
   "mimetype": "text/x-python",
   "name": "python",
   "nbconvert_exporter": "python",
   "pygments_lexer": "ipython3",
   "version": "3.7.3"
  }
 },
 "nbformat": 4,
 "nbformat_minor": 2
}

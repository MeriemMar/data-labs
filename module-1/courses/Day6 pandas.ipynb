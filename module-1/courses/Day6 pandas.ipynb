{
 "cells": [
  {
   "cell_type": "markdown",
   "metadata": {},
   "source": [
    "# Object oriented programming"
   ]
  },
  {
   "cell_type": "code",
   "execution_count": 4,
   "metadata": {},
   "outputs": [],
   "source": [
    "# it's about classes, we create functions in them, with variables \n",
    "import pandas as pd "
   ]
  },
  {
   "cell_type": "code",
   "execution_count": 5,
   "metadata": {},
   "outputs": [],
   "source": [
    "df = pd.DataFrame() # this dataframe is a classe it has a lot of functions in it that are called methods, we apply these methods to the elements we created"
   ]
  },
  {
   "cell_type": "code",
   "execution_count": 6,
   "metadata": {},
   "outputs": [
    {
     "data": {
      "text/html": [
       "<div>\n",
       "<style scoped>\n",
       "    .dataframe tbody tr th:only-of-type {\n",
       "        vertical-align: middle;\n",
       "    }\n",
       "\n",
       "    .dataframe tbody tr th {\n",
       "        vertical-align: top;\n",
       "    }\n",
       "\n",
       "    .dataframe thead th {\n",
       "        text-align: right;\n",
       "    }\n",
       "</style>\n",
       "<table border=\"1\" class=\"dataframe\">\n",
       "  <thead>\n",
       "    <tr style=\"text-align: right;\">\n",
       "      <th></th>\n",
       "      <th>list</th>\n",
       "    </tr>\n",
       "  </thead>\n",
       "  <tbody>\n",
       "    <tr>\n",
       "      <th>0</th>\n",
       "      <td>False</td>\n",
       "    </tr>\n",
       "    <tr>\n",
       "      <th>1</th>\n",
       "      <td>False</td>\n",
       "    </tr>\n",
       "    <tr>\n",
       "      <th>2</th>\n",
       "      <td>False</td>\n",
       "    </tr>\n",
       "    <tr>\n",
       "      <th>3</th>\n",
       "      <td>False</td>\n",
       "    </tr>\n",
       "    <tr>\n",
       "      <th>4</th>\n",
       "      <td>False</td>\n",
       "    </tr>\n",
       "  </tbody>\n",
       "</table>\n",
       "</div>"
      ],
      "text/plain": [
       "    list\n",
       "0  False\n",
       "1  False\n",
       "2  False\n",
       "3  False\n",
       "4  False"
      ]
     },
     "execution_count": 6,
     "metadata": {},
     "output_type": "execute_result"
    }
   ],
   "source": [
    "df['list'] = [1,2,3,4,5]\n",
    "df.sum(axis = 1)\n",
    "df.mean()\n",
    "df.isna()"
   ]
  },
  {
   "cell_type": "code",
   "execution_count": 7,
   "metadata": {},
   "outputs": [
    {
     "ename": "IndentationError",
     "evalue": "expected an indented block (<ipython-input-7-7926b940b5a5>, line 6)",
     "output_type": "error",
     "traceback": [
      "\u001b[0;36m  File \u001b[0;32m\"<ipython-input-7-7926b940b5a5>\"\u001b[0;36m, line \u001b[0;32m6\u001b[0m\n\u001b[0;31m    def roll_the_dice(self):\u001b[0m\n\u001b[0m      ^\u001b[0m\n\u001b[0;31mIndentationError\u001b[0m\u001b[0;31m:\u001b[0m expected an indented block\n"
     ]
    }
   ],
   "source": [
    "class roller():\n",
    "    def __init__(self):\n",
    "        \n",
    "        \n",
    "\n",
    "    def roll_the_dice(self):\n",
    "        import random\n",
    "        value =  random.randint(1,6)\n",
    "    def roll_the_unfair_dice(self):\n",
    "        import numpy as np\n",
    "        value = np.random.choice([1,2,3,4,5,6], p = [1/8,1/2, 1/8, 1/16, 1])\n",
    "        return value\n",
    "        \n",
    "\n",
    "    def player(self, fair):\n",
    "        if fair != 0 and fair !=1:\n",
    "            results[]\n",
    "            results_dict={}\n",
    "            for i in range(1,7):\n",
    "                results_dict[i] = 0\n",
    "            if fair = \n",
    "            elif fair==1\n",
    "            results.append(d)\n",
    "            results_dict[d]+=1\n",
    "        \n",
    "\n"
   ]
  },
  {
   "cell_type": "code",
   "execution_count": 10,
   "metadata": {},
   "outputs": [],
   "source": [
    "class Dog:\n",
    "    def __init__(self, name, age):\n",
    "        pass  # to say this class do nothing\n",
    "    \n",
    "    "
   ]
  },
  {
   "cell_type": "code",
   "execution_count": 12,
   "metadata": {},
   "outputs": [
    {
     "name": "stdout",
     "output_type": "stream",
     "text": [
      "<class '__main__.Dog'>\n"
     ]
    }
   ],
   "source": [
    "barky = Dog\n",
    "print(barky)"
   ]
  },
  {
   "cell_type": "code",
   "execution_count": 13,
   "metadata": {},
   "outputs": [],
   "source": [
    "class Dog:\n",
    "    def __init__(self, name, age):\n",
    "        self.name = name\n",
    "        self.age = age\n",
    "    \n",
    "    "
   ]
  },
  {
   "cell_type": "code",
   "execution_count": 18,
   "metadata": {},
   "outputs": [
    {
     "data": {
      "text/plain": [
       "'barky'"
      ]
     },
     "execution_count": 18,
     "metadata": {},
     "output_type": "execute_result"
    }
   ],
   "source": [
    "barky = Dog('barky', 1)\n",
    "barky.name"
   ]
  },
  {
   "cell_type": "code",
   "execution_count": null,
   "metadata": {},
   "outputs": [],
   "source": [
    "class Dog:\n",
    "    def __init__(self, name, age):\n",
    "        self.name = name\n",
    "        self.age = age\n",
    "    def bark(self):\n",
    "        \n",
    "    \n",
    "    "
   ]
  },
  {
   "cell_type": "code",
   "execution_count": 20,
   "metadata": {},
   "outputs": [
    {
     "ename": "SyntaxError",
     "evalue": "EOL while scanning string literal (<ipython-input-20-5199befcc671>, line 1)",
     "output_type": "error",
     "traceback": [
      "\u001b[0;36m  File \u001b[0;32m\"<ipython-input-20-5199befcc671>\"\u001b[0;36m, line \u001b[0;32m1\u001b[0m\n\u001b[0;31m    print(f'{barky.name} is {barky.age} y.o.))\u001b[0m\n\u001b[0m                                              ^\u001b[0m\n\u001b[0;31mSyntaxError\u001b[0m\u001b[0;31m:\u001b[0m EOL while scanning string literal\n"
     ]
    }
   ],
   "source": [
    "print(f'{barky.name} is {barky.age} y.o.))"
   ]
  },
  {
   "cell_type": "code",
   "execution_count": null,
   "metadata": {},
   "outputs": [],
   "source": [
    "barky = Dog('zippy', 1)\n",
    "barky.bark()"
   ]
  },
  {
   "cell_type": "code",
   "execution_count": 27,
   "metadata": {},
   "outputs": [],
   "source": [
    "class Dog:\n",
    "    def __init__(self, name, age):\n",
    "        self.name = name\n",
    "        self.age = age\n",
    "    def bark(self):\n",
    "        print('bark bark !')\n",
    "    def birthday(self):\n",
    "        self.age+=1\n",
    "  "
   ]
  },
  {
   "cell_type": "code",
   "execution_count": 24,
   "metadata": {},
   "outputs": [
    {
     "name": "stdout",
     "output_type": "stream",
     "text": [
      "bark bark !\n"
     ]
    }
   ],
   "source": [
    "barky = Dog('zippy', 1)\n",
    "barky.bark()\n",
    "barky.birthday()\n"
   ]
  },
  {
   "cell_type": "code",
   "execution_count": 25,
   "metadata": {},
   "outputs": [
    {
     "data": {
      "text/plain": [
       "2"
      ]
     },
     "execution_count": 25,
     "metadata": {},
     "output_type": "execute_result"
    }
   ],
   "source": [
    "barky.age"
   ]
  },
  {
   "cell_type": "code",
   "execution_count": 26,
   "metadata": {},
   "outputs": [
    {
     "data": {
      "text/plain": [
       "3"
      ]
     },
     "execution_count": 26,
     "metadata": {},
     "output_type": "execute_result"
    }
   ],
   "source": [
    "barky.birthday()\n",
    "barky.age"
   ]
  },
  {
   "cell_type": "code",
   "execution_count": 28,
   "metadata": {},
   "outputs": [],
   "source": [
    "class Dog:\n",
    "    def __init__(self, name, age):\n",
    "        self.name = name\n",
    "        self.age = age\n",
    "    def bark(self):\n",
    "        print('bark bark !')\n",
    "    def birthday(self):\n",
    "        self.age+=1\n",
    "    def setBuddy(self,buddy):\n",
    "        self.buddy = buddy\n",
    "        buddy.buddy = self # since buddy is a friend of mine, I m a friend of my buddy\n",
    "        \n",
    "        "
   ]
  },
  {
   "cell_type": "code",
   "execution_count": 34,
   "metadata": {},
   "outputs": [
    {
     "data": {
      "text/plain": [
       "'barky'"
      ]
     },
     "execution_count": 34,
     "metadata": {},
     "output_type": "execute_result"
    }
   ],
   "source": [
    "barky = Dog('barky',1)\n",
    "fluffy = Dog('fluffy',1)\n",
    "barky.setBuddy(fluffy)\n",
    "barky.buddy.name # we can creat a methode that uses a method of the same class\n",
    "barky.buddy.age\n",
    "fluffy.buddy.name"
   ]
  },
  {
   "cell_type": "code",
   "execution_count": null,
   "metadata": {},
   "outputs": [],
   "source": []
  },
  {
   "cell_type": "code",
   "execution_count": 36,
   "metadata": {},
   "outputs": [
    {
     "ename": "AttributeError",
     "evalue": "'Dog' object has no attribute 'buddy'",
     "output_type": "error",
     "traceback": [
      "\u001b[0;31m---------------------------------------------------------------------------\u001b[0m",
      "\u001b[0;31mAttributeError\u001b[0m                            Traceback (most recent call last)",
      "\u001b[0;32m<ipython-input-36-585641b0454b>\u001b[0m in \u001b[0;36m<module>\u001b[0;34m\u001b[0m\n\u001b[1;32m      1\u001b[0m \u001b[0mfluffy2\u001b[0m \u001b[0;34m=\u001b[0m \u001b[0mDog\u001b[0m\u001b[0;34m(\u001b[0m\u001b[0;34m'fluffy2'\u001b[0m\u001b[0;34m,\u001b[0m\u001b[0;36m1\u001b[0m\u001b[0;34m)\u001b[0m\u001b[0;34m\u001b[0m\u001b[0;34m\u001b[0m\u001b[0m\n\u001b[0;32m----> 2\u001b[0;31m \u001b[0mprint\u001b[0m\u001b[0;34m(\u001b[0m\u001b[0mfluffy2\u001b[0m\u001b[0;34m.\u001b[0m\u001b[0mbuddy\u001b[0m\u001b[0;34m.\u001b[0m\u001b[0mname\u001b[0m\u001b[0;34m)\u001b[0m \u001b[0;31m# it won't work because we did not set the link between fluffy2 & barky\u001b[0m\u001b[0;34m\u001b[0m\u001b[0;34m\u001b[0m\u001b[0m\n\u001b[0m\u001b[1;32m      3\u001b[0m \u001b[0;31m#we have to call setBuddy\u001b[0m\u001b[0;34m\u001b[0m\u001b[0;34m\u001b[0m\u001b[0;34m\u001b[0m\u001b[0m\n",
      "\u001b[0;31mAttributeError\u001b[0m: 'Dog' object has no attribute 'buddy'"
     ]
    }
   ],
   "source": [
    "fluffy2 = Dog('fluffy2',1)\n",
    "print(fluffy2.buddy.name) # it won't work because we did not set the link between fluffy2 & barky\n",
    "#we have to call setBuddy"
   ]
  },
  {
   "cell_type": "code",
   "execution_count": 43,
   "metadata": {},
   "outputs": [],
   "source": [
    "class Dog:\n",
    "    species = 'mammals'\n",
    "    number_of_legs = 4\n",
    "    level_of_danger = 1\n",
    "    def __init__(self, name, age, lod = level_of_danger):\n",
    "        self.name = name\n",
    "        self.age = age\n",
    "        self.level_of_danger = lod\n",
    "    def bark(self):\n",
    "        print('bark bark !')\n",
    "    def birthday(self):\n",
    "        self.age+=1\n",
    "    def setBuddy(self,buddy):\n",
    "        self.buddy = buddy\n",
    "        buddy.buddy = self # since buddy is a friend of mine, I m a friend of my buddy\n",
    "        \n",
    "   "
   ]
  },
  {
   "cell_type": "code",
   "execution_count": 46,
   "metadata": {},
   "outputs": [
    {
     "name": "stdout",
     "output_type": "stream",
     "text": [
      "mammals 2\n",
      "mammals 1\n"
     ]
    }
   ],
   "source": [
    "a = Dog('name',1,2)\n",
    "b = Dog('name',1)\n",
    "\n",
    "print(a.species, a.level_of_danger)\n",
    "print(b.species, b.level_of_danger)"
   ]
  },
  {
   "cell_type": "code",
   "execution_count": 48,
   "metadata": {},
   "outputs": [],
   "source": [
    "class Dog:\n",
    "    species = 'mammals'\n",
    "    number_of_legs = 4\n",
    "    level_of_danger = 1\n",
    "    def __init__(self, name, age, lod = level_of_danger):\n",
    "        self.name = name\n",
    "        self.age = age\n",
    "        self.level_of_danger = lod\n",
    "    def bark(self):\n",
    "        print('bark bark !')\n",
    "    def birthday(self):\n",
    "        self.age+=1\n",
    "    def setBuddy(self,buddy):\n",
    "        self.buddy = buddy\n",
    "        buddy.buddy = self # since buddy is a friend of mine, I m a friend of my buddy\n",
    "    def cutlegs(self,noltc,nol = number_of_legs):\n",
    "        self.number_of_legs =nol-noltc"
   ]
  },
  {
   "cell_type": "code",
   "execution_count": 50,
   "metadata": {},
   "outputs": [
    {
     "name": "stdout",
     "output_type": "stream",
     "text": [
      "2\n"
     ]
    }
   ],
   "source": [
    "a = Dog('name',1,10)\n",
    "b = Dog('name',1)\n",
    "\n",
    "a.cutlegs(2)\n",
    "print(a.number_of_legs)"
   ]
  },
  {
   "cell_type": "code",
   "execution_count": 69,
   "metadata": {},
   "outputs": [],
   "source": [
    "class Dog:\n",
    "    species = 'mammals'\n",
    "    number_of_legs = 4\n",
    "    level_of_danger = 1\n",
    "    def __init__(self, name, age, lod = level_of_danger, nol = number_of_legs):\n",
    "        self.name = name\n",
    "        self.age = age\n",
    "        self.level_of_danger = lod\n",
    "    def bark(self):\n",
    "        print('bark bark !')\n",
    "    def birthday(self):\n",
    "        self.age+=1\n",
    "    def setBuddy(self,buddy):\n",
    "        self.buddy = buddy\n",
    "        buddy.buddy = self # since buddy is a friend of mine, I m a friend of my buddy\n",
    "    def cutlegs(self,noltc):\n",
    "        self.number_of_legs -=noltc\n",
    "        "
   ]
  },
  {
   "cell_type": "code",
   "execution_count": 72,
   "metadata": {},
   "outputs": [
    {
     "ename": "TypeError",
     "evalue": "cutlegs() missing 1 required positional argument: 'noltc'",
     "output_type": "error",
     "traceback": [
      "\u001b[0;31m---------------------------------------------------------------------------\u001b[0m",
      "\u001b[0;31mTypeError\u001b[0m                                 Traceback (most recent call last)",
      "\u001b[0;32m<ipython-input-72-ac979a528192>\u001b[0m in \u001b[0;36m<module>\u001b[0;34m\u001b[0m\n\u001b[1;32m      4\u001b[0m \u001b[0;34m\u001b[0m\u001b[0m\n\u001b[1;32m      5\u001b[0m \u001b[0;31m#print(a.cutlegs(2).cutlegs(2).number_of_legs) #it works\u001b[0m\u001b[0;34m\u001b[0m\u001b[0;34m\u001b[0m\u001b[0;34m\u001b[0m\u001b[0m\n\u001b[0;32m----> 6\u001b[0;31m \u001b[0mDog\u001b[0m\u001b[0;34m.\u001b[0m\u001b[0mcutlegs\u001b[0m\u001b[0;34m(\u001b[0m\u001b[0;36m2\u001b[0m\u001b[0;34m)\u001b[0m\u001b[0;34m\u001b[0m\u001b[0;34m\u001b[0m\u001b[0m\n\u001b[0m",
      "\u001b[0;31mTypeError\u001b[0m: cutlegs() missing 1 required positional argument: 'noltc'"
     ]
    }
   ],
   "source": [
    "a = Dog('name',1,10)\n",
    "b = Dog('name',1)\n",
    "\n",
    "\n",
    "#print(a.cutlegs(2).cutlegs(2).number_of_legs) #it works\n",
    "Dog.cutlegs(2)"
   ]
  },
  {
   "cell_type": "code",
   "execution_count": 89,
   "metadata": {},
   "outputs": [],
   "source": [
    "class Dog:\n",
    "    species = 'mammals'\n",
    "    number_of_legs = 4\n",
    "    level_of_danger = 1\n",
    "    def __init__(self, name, age, lod = level_of_danger, nol = number_of_legs):\n",
    "        self.name = name\n",
    "        self.age = age\n",
    "        self.level_of_danger = lod\n",
    "    def bark(self):\n",
    "        print('bark bark !')\n",
    "    def birthday(self):\n",
    "        self.age+=1\n",
    "    def setBuddy(self,buddy):\n",
    "        self.buddy = buddy\n",
    "        buddy.buddy = self # since buddy is a friend of mine, I m a friend of my buddy\n",
    "    def cutlegs(self,noltc):\n",
    "        self.number_of_legs -=noltc\n",
    "class Bulldog(Dog):\n",
    "    weight = 100\n",
    "    def run(self, speed):\n",
    "        self.speed = speed\n",
    "        print(f'{self.name}, {speed}')"
   ]
  },
  {
   "cell_type": "code",
   "execution_count": 91,
   "metadata": {},
   "outputs": [
    {
     "name": "stdout",
     "output_type": "stream",
     "text": [
      "rocky, 20\n",
      "Rocky, 20\n"
     ]
    },
    {
     "data": {
      "text/plain": [
       "20"
      ]
     },
     "execution_count": 91,
     "metadata": {},
     "output_type": "execute_result"
    }
   ],
   "source": [
    "Rocky = Bulldog('rocky', 4)\n",
    "Rocky2 = Bulldog('Rocky',6)\n",
    "Rocky.birthday()\n",
    "Rocky.age\n",
    "Rocky.run(20)\n",
    "Rocky2.run(20) # won't run because the dog has not such a methode (run)\n",
    "Rocky.weight\n",
    "Rocky.speed =20\n",
    "Rocky.speed\n"
   ]
  },
  {
   "cell_type": "code",
   "execution_count": 98,
   "metadata": {},
   "outputs": [
    {
     "data": {
      "text/plain": [
       "True"
      ]
     },
     "execution_count": 98,
     "metadata": {},
     "output_type": "execute_result"
    }
   ],
   "source": [
    "isinstance(Rocky, (Dog, Bulldog,int))"
   ]
  },
  {
   "cell_type": "markdown",
   "metadata": {},
   "source": [
    "# Lab\n",
    "\n",
    "Create a class of people working in cafe. Define the main tasks and atrributes"
   ]
  },
  {
   "cell_type": "code",
   "execution_count": 147,
   "metadata": {},
   "outputs": [
    {
     "data": {
      "text/plain": [
       "\"    def create_drink(self, position ='barman'):\\n        self.drink = \\n    def prepare_meal(self, position):\\n        self.meal = \\n    def cashier(self):\\n        self.counts_money = \\n    def manager(self):\\n        self.control = \""
      ]
     },
     "execution_count": 147,
     "metadata": {},
     "output_type": "execute_result"
    }
   ],
   "source": [
    "class cafe_worker: \n",
    "  \n",
    "    \n",
    "    def __init__(self, name, age, experience, position, task=None):\n",
    "        self.name = name\n",
    "        self.age = age\n",
    "        self.experience = experience\n",
    "        self.task = task\n",
    "       \n",
    "    def waiter(self, task='1 glass of wine'):\n",
    "        self.task = task\n",
    "    \n",
    "    def receive_task(self, other_pers):\n",
    "        self.task = other_pers.task\n",
    "        \n",
    "    def barman(self):        \n",
    "        self.task =  waiter.order\n",
    "        \n",
    "        \n",
    "       \n",
    "    \n",
    "\"\"\"    def create_drink(self, position ='barman'):\n",
    "        self.drink = \n",
    "    def prepare_meal(self, position):\n",
    "        self.meal = \n",
    "    def cashier(self):\n",
    "        self.counts_money = \n",
    "    def manager(self):\n",
    "        self.control = \"\"\"\n",
    "              \n",
    "    \n",
    "        "
   ]
  },
  {
   "cell_type": "code",
   "execution_count": 153,
   "metadata": {},
   "outputs": [
    {
     "data": {
      "text/plain": [
       "'meriem'"
      ]
     },
     "execution_count": 153,
     "metadata": {},
     "output_type": "execute_result"
    }
   ],
   "source": [
    "meriem = cafe_worker('meriem',27,4,'barmen')\n",
    "meriem.name\n"
   ]
  },
  {
   "cell_type": "code",
   "execution_count": 149,
   "metadata": {},
   "outputs": [],
   "source": [
    "me=cafe_worker('me',22,11,'waiter')"
   ]
  },
  {
   "cell_type": "code",
   "execution_count": 151,
   "metadata": {},
   "outputs": [],
   "source": [
    "me.waiter()"
   ]
  },
  {
   "cell_type": "code",
   "execution_count": 152,
   "metadata": {},
   "outputs": [
    {
     "data": {
      "text/plain": [
       "'1 glass of wine'"
      ]
     },
     "execution_count": 152,
     "metadata": {},
     "output_type": "execute_result"
    }
   ],
   "source": [
    "me.task"
   ]
  },
  {
   "cell_type": "code",
   "execution_count": 155,
   "metadata": {},
   "outputs": [],
   "source": [
    "meriem.receive_task(me)"
   ]
  },
  {
   "cell_type": "code",
   "execution_count": 156,
   "metadata": {},
   "outputs": [
    {
     "data": {
      "text/plain": [
       "'1 glass of wine'"
      ]
     },
     "execution_count": 156,
     "metadata": {},
     "output_type": "execute_result"
    }
   ],
   "source": [
    "meriem.task"
   ]
  },
  {
   "cell_type": "code",
   "execution_count": 125,
   "metadata": {},
   "outputs": [],
   "source": [
    "me.waiter('viande hache','chef')"
   ]
  },
  {
   "cell_type": "code",
   "execution_count": 137,
   "metadata": {},
   "outputs": [
    {
     "data": {
      "text/plain": [
       "[]"
      ]
     },
     "execution_count": 137,
     "metadata": {},
     "output_type": "execute_result"
    }
   ],
   "source": [
    "barm=cafe_worker('micka',26,4,'barman')\n",
    "barm.task"
   ]
  },
  {
   "cell_type": "code",
   "execution_count": 157,
   "metadata": {},
   "outputs": [],
   "source": [
    "class Coffee_workers:\n",
    "    \n",
    "    species=\"human\"\n",
    "    wage=1500\n",
    "    tasks=[]\n",
    "    \n",
    "    def __init__(default,name,rank,tasks):\n",
    "        default.name=name\n",
    "        default.rank=rank\n",
    "        default.tasks=tasks\n",
    "        \n",
    "    def SetCoworker(default,coworker):\n",
    "        default.coworker=coworker\n",
    "        coworker.coworker=self\n",
    "        \n",
    "class Waiter(Coffee_workers):\n",
    "    \n",
    "    rank=4\n",
    "    \n",
    "class Barman(Coffee_workers):\n",
    "    \n",
    "    rank=3\n",
    "\n",
    "    def Barman_wage(default,wage):\n",
    "        default.wage+=(wage+300)\n",
    "        \n",
    "class Assistant_manager(Coffee_workers):\n",
    "    \n",
    "    rank=2\n",
    "\n",
    "    def Assistant_manager_wage(default,wage):\n",
    "        default.wage+=(wage+600)\n",
    "\n",
    "class Manager(Coffee_workers):\n",
    "    \n",
    "    rank=1\n",
    "    task = \"assign tasks\"\n",
    "    \n",
    "    def Manager_wage(default,wage):\n",
    "        default.wage+=(wage+900)\n",
    "\n",
    "    def order(default,worker):\n",
    "        worker.tasks.append(input(\"Your task : \"))"
   ]
  },
  {
   "cell_type": "code",
   "execution_count": 162,
   "metadata": {},
   "outputs": [
    {
     "name": "stdout",
     "output_type": "stream",
     "text": [
      "Your task : Prends vite la commande !!!\n"
     ]
    }
   ],
   "source": [
    "meriem=Waiter('meriem',4,[])\n",
    "manager = Manager('manager', 1,[])\n",
    "manager.order(meriem)"
   ]
  },
  {
   "cell_type": "code",
   "execution_count": 163,
   "metadata": {},
   "outputs": [
    {
     "data": {
      "text/plain": [
       "['Prends vite la commande !!!']"
      ]
     },
     "execution_count": 163,
     "metadata": {},
     "output_type": "execute_result"
    }
   ],
   "source": [
    "meriem.tasks"
   ]
  }
 ],
 "metadata": {
  "kernelspec": {
   "display_name": "Python 3",
   "language": "python",
   "name": "python3"
  },
  "language_info": {
   "codemirror_mode": {
    "name": "ipython",
    "version": 3
   },
   "file_extension": ".py",
   "mimetype": "text/x-python",
   "name": "python",
   "nbconvert_exporter": "python",
   "pygments_lexer": "ipython3",
   "version": "3.7.3"
  }
 },
 "nbformat": 4,
 "nbformat_minor": 2
}

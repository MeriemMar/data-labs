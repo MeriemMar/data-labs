{
 "cells": [
  {
   "cell_type": "markdown",
   "metadata": {},
   "source": [
    "# Handling errors"
   ]
  },
  {
   "cell_type": "code",
   "execution_count": 10,
   "metadata": {},
   "outputs": [],
   "source": [
    "def perimeter(dimensions = [1,2,3], shape = 3):\n",
    "    max_shape = 8\n",
    "    if type(dimensions) is not list or (type(shape) is not int):\n",
    "        return('Error ! my mind goes crazy')\n",
    "    if shape>max_shape:\n",
    "        print(\"we don't accept your data !!\")\n",
    "    elif len(dimensions)!= shape:\n",
    "        print(\"we don't accept your data again!!\")\n",
    "    else:\n",
    "        for i in dimensions:\n",
    "            if type(i) not in [int, float]:\n",
    "                return('ERROR. Numbers. I can eat only numbers')\n",
    "        return(sum(dimensions))\n",
    "d = [1,2,3,-4]"
   ]
  },
  {
   "cell_type": "code",
   "execution_count": 86,
   "metadata": {},
   "outputs": [
    {
     "name": "stdout",
     "output_type": "stream",
     "text": [
      "[1, 2, 1, 1, 2, 4, 4, 4, 4]\n"
     ]
    },
    {
     "data": {
      "text/plain": [
       "{1: 3, 2: 2, 4: 4}"
      ]
     },
     "execution_count": 86,
     "metadata": {},
     "output_type": "execute_result"
    }
   ],
   "source": [
    "import random\n",
    "\n",
    "\n",
    "\n",
    "def roll_a_dice():\n",
    "    return random.randint(1,6)\n",
    "\n",
    "def player(number_of_games=3 ,fairness=True):\n",
    "    liste=[]\n",
    "    if fairness == True:    \n",
    "        if type(number_of_games) is not int:\n",
    "            return ('error !!')\n",
    "        else:            \n",
    "            liste =[roll_a_dice() for i in range(number_of_games)]\n",
    "            print(liste)   \n",
    "            return {i:liste.count(i) for i in set(liste)}\n",
    "    else:\n",
    "        if type(number_of_games) is not int:\n",
    "            return ('error !!')\n",
    "        else:\n",
    "            for i in range(number_of_games):\n",
    "                if i<number_of_games/2:                    \n",
    "                    liste.append(random.randint(1,6))\n",
    "                else:\n",
    "                    liste.append(4) \n",
    "            [random.randint(1,6) if i<number_of_games/2 else 4 for i in range(number_of_games)]\n",
    "            print(liste)\n",
    "            return {i:liste.count(i) for i in set(liste)}\n",
    "\n",
    "        \n",
    "np.random.choice(5, 3, p=[0.1, 0, 0.3, 0.6, 0])    \n",
    "\n",
    "player(9,0)\n",
    "\n",
    "\n",
    "\n",
    "    "
   ]
  },
  {
   "cell_type": "code",
   "execution_count": 89,
   "metadata": {},
   "outputs": [
    {
     "name": "stdout",
     "output_type": "stream",
     "text": [
      "None\n"
     ]
    }
   ],
   "source": [
    "import random\n",
    "biased = (0.2,0.1,0.15,0.25,0.15)#liste des probabilités\n",
    "#fonction qui retourne un nombre biaisé selon les probabilités\n",
    "def roll(dist):\n",
    "    randRoll = random.random() #in [0,1]\n",
    "#    randRoll = random.random()*k  #in [0,1] # si la somme de biased depasse 1 on multiplie par la somme k\n",
    "    a = 0\n",
    "    result = 1\n",
    "    for mass in dist: \n",
    "        a +=mass\n",
    "        if randRoll<a:\n",
    "            return result\n",
    "        result+=1\n",
    "print(roll(biased))\n"
   ]
  },
  {
   "cell_type": "code",
   "execution_count": 64,
   "metadata": {},
   "outputs": [
    {
     "name": "stdout",
     "output_type": "stream",
     "text": [
      "[6]\n"
     ]
    }
   ],
   "source": [
    "a=[]\n",
    "a.append(4|2)\n",
    "print(a)"
   ]
  },
  {
   "cell_type": "code",
   "execution_count": 83,
   "metadata": {},
   "outputs": [
    {
     "data": {
      "text/plain": [
       "True"
      ]
     },
     "execution_count": 83,
     "metadata": {},
     "output_type": "execute_result"
    }
   ],
   "source": [
    "'4'.isdigit()"
   ]
  },
  {
   "cell_type": "code",
   "execution_count": 47,
   "metadata": {},
   "outputs": [
    {
     "name": "stdout",
     "output_type": "stream",
     "text": [
      "cool\n",
      "cool\n",
      "cool\n"
     ]
    }
   ],
   "source": [
    "import random\n",
    "random.randint(1,6)\n",
    "\n",
    "for i in range(3):\n",
    "    print('cool')"
   ]
  },
  {
   "cell_type": "code",
   "execution_count": 57,
   "metadata": {},
   "outputs": [
    {
     "ename": "NameError",
     "evalue": "name 'number_of_games' is not defined",
     "output_type": "error",
     "traceback": [
      "\u001b[0;31m---------------------------------------------------------------------------\u001b[0m",
      "\u001b[0;31mNameError\u001b[0m                                 Traceback (most recent call last)",
      "\u001b[0;32m<ipython-input-57-b3cf6ddb4a13>\u001b[0m in \u001b[0;36m<module>\u001b[0;34m\u001b[0m\n\u001b[0;32m----> 1\u001b[0;31m \u001b[0;34m[\u001b[0m\u001b[0mroll_a_dice\u001b[0m\u001b[0;34m(\u001b[0m\u001b[0;34m)\u001b[0m \u001b[0;32mfor\u001b[0m \u001b[0mi\u001b[0m \u001b[0;32min\u001b[0m \u001b[0mrange\u001b[0m\u001b[0;34m(\u001b[0m\u001b[0mnumber_of_games\u001b[0m\u001b[0;34m)\u001b[0m\u001b[0;34m]\u001b[0m\u001b[0;34m\u001b[0m\u001b[0;34m\u001b[0m\u001b[0m\n\u001b[0m",
      "\u001b[0;31mNameError\u001b[0m: name 'number_of_games' is not defined"
     ]
    }
   ],
   "source": [
    "[roll_a_dice() for i in range(number_of_games)]"
   ]
  },
  {
   "cell_type": "code",
   "execution_count": null,
   "metadata": {},
   "outputs": [],
   "source": []
  }
 ],
 "metadata": {
  "kernelspec": {
   "display_name": "Python 3",
   "language": "python",
   "name": "python3"
  },
  "language_info": {
   "codemirror_mode": {
    "name": "ipython",
    "version": 3
   },
   "file_extension": ".py",
   "mimetype": "text/x-python",
   "name": "python",
   "nbconvert_exporter": "python",
   "pygments_lexer": "ipython3",
   "version": "3.7.3"
  }
 },
 "nbformat": 4,
 "nbformat_minor": 2
}

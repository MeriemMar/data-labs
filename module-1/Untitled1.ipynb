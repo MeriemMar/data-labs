{
 "cells": [
  {
   "cell_type": "code",
   "execution_count": 3,
   "metadata": {
    "scrolled": true
   },
   "outputs": [
    {
     "name": "stdout",
     "output_type": "stream",
     "text": [
      "Please enter a text tyrtrh\n",
      "zIVZVp\n",
      "entrer the encrypted textzIVZVp\n",
      "Tyrtrh\n"
     ]
    }
   ],
   "source": [
    "import random\n",
    "\n",
    "letters_lower = []\n",
    "text = input('Please enter a text ')\n",
    "\n",
    "letters = ['A','B','C','D','E','F','G','H','I','J','K','L','M','N','O','P','Q','R','S','T','U','V','W','X','Y','Z']\n",
    "letters_lower = [l.lower() for l in letters]\n",
    "letters_values = random.sample(letters_lower, len(letters)) #random.shuffle\n",
    "\n",
    "\n",
    "letters_match = {}\n",
    "for i,letter  in enumerate(letters):\n",
    "    letters_match.update({letter:letters_values[i]})\n",
    "    \n",
    "text_encrypted=text.upper()\n",
    "for l in text_encrypted:\n",
    "    text_encrypted = text_encrypted.replace(l,letters_match[l])\n",
    "\n",
    "text_random=''\n",
    "for l in text_encrypted :    \n",
    "    if random.randint(0,1): \n",
    "        text_random += l.upper()\n",
    "    else:\n",
    "        text_random +=l\n",
    "print(text_random)\n",
    "\n",
    "#w=random.randint(0,1)\n",
    "#w*x.upper()+(1-w)*.lower()\n",
    "\n",
    "text2= input('entrer the encrypted text')\n",
    "text_decrypted= text2.lower()\n",
    "\n",
    "for l in text_decrypted:\n",
    "   \n",
    "    for i, item in enumerate(letters_match.items()):\n",
    "        if l == item[1]:\n",
    "            text_decrypted = text_decrypted.replace(l,item[0]) \n",
    "print(text_decrypted.title())\n",
    "            \n",
    "\n",
    "\n",
    "\n"
   ]
  },
  {
   "cell_type": "code",
   "execution_count": null,
   "metadata": {},
   "outputs": [],
   "source": []
  },
  {
   "cell_type": "code",
   "execution_count": null,
   "metadata": {},
   "outputs": [],
   "source": [
    "\n",
    "\n"
   ]
  },
  {
   "cell_type": "code",
   "execution_count": null,
   "metadata": {},
   "outputs": [],
   "source": []
  },
  {
   "cell_type": "code",
   "execution_count": 130,
   "metadata": {},
   "outputs": [
    {
     "data": {
      "text/plain": [
       "{'A': 'C',\n",
       " 'B': 'Y',\n",
       " 'C': 'K',\n",
       " 'D': 'U',\n",
       " 'E': 'B',\n",
       " 'F': 'D',\n",
       " 'G': 'Z',\n",
       " 'H': 'J',\n",
       " 'I': 'R',\n",
       " 'J': 'W',\n",
       " 'K': 'G',\n",
       " 'L': 'Q',\n",
       " 'M': 'P',\n",
       " 'N': 'F',\n",
       " 'O': 'L',\n",
       " 'P': 'N',\n",
       " 'Q': 'E',\n",
       " 'R': 'A',\n",
       " 'S': 'S',\n",
       " 'T': 'H',\n",
       " 'U': 'I',\n",
       " 'V': 'T',\n",
       " 'W': 'M',\n",
       " 'X': 'V',\n",
       " 'Y': 'O',\n",
       " 'Z': 'X'}"
      ]
     },
     "execution_count": 130,
     "metadata": {},
     "output_type": "execute_result"
    }
   ],
   "source": [
    "letters_match"
   ]
  },
  {
   "cell_type": "code",
   "execution_count": null,
   "metadata": {},
   "outputs": [],
   "source": []
  },
  {
   "cell_type": "code",
   "execution_count": null,
   "metadata": {},
   "outputs": [],
   "source": []
  },
  {
   "cell_type": "code",
   "execution_count": 101,
   "metadata": {},
   "outputs": [
    {
     "name": "stdout",
     "output_type": "stream",
     "text": [
      "('A', 'T')\n",
      "('B', 'U')\n",
      "('C', 'I')\n",
      "('D', 'N')\n",
      "('E', 'Z')\n",
      "('F', 'C')\n",
      "('G', 'H')\n",
      "('H', 'M')\n",
      "('I', 'W')\n",
      "('J', 'R')\n",
      "('K', 'L')\n",
      "('L', 'D')\n",
      "('M', 'A')\n",
      "('N', 'Q')\n",
      "('O', 'P')\n",
      "('P', 'B')\n",
      "('Q', 'G')\n",
      "('R', 'O')\n",
      "('S', 'S')\n",
      "('T', 'V')\n",
      "('U', 'K')\n",
      "('V', 'X')\n",
      "('W', 'Y')\n",
      "('X', 'F')\n",
      "('Y', 'J')\n",
      "('Z', 'E')\n"
     ]
    }
   ],
   "source": [
    "letters_match.items()\n",
    "for i,item in enumerate(letters_match.items()):\n",
    "    print(item)"
   ]
  },
  {
   "cell_type": "code",
   "execution_count": 96,
   "metadata": {},
   "outputs": [],
   "source": [
    "for l in text2:\n",
    "    for item in enumerate(letters_match.items()):\n",
    "        if l == item[1]:\n",
    "            print(item[0])"
   ]
  },
  {
   "cell_type": "code",
   "execution_count": 82,
   "metadata": {},
   "outputs": [
    {
     "name": "stdout",
     "output_type": "stream",
     "text": [
      "A N\n",
      "B U\n",
      "C W\n",
      "D C\n",
      "E D\n",
      "F S\n",
      "G B\n",
      "H I\n",
      "I K\n",
      "J G\n",
      "K H\n",
      "L L\n",
      "M T\n",
      "N Q\n",
      "O J\n",
      "P E\n",
      "Q R\n",
      "R F\n",
      "S M\n",
      "T A\n",
      "U Z\n",
      "V X\n",
      "W Y\n",
      "X P\n",
      "Y O\n",
      "Z V\n"
     ]
    }
   ],
   "source": [
    "for i in enumerate(letters_match.items()):\n",
    "    print(i)"
   ]
  },
  {
   "cell_type": "code",
   "execution_count": 88,
   "metadata": {},
   "outputs": [
    {
     "data": {
      "text/plain": [
       "1"
      ]
     },
     "execution_count": 88,
     "metadata": {},
     "output_type": "execute_result"
    }
   ],
   "source": [
    "def azeazea():\n",
    "    global i\n",
    "    i='é'\n",
    "    return(1)\n",
    "azeazea()"
   ]
  },
  {
   "cell_type": "code",
   "execution_count": 89,
   "metadata": {},
   "outputs": [
    {
     "data": {
      "text/plain": [
       "'é'"
      ]
     },
     "execution_count": 89,
     "metadata": {},
     "output_type": "execute_result"
    }
   ],
   "source": [
    "i"
   ]
  },
  {
   "cell_type": "code",
   "execution_count": 90,
   "metadata": {},
   "outputs": [
    {
     "name": "stdout",
     "output_type": "stream",
     "text": [
      "é\n"
     ]
    }
   ],
   "source": [
    "def aze():\n",
    "    print(i)\n",
    "    \n",
    "aze()"
   ]
  },
  {
   "cell_type": "code",
   "execution_count": null,
   "metadata": {},
   "outputs": [],
   "source": [
    "\n",
    "\n"
   ]
  },
  {
   "cell_type": "code",
   "execution_count": null,
   "metadata": {},
   "outputs": [],
   "source": []
  },
  {
   "cell_type": "code",
   "execution_count": null,
   "metadata": {},
   "outputs": [],
   "source": []
  },
  {
   "cell_type": "code",
   "execution_count": 85,
   "metadata": {},
   "outputs": [
    {
     "data": {
      "text/plain": [
       "(1, 2)"
      ]
     },
     "execution_count": 85,
     "metadata": {},
     "output_type": "execute_result"
    }
   ],
   "source": [
    "i"
   ]
  },
  {
   "cell_type": "code",
   "execution_count": null,
   "metadata": {},
   "outputs": [],
   "source": []
  },
  {
   "cell_type": "code",
   "execution_count": null,
   "metadata": {},
   "outputs": [],
   "source": []
  },
  {
   "cell_type": "code",
   "execution_count": null,
   "metadata": {},
   "outputs": [],
   "source": []
  },
  {
   "cell_type": "code",
   "execution_count": null,
   "metadata": {},
   "outputs": [],
   "source": []
  },
  {
   "cell_type": "code",
   "execution_count": null,
   "metadata": {},
   "outputs": [],
   "source": []
  },
  {
   "cell_type": "code",
   "execution_count": null,
   "metadata": {},
   "outputs": [],
   "source": []
  },
  {
   "cell_type": "code",
   "execution_count": null,
   "metadata": {},
   "outputs": [],
   "source": []
  },
  {
   "cell_type": "code",
   "execution_count": null,
   "metadata": {},
   "outputs": [],
   "source": []
  },
  {
   "cell_type": "code",
   "execution_count": null,
   "metadata": {},
   "outputs": [],
   "source": []
  },
  {
   "cell_type": "code",
   "execution_count": null,
   "metadata": {},
   "outputs": [],
   "source": []
  },
  {
   "cell_type": "code",
   "execution_count": null,
   "metadata": {},
   "outputs": [],
   "source": []
  },
  {
   "cell_type": "code",
   "execution_count": 65,
   "metadata": {},
   "outputs": [
    {
     "name": "stdout",
     "output_type": "stream",
     "text": [
      "X\n"
     ]
    }
   ],
   "source": [
    "import random\n",
    "x='X'\n",
    "if random.randint(0,1): \n",
    "    x=x.lower()\n",
    "print(x)"
   ]
  },
  {
   "cell_type": "code",
   "execution_count": null,
   "metadata": {},
   "outputs": [],
   "source": []
  },
  {
   "cell_type": "code",
   "execution_count": null,
   "metadata": {},
   "outputs": [],
   "source": []
  },
  {
   "cell_type": "code",
   "execution_count": 64,
   "metadata": {},
   "outputs": [],
   "source": [
    "text_maj=text_maj.replace(l,letters_match[l])"
   ]
  },
  {
   "cell_type": "code",
   "execution_count": 65,
   "metadata": {},
   "outputs": [
    {
     "data": {
      "text/plain": [
       "'IRONHACO'"
      ]
     },
     "execution_count": 65,
     "metadata": {},
     "output_type": "execute_result"
    }
   ],
   "source": [
    "text_maj"
   ]
  },
  {
   "cell_type": "code",
   "execution_count": null,
   "metadata": {},
   "outputs": [],
   "source": []
  },
  {
   "cell_type": "code",
   "execution_count": null,
   "metadata": {},
   "outputs": [],
   "source": []
  },
  {
   "cell_type": "code",
   "execution_count": null,
   "metadata": {},
   "outputs": [],
   "source": []
  },
  {
   "cell_type": "code",
   "execution_count": 53,
   "metadata": {},
   "outputs": [
    {
     "data": {
      "text/plain": [
       "'Okrtok'"
      ]
     },
     "execution_count": 53,
     "metadata": {},
     "output_type": "execute_result"
    }
   ],
   "source": [
    "text.replace('l', 'O')"
   ]
  }
 ],
 "metadata": {
  "kernelspec": {
   "display_name": "Python 3",
   "language": "python",
   "name": "python3"
  },
  "language_info": {
   "codemirror_mode": {
    "name": "ipython",
    "version": 3
   },
   "file_extension": ".py",
   "mimetype": "text/x-python",
   "name": "python",
   "nbconvert_exporter": "python",
   "pygments_lexer": "ipython3",
   "version": "3.7.3"
  }
 },
 "nbformat": 4,
 "nbformat_minor": 2
}

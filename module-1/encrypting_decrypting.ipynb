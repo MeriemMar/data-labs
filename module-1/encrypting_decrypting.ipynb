{
 "cells": [
  {
   "cell_type": "code",
   "execution_count": 23,
   "metadata": {
    "scrolled": true
   },
   "outputs": [
    {
     "name": "stdout",
     "output_type": "stream",
     "text": [
      "Please enter a text meriem\n",
      "JHIAhJ\n",
      "entrer the encrypted textJHIAhJ\n",
      "Meriem\n"
     ]
    }
   ],
   "source": [
    "import random\n",
    "import re\n",
    "letters_lower = []\n",
    "text = input('Please enter a text ')\n",
    "\n",
    "letters = ['A','B','C','D','E','F','G','H','I','J','K','L','M','N','O','P','Q','R','S','T','U','V','W','X','Y','Z']\n",
    "letters_lower = [l.lower() for l in letters]\n",
    "letters_values = random.sample(letters_lower, len(letters)) #random.shuffle\n",
    "\n",
    "\n",
    "letters_match = {}\n",
    "for i,letter  in enumerate(letters):\n",
    "    letters_match.update({letter:letters_values[i]})\n",
    "    \n",
    "text_encrypted=text.upper()\n",
    "for l in text_encrypted:\n",
    "    if re.search('[A-Za-z]',l):\n",
    "        text_encrypted = text_encrypted.replace(l,letters_match[l])\n",
    "    \n",
    "        \n",
    "text_random=''\n",
    "for l in text_encrypted :    \n",
    "    if random.randint(0,1): \n",
    "        text_random += l.upper()\n",
    "    else:\n",
    "        text_random +=l\n",
    "print(text_random)\n",
    "\n",
    "#w=random.randint(0,1)\n",
    "#w*x.upper()+(1-w)*.lower()\n",
    "\n",
    "text2= input('entrer the encrypted text')\n",
    "text_decrypted= text2.lower()\n",
    "\n",
    "for l in text_decrypted:\n",
    "   \n",
    "    for i, item in enumerate(letters_match.items()):\n",
    "        if l == item[1]:\n",
    "            text_decrypted = text_decrypted.replace(l,item[0]) \n",
    "print(text_decrypted.title())\n",
    "            \n",
    "\n"
   ]
  },
  {
   "cell_type": "code",
   "execution_count": 91,
   "metadata": {},
   "outputs": [],
   "source": [
    "import random\n",
    "import string\n",
    "\n",
    "def encrypt():\n",
    "    \n",
    "    text = input('Please enter a text ')\n",
    "    text = text.upper()\n",
    "\n",
    "   # letters = string.printable\n",
    "    letters = (string.ascii_lowercase) + (string.digits) + (string.punctuation) + ' '\n",
    "\n",
    "    letters_values = random.sample(letters, len(letters)) #random.shuffle\n",
    "    global letters_match\n",
    "    letters_match = {}\n",
    "    for i,letter  in enumerate(letters.upper()):\n",
    "        letters_match.update({letter:letters_values[i]})\n",
    "    for l in text:    \n",
    "        text = text.replace(l,letters_match[l])\n",
    "    text_random=''\n",
    "    for l in text :    \n",
    "        if random.randint(0,1): \n",
    "            text_random += l.upper()\n",
    "        else:\n",
    "            text_random +=l\n",
    "    return text_random\n",
    "\n",
    "def decrypt(text):\n",
    "    text = text.lower()\n",
    "    for l in text:\n",
    "        for i, item in enumerate(letters_match.items()):\n",
    "            if l == item[1]:\n",
    "                text= text.replace(l,item[0]) \n",
    "    \n",
    "    return text"
   ]
  },
  {
   "cell_type": "code",
   "execution_count": 95,
   "metadata": {},
   "outputs": [
    {
     "name": "stdout",
     "output_type": "stream",
     "text": [
      "Please enter a text Pack my box with five dozen liquor jugs. \n",
      "JBm%T*|T,Q0TI-X~T\\-$`TLQ2`vT@->:QWt_:#nBT\n"
     ]
    }
   ],
   "source": [
    "encrypted_text = encrypt()\n",
    "print(encrypted_text)\n",
    "\n",
    "\n"
   ]
  },
  {
   "cell_type": "code",
   "execution_count": 96,
   "metadata": {},
   "outputs": [
    {
     "name": "stdout",
     "output_type": "stream",
     "text": [
      "Please enter a text JBm%T*|T,Q0TI-X~T\\-$`TLQ2`vT@->:QWt_:#nBT\n",
      "P.ck my box with five dozen liquor jugs. \n"
     ]
    }
   ],
   "source": [
    "decrypted_text = decrypt(input('Please enter a text '))\n",
    "print(decrypted_text.capitalize())"
   ]
  },
  {
   "cell_type": "code",
   "execution_count": 98,
   "metadata": {
    "scrolled": true
   },
   "outputs": [
    {
     "data": {
      "text/plain": [
       "{'A': '.',\n",
       " 'B': ',',\n",
       " 'C': 'm',\n",
       " 'D': 'l',\n",
       " 'E': '`',\n",
       " 'F': '\\\\',\n",
       " 'G': '#',\n",
       " 'H': '~',\n",
       " 'I': '-',\n",
       " 'J': '_',\n",
       " 'K': '%',\n",
       " 'L': '@',\n",
       " 'M': '*',\n",
       " 'N': 'v',\n",
       " 'O': 'q',\n",
       " 'P': 'j',\n",
       " 'Q': '>',\n",
       " 'R': 'w',\n",
       " 'S': 'n',\n",
       " 'T': 'x',\n",
       " 'U': ':',\n",
       " 'V': '$',\n",
       " 'W': 'i',\n",
       " 'X': '0',\n",
       " 'Y': '|',\n",
       " 'Z': '2',\n",
       " '0': 'd',\n",
       " '1': \"'\",\n",
       " '2': ')',\n",
       " '3': 'f',\n",
       " '4': 'z',\n",
       " '5': '!',\n",
       " '6': 'y',\n",
       " '7': '[',\n",
       " '8': '(',\n",
       " '9': '&',\n",
       " '!': '?',\n",
       " '\"': '{',\n",
       " '#': '+',\n",
       " '$': '9',\n",
       " '%': 'g',\n",
       " '&': '6',\n",
       " \"'\": '/',\n",
       " '(': ';',\n",
       " ')': 'e',\n",
       " '*': 'a',\n",
       " '+': 'o',\n",
       " ',': 'k',\n",
       " '-': 'c',\n",
       " '.': 'b',\n",
       " '/': '8',\n",
       " ':': '7',\n",
       " ';': '^',\n",
       " '<': '3',\n",
       " '=': 'h',\n",
       " '>': '1',\n",
       " '?': '\"',\n",
       " '@': 'u',\n",
       " '[': 'r',\n",
       " '\\\\': '5',\n",
       " ']': 'p',\n",
       " '^': ']',\n",
       " '_': ' ',\n",
       " '`': '=',\n",
       " '{': '}',\n",
       " '|': '4',\n",
       " '}': 's',\n",
       " '~': '<',\n",
       " ' ': 't'}"
      ]
     },
     "execution_count": 98,
     "metadata": {},
     "output_type": "execute_result"
    }
   ],
   "source": [
    "letters_match\n"
   ]
  },
  {
   "cell_type": "code",
   "execution_count": 65,
   "metadata": {
    "scrolled": true
   },
   "outputs": [
    {
     "data": {
      "text/plain": [
       "{'a': ';',\n",
       " 'b': '|',\n",
       " 'c': '>',\n",
       " 'd': '.',\n",
       " 'e': 'n',\n",
       " 'f': 'y',\n",
       " 'g': '\"',\n",
       " 'h': ' ',\n",
       " 'i': 'e',\n",
       " 'j': '*',\n",
       " 'k': 's',\n",
       " 'l': 'z',\n",
       " 'm': 'q',\n",
       " 'n': '/',\n",
       " 'o': 'l',\n",
       " 'p': '5',\n",
       " 'q': '(',\n",
       " 'r': 'f',\n",
       " 's': 'v',\n",
       " 't': 'm',\n",
       " 'u': '7',\n",
       " 'v': 'r',\n",
       " 'w': 'd',\n",
       " 'x': '4',\n",
       " 'y': ')',\n",
       " 'z': 'c',\n",
       " '0': '#',\n",
       " '1': '$',\n",
       " '2': 'p',\n",
       " '3': '%',\n",
       " '4': 'i',\n",
       " '5': \"'\",\n",
       " '6': 't',\n",
       " '7': 'u',\n",
       " '8': '!',\n",
       " '9': '\\\\',\n",
       " '!': '=',\n",
       " '\"': '}',\n",
       " '#': '@',\n",
       " '$': '&',\n",
       " '%': '6',\n",
       " '&': 'w',\n",
       " \"'\": ':',\n",
       " '(': '1',\n",
       " ')': 'h',\n",
       " '*': '[',\n",
       " '+': 'o',\n",
       " ',': '-',\n",
       " '-': 'j',\n",
       " '.': 'g',\n",
       " '/': '`',\n",
       " ':': '_',\n",
       " ';': ',',\n",
       " '<': '+',\n",
       " '=': '2',\n",
       " '>': 'b',\n",
       " '?': '<',\n",
       " '@': 'a',\n",
       " '[': '^',\n",
       " '\\\\': '?',\n",
       " ']': '8',\n",
       " '^': ']',\n",
       " '_': '3',\n",
       " '`': 'k',\n",
       " '{': '{',\n",
       " '|': '~',\n",
       " '}': 'x',\n",
       " '~': '0',\n",
       " ' ': '9'}"
      ]
     },
     "execution_count": 65,
     "metadata": {},
     "output_type": "execute_result"
    }
   ],
   "source": [
    "The quick brown fox jumps over a lazy dog. "
   ]
  },
  {
   "cell_type": "code",
   "execution_count": 61,
   "metadata": {},
   "outputs": [
    {
     "name": "stdout",
     "output_type": "stream",
     "text": [
      "Please enter a text The quick brown fox jumps over a lazy dog. \n"
     ]
    },
    {
     "data": {
      "text/plain": [
       "(':(|\"~65<#\";(}2c\"f}6\"\"6!(j\"}7|(\"1\"|1tF\"-}S+\"',\n",
       " {'a': '1',\n",
       "  'b': ';',\n",
       "  'c': '<',\n",
       "  'd': '-',\n",
       "  'e': 'l',\n",
       "  'f': 'y',\n",
       "  'g': 's',\n",
       "  'h': 'p',\n",
       "  'i': '5',\n",
       "  'j': ' ',\n",
       "  'k': '#',\n",
       "  'l': '|',\n",
       "  'm': '!',\n",
       "  'n': 'c',\n",
       "  'o': '}',\n",
       "  'p': 'r',\n",
       "  'q': '~',\n",
       "  'r': '(',\n",
       "  's': 'j',\n",
       "  't': ':',\n",
       "  'u': 'x',\n",
       "  'v': '7',\n",
       "  'w': '2',\n",
       "  'x': '6',\n",
       "  'y': 'f',\n",
       "  'z': 't',\n",
       "  '0': '_',\n",
       "  '1': '9',\n",
       "  '2': 'e',\n",
       "  '3': 'z',\n",
       "  '4': '3',\n",
       "  '5': 'h',\n",
       "  '6': '*',\n",
       "  '7': 'n',\n",
       "  '8': 'q',\n",
       "  '9': '^',\n",
       "  '!': 'v',\n",
       "  '\"': '&',\n",
       "  '#': '.',\n",
       "  '$': 'o',\n",
       "  '%': '%',\n",
       "  '&': '[',\n",
       "  \"'\": '4',\n",
       "  '(': 'i',\n",
       "  ')': 'd',\n",
       "  '*': '`',\n",
       "  '+': '=',\n",
       "  ',': 'b',\n",
       "  '-': 'a',\n",
       "  '.': '+',\n",
       "  '/': 'g',\n",
       "  ':': 'w',\n",
       "  ';': 'k',\n",
       "  '<': ')',\n",
       "  '=': ',',\n",
       "  '>': '?',\n",
       "  '?': '>',\n",
       "  '@': 'u',\n",
       "  '[': '0',\n",
       "  '\\\\': '{',\n",
       "  ']': \"'\",\n",
       "  '^': '\\\\',\n",
       "  '_': ']',\n",
       "  '`': '/',\n",
       "  '{': '8',\n",
       "  '|': 'm',\n",
       "  '}': '@',\n",
       "  '~': '$',\n",
       "  ' ': '\"'})"
      ]
     },
     "execution_count": 61,
     "metadata": {},
     "output_type": "execute_result"
    }
   ],
   "source": [
    "import random\n",
    "import string\n",
    "\n",
    "def encrypt():\n",
    "    \n",
    "    text = input('Please enter a text ')\n",
    "    text = text.lower()\n",
    "\n",
    "   # letters = string.printable\n",
    "    letters = (string.ascii_lowercase) + (string.digits) + (string.punctuation) + ' '\n",
    "\n",
    "    letters_values = random.sample(letters, len(letters)) #random.shuffle\n",
    "    letters_match = {}\n",
    "    for i,letter  in enumerate(letters):\n",
    "        letters_match.update({letter:letters_values[i]})\n",
    "    for l in text:    \n",
    "        text = text.replace(l,letters_match[l])\n",
    "    text_random=''\n",
    "    for l in text :    \n",
    "        if random.randint(0,1): \n",
    "            text_random += l.upper()\n",
    "        else:\n",
    "            text_random +=l\n",
    "    return text_random, letters_match\n",
    "encrypt()"
   ]
  },
  {
   "cell_type": "markdown",
   "metadata": {},
   "source": [
    "1. Another algorithm of encription - numbers and characters\n",
    "2. The rest is Perfect\n",
    "3. Library 'string' for the list of all characters existing\n",
    "4. Fix spelling\n",
    "5. Split into functions - store the key"
   ]
  },
  {
   "cell_type": "code",
   "execution_count": 101,
   "metadata": {},
   "outputs": [
    {
     "name": "stdout",
     "output_type": "stream",
     "text": [
      "('A', 'T')\n",
      "('B', 'U')\n",
      "('C', 'I')\n",
      "('D', 'N')\n",
      "('E', 'Z')\n",
      "('F', 'C')\n",
      "('G', 'H')\n",
      "('H', 'M')\n",
      "('I', 'W')\n",
      "('J', 'R')\n",
      "('K', 'L')\n",
      "('L', 'D')\n",
      "('M', 'A')\n",
      "('N', 'Q')\n",
      "('O', 'P')\n",
      "('P', 'B')\n",
      "('Q', 'G')\n",
      "('R', 'O')\n",
      "('S', 'S')\n",
      "('T', 'V')\n",
      "('U', 'K')\n",
      "('V', 'X')\n",
      "('W', 'Y')\n",
      "('X', 'F')\n",
      "('Y', 'J')\n",
      "('Z', 'E')\n"
     ]
    }
   ],
   "source": [
    "letters_match.items()\n",
    "for i,item in enumerate(letters_match.items()):\n",
    "    print(item)"
   ]
  },
  {
   "cell_type": "code",
   "execution_count": 4,
   "metadata": {},
   "outputs": [
    {
     "ename": "NameError",
     "evalue": "name 'text2' is not defined",
     "output_type": "error",
     "traceback": [
      "\u001b[0;31m---------------------------------------------------------------------------\u001b[0m",
      "\u001b[0;31mNameError\u001b[0m                                 Traceback (most recent call last)",
      "\u001b[0;32m<ipython-input-4-9dae76f9d68f>\u001b[0m in \u001b[0;36m<module>\u001b[0;34m\u001b[0m\n\u001b[0;32m----> 1\u001b[0;31m \u001b[0;32mfor\u001b[0m \u001b[0ml\u001b[0m \u001b[0;32min\u001b[0m \u001b[0mtext2\u001b[0m\u001b[0;34m:\u001b[0m\u001b[0;34m\u001b[0m\u001b[0;34m\u001b[0m\u001b[0m\n\u001b[0m\u001b[1;32m      2\u001b[0m     \u001b[0;32mfor\u001b[0m \u001b[0mitem\u001b[0m \u001b[0;32min\u001b[0m \u001b[0menumerate\u001b[0m\u001b[0;34m(\u001b[0m\u001b[0mletters_match\u001b[0m\u001b[0;34m.\u001b[0m\u001b[0mitems\u001b[0m\u001b[0;34m(\u001b[0m\u001b[0;34m)\u001b[0m\u001b[0;34m)\u001b[0m\u001b[0;34m:\u001b[0m\u001b[0;34m\u001b[0m\u001b[0;34m\u001b[0m\u001b[0m\n\u001b[1;32m      3\u001b[0m         \u001b[0;32mif\u001b[0m \u001b[0ml\u001b[0m \u001b[0;34m==\u001b[0m \u001b[0mitem\u001b[0m\u001b[0;34m[\u001b[0m\u001b[0;36m1\u001b[0m\u001b[0;34m]\u001b[0m\u001b[0;34m:\u001b[0m\u001b[0;34m\u001b[0m\u001b[0;34m\u001b[0m\u001b[0m\n\u001b[1;32m      4\u001b[0m             \u001b[0mprint\u001b[0m\u001b[0;34m(\u001b[0m\u001b[0mitem\u001b[0m\u001b[0;34m[\u001b[0m\u001b[0;36m0\u001b[0m\u001b[0;34m]\u001b[0m\u001b[0;34m)\u001b[0m\u001b[0;34m\u001b[0m\u001b[0;34m\u001b[0m\u001b[0m\n",
      "\u001b[0;31mNameError\u001b[0m: name 'text2' is not defined"
     ]
    }
   ],
   "source": [
    "for l in text2:\n",
    "    for item in enumerate(letters_match.items()):\n",
    "        if l == item[1]:\n",
    "            print(item[0])"
   ]
  },
  {
   "cell_type": "code",
   "execution_count": 82,
   "metadata": {},
   "outputs": [
    {
     "name": "stdout",
     "output_type": "stream",
     "text": [
      "A N\n",
      "B U\n",
      "C W\n",
      "D C\n",
      "E D\n",
      "F S\n",
      "G B\n",
      "H I\n",
      "I K\n",
      "J G\n",
      "K H\n",
      "L L\n",
      "M T\n",
      "N Q\n",
      "O J\n",
      "P E\n",
      "Q R\n",
      "R F\n",
      "S M\n",
      "T A\n",
      "U Z\n",
      "V X\n",
      "W Y\n",
      "X P\n",
      "Y O\n",
      "Z V\n"
     ]
    }
   ],
   "source": [
    "for i in enumerate(letters_match.items()):\n",
    "    print(i)"
   ]
  },
  {
   "cell_type": "code",
   "execution_count": 88,
   "metadata": {},
   "outputs": [
    {
     "data": {
      "text/plain": [
       "1"
      ]
     },
     "execution_count": 88,
     "metadata": {},
     "output_type": "execute_result"
    }
   ],
   "source": [
    "def azeazea():\n",
    "    global i\n",
    "    i='é'\n",
    "    return(1)\n",
    "azeazea()"
   ]
  }
 ],
 "metadata": {
  "kernelspec": {
   "display_name": "Python 3",
   "language": "python",
   "name": "python3"
  },
  "language_info": {
   "codemirror_mode": {
    "name": "ipython",
    "version": 3
   },
   "file_extension": ".py",
   "mimetype": "text/x-python",
   "name": "python",
   "nbconvert_exporter": "python",
   "pygments_lexer": "ipython3",
   "version": "3.7.3"
  }
 },
 "nbformat": 4,
 "nbformat_minor": 2
}

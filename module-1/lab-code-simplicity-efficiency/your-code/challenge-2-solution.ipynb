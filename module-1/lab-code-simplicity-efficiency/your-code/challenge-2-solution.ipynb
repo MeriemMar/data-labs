{
 "cells": [
  {
   "cell_type": "code",
   "execution_count": 6,
   "metadata": {},
   "outputs": [
    {
     "name": "stdout",
     "output_type": "stream",
     "text": [
      "Enter minimum string length: 3\n",
      "Enter maximum string length: 6\n",
      "How many random strings to generate? 6\n",
      "['ybrwe', 'dgra0', '04o5e', 'b6l4h', '82wr7', '0btej']\n"
     ]
    }
   ],
   "source": [
    "#Generate a random string containing  numbers and lower case English letters \n",
    "#we used the string library for ascii lowercase and digits.\n",
    "\n",
    "import string\n",
    "def RandomStringGenerator(l=12, liste = list(string.ascii_lowercase + string.digits)):\n",
    "    \n",
    "    import random\n",
    "    sampling = random.sample(liste, l)\n",
    "    return (''.join(sampling))\n",
    "\n",
    "# Generate a given number of strings that have a random length\n",
    "def BatchStringGenerator(n, a=8, b=12):\n",
    "    import random\n",
    "    import string\n",
    "    c = None\n",
    "    if a<b:\n",
    "        c = random.choice(range(a, b)) # random length \n",
    "    elif a==b:\n",
    "        c=a\n",
    "    else:\n",
    "        import sys\n",
    "        sys.exit('Incorrect min and max string lengths. Try again.')\n",
    "          \n",
    "    r= [RandomStringGenerator(c) for i in range(n)] # list of random strings with random length between min and max length given\n",
    "    return r\n",
    "\n",
    "a = input('Enter minimum string length: ')\n",
    "b = input('Enter maximum string length: ')\n",
    "n = input('How many random strings to generate? ')\n",
    "\n",
    "print(BatchStringGenerator(int(n), int(a), int(b)))\n"
   ]
  }
 ],
 "metadata": {
  "kernelspec": {
   "display_name": "Python 3",
   "language": "python",
   "name": "python3"
  },
  "language_info": {
   "codemirror_mode": {
    "name": "ipython",
    "version": 3
   },
   "file_extension": ".py",
   "mimetype": "text/x-python",
   "name": "python",
   "nbconvert_exporter": "python",
   "pygments_lexer": "ipython3",
   "version": "3.7.3"
  }
 },
 "nbformat": 4,
 "nbformat_minor": 2
}

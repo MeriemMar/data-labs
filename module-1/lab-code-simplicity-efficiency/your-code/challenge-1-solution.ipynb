{
 "cells": [
  {
   "cell_type": "code",
   "execution_count": null,
   "metadata": {},
   "outputs": [],
   "source": [
    "# add the inputs for the user to enter the variables\n",
    "\n",
    "print('Welcome to this calculator!')\n",
    "\n",
    "print('It can add and subtract whole numbers from zero to five')\n",
    "a = input('Please choose your first number (zero to five): ')\n",
    "b = input('What do you want to do? plus or minus: ')\n",
    "c = input('Please choose your second number (zero to five): ')\n",
    "\n",
    "# we create a dictionary, the keys are numbers in the form of English word, and the values are numbers \n",
    "\n",
    "dict = {'zero':'0','one':'1','two':'2','three':'3','four':'4','five':'5',\n",
    "        'six':'6','seven':'7','eight':'8','nine':'9','ten':'10'}\n",
    "\n",
    "# two cases, addition or substraction\n",
    "\n",
    "if b == 'minus':\n",
    "    \n",
    "    if int(dict[a])<int(dict[c]):    \n",
    "        print(f'{a} {b} {c} equals negative {abs(int(dict[a])-int(dict[c]))}')\n",
    "    else:\n",
    "        print(f'{a} {b} {c} equals {abs(int(dict[a])-int(dict[c]))}')\n",
    "\n",
    "\n",
    "elif b =='plus':\n",
    "    \n",
    "        print(f'{a} {b} {c} equals {int(dict[a])+int(dict[c])}')\n",
    "\n",
    "else:\n",
    "        print(\"I am not able to answer this question. Check your input.\")\n",
    "\n",
    "\n",
    "print(\"Thanks for using this calculator, goodbye :)\")\n"
   ]
  }
 ],
 "metadata": {
  "kernelspec": {
   "display_name": "Python 3",
   "language": "python",
   "name": "python3"
  },
  "language_info": {
   "codemirror_mode": {
    "name": "ipython",
    "version": 3
   },
   "file_extension": ".py",
   "mimetype": "text/x-python",
   "name": "python",
   "nbconvert_exporter": "python",
   "pygments_lexer": "ipython3",
   "version": "3.7.3"
  }
 },
 "nbformat": 4,
 "nbformat_minor": 2
}

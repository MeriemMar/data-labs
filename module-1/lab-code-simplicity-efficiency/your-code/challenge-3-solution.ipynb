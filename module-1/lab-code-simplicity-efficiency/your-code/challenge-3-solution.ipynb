{
 "cells": [
  {
   "cell_type": "code",
   "execution_count": 2,
   "metadata": {},
   "outputs": [
    {
     "name": "stdout",
     "output_type": "stream",
     "text": [
      "What is the maximal length of the triangle side? Enter a number: 8\n",
      "The longest side possible is 5\n"
     ]
    }
   ],
   "source": [
    "#The input is the length of the triangle side\n",
    "\n",
    "def my_function():\n",
    "    X = input(\"What is the maximal length of the triangle side? Enter a number: \")\n",
    "    X= int(X)\n",
    "    if X>5:\n",
    "#list comprehension that loop into the three sides of the triangle to choose the combination for a right triangle\n",
    "\n",
    "        solutions = [[x,y,z] for z in range(1,X) for y in range(1,X) for x in range(1,X)  if (x*x==y*y+z*z) ]\n",
    "    \n",
    "#It chooses the maximum length of all the sides of the triangles among possibilities \n",
    "\n",
    "        print (f'The longest side possible is {max(max(solutions))}')\n",
    "    else:\n",
    "        print (\"Sorry you number is not larger than 5\")\n",
    "        \n",
    "\n",
    "my_function()"
   ]
  }
 ],
 "metadata": {
  "kernelspec": {
   "display_name": "Python 3",
   "language": "python",
   "name": "python3"
  },
  "language_info": {
   "codemirror_mode": {
    "name": "ipython",
    "version": 3
   },
   "file_extension": ".py",
   "mimetype": "text/x-python",
   "name": "python",
   "nbconvert_exporter": "python",
   "pygments_lexer": "ipython3",
   "version": "3.7.3"
  }
 },
 "nbformat": 4,
 "nbformat_minor": 2
}

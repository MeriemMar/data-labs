{
 "cells": [
  {
   "cell_type": "code",
   "execution_count": 1,
   "metadata": {},
   "outputs": [],
   "source": [
    "import pandas as pd \n",
    "%matplotlib inline"
   ]
  },
  {
   "cell_type": "code",
   "execution_count": 4,
   "metadata": {},
   "outputs": [],
   "source": [
    "census= pd.read_csv('acs2015_county_data.csv')"
   ]
  },
  {
   "cell_type": "code",
   "execution_count": 5,
   "metadata": {},
   "outputs": [
    {
     "data": {
      "text/html": [
       "<div>\n",
       "<style scoped>\n",
       "    .dataframe tbody tr th:only-of-type {\n",
       "        vertical-align: middle;\n",
       "    }\n",
       "\n",
       "    .dataframe tbody tr th {\n",
       "        vertical-align: top;\n",
       "    }\n",
       "\n",
       "    .dataframe thead th {\n",
       "        text-align: right;\n",
       "    }\n",
       "</style>\n",
       "<table border=\"1\" class=\"dataframe\">\n",
       "  <thead>\n",
       "    <tr style=\"text-align: right;\">\n",
       "      <th></th>\n",
       "      <th>CensusId</th>\n",
       "      <th>TotalPop</th>\n",
       "      <th>Men</th>\n",
       "      <th>Women</th>\n",
       "      <th>Hispanic</th>\n",
       "      <th>White</th>\n",
       "      <th>Black</th>\n",
       "      <th>Native</th>\n",
       "      <th>Asian</th>\n",
       "      <th>Pacific</th>\n",
       "      <th>...</th>\n",
       "      <th>Walk</th>\n",
       "      <th>OtherTransp</th>\n",
       "      <th>WorkAtHome</th>\n",
       "      <th>MeanCommute</th>\n",
       "      <th>Employed</th>\n",
       "      <th>PrivateWork</th>\n",
       "      <th>PublicWork</th>\n",
       "      <th>SelfEmployed</th>\n",
       "      <th>FamilyWork</th>\n",
       "      <th>Unemployment</th>\n",
       "    </tr>\n",
       "  </thead>\n",
       "  <tbody>\n",
       "    <tr>\n",
       "      <th>count</th>\n",
       "      <td>3220.000000</td>\n",
       "      <td>3.220000e+03</td>\n",
       "      <td>3.220000e+03</td>\n",
       "      <td>3.220000e+03</td>\n",
       "      <td>3220.000000</td>\n",
       "      <td>3220.000000</td>\n",
       "      <td>3220.000000</td>\n",
       "      <td>3220.000000</td>\n",
       "      <td>3220.000000</td>\n",
       "      <td>3220.000000</td>\n",
       "      <td>...</td>\n",
       "      <td>3220.000000</td>\n",
       "      <td>3220.000000</td>\n",
       "      <td>3220.000000</td>\n",
       "      <td>3220.000000</td>\n",
       "      <td>3.220000e+03</td>\n",
       "      <td>3220.000000</td>\n",
       "      <td>3220.000000</td>\n",
       "      <td>3220.000000</td>\n",
       "      <td>3220.000000</td>\n",
       "      <td>3220.000000</td>\n",
       "    </tr>\n",
       "    <tr>\n",
       "      <th>mean</th>\n",
       "      <td>31393.605280</td>\n",
       "      <td>9.940935e+04</td>\n",
       "      <td>4.889694e+04</td>\n",
       "      <td>5.051241e+04</td>\n",
       "      <td>11.011522</td>\n",
       "      <td>75.428789</td>\n",
       "      <td>8.665497</td>\n",
       "      <td>1.723509</td>\n",
       "      <td>1.229068</td>\n",
       "      <td>0.082733</td>\n",
       "      <td>...</td>\n",
       "      <td>3.323509</td>\n",
       "      <td>1.612733</td>\n",
       "      <td>4.631770</td>\n",
       "      <td>23.278758</td>\n",
       "      <td>4.559352e+04</td>\n",
       "      <td>74.219348</td>\n",
       "      <td>17.560870</td>\n",
       "      <td>7.931801</td>\n",
       "      <td>0.288106</td>\n",
       "      <td>8.094441</td>\n",
       "    </tr>\n",
       "    <tr>\n",
       "      <th>std</th>\n",
       "      <td>16292.078954</td>\n",
       "      <td>3.193055e+05</td>\n",
       "      <td>1.566813e+05</td>\n",
       "      <td>1.626620e+05</td>\n",
       "      <td>19.241380</td>\n",
       "      <td>22.932890</td>\n",
       "      <td>14.279122</td>\n",
       "      <td>7.253115</td>\n",
       "      <td>2.633079</td>\n",
       "      <td>0.734931</td>\n",
       "      <td>...</td>\n",
       "      <td>3.756096</td>\n",
       "      <td>1.670988</td>\n",
       "      <td>3.178772</td>\n",
       "      <td>5.600466</td>\n",
       "      <td>1.496995e+05</td>\n",
       "      <td>7.863188</td>\n",
       "      <td>6.510354</td>\n",
       "      <td>3.914974</td>\n",
       "      <td>0.455137</td>\n",
       "      <td>4.096114</td>\n",
       "    </tr>\n",
       "    <tr>\n",
       "      <th>min</th>\n",
       "      <td>1001.000000</td>\n",
       "      <td>8.500000e+01</td>\n",
       "      <td>4.200000e+01</td>\n",
       "      <td>4.300000e+01</td>\n",
       "      <td>0.000000</td>\n",
       "      <td>0.000000</td>\n",
       "      <td>0.000000</td>\n",
       "      <td>0.000000</td>\n",
       "      <td>0.000000</td>\n",
       "      <td>0.000000</td>\n",
       "      <td>...</td>\n",
       "      <td>0.000000</td>\n",
       "      <td>0.000000</td>\n",
       "      <td>0.000000</td>\n",
       "      <td>4.900000</td>\n",
       "      <td>6.200000e+01</td>\n",
       "      <td>25.000000</td>\n",
       "      <td>5.800000</td>\n",
       "      <td>0.000000</td>\n",
       "      <td>0.000000</td>\n",
       "      <td>0.000000</td>\n",
       "    </tr>\n",
       "    <tr>\n",
       "      <th>25%</th>\n",
       "      <td>19032.500000</td>\n",
       "      <td>1.121800e+04</td>\n",
       "      <td>5.637250e+03</td>\n",
       "      <td>5.572000e+03</td>\n",
       "      <td>1.900000</td>\n",
       "      <td>64.100000</td>\n",
       "      <td>0.500000</td>\n",
       "      <td>0.100000</td>\n",
       "      <td>0.200000</td>\n",
       "      <td>0.000000</td>\n",
       "      <td>...</td>\n",
       "      <td>1.400000</td>\n",
       "      <td>0.900000</td>\n",
       "      <td>2.700000</td>\n",
       "      <td>19.500000</td>\n",
       "      <td>4.550750e+03</td>\n",
       "      <td>70.500000</td>\n",
       "      <td>13.100000</td>\n",
       "      <td>5.400000</td>\n",
       "      <td>0.100000</td>\n",
       "      <td>5.500000</td>\n",
       "    </tr>\n",
       "    <tr>\n",
       "      <th>50%</th>\n",
       "      <td>30024.000000</td>\n",
       "      <td>2.603500e+04</td>\n",
       "      <td>1.293200e+04</td>\n",
       "      <td>1.305700e+04</td>\n",
       "      <td>3.900000</td>\n",
       "      <td>84.100000</td>\n",
       "      <td>1.900000</td>\n",
       "      <td>0.300000</td>\n",
       "      <td>0.500000</td>\n",
       "      <td>0.000000</td>\n",
       "      <td>...</td>\n",
       "      <td>2.400000</td>\n",
       "      <td>1.300000</td>\n",
       "      <td>3.900000</td>\n",
       "      <td>23.000000</td>\n",
       "      <td>1.050800e+04</td>\n",
       "      <td>75.700000</td>\n",
       "      <td>16.200000</td>\n",
       "      <td>6.900000</td>\n",
       "      <td>0.200000</td>\n",
       "      <td>7.600000</td>\n",
       "    </tr>\n",
       "    <tr>\n",
       "      <th>75%</th>\n",
       "      <td>46105.500000</td>\n",
       "      <td>6.643050e+04</td>\n",
       "      <td>3.299275e+04</td>\n",
       "      <td>3.348750e+04</td>\n",
       "      <td>9.825000</td>\n",
       "      <td>93.200000</td>\n",
       "      <td>9.600000</td>\n",
       "      <td>0.600000</td>\n",
       "      <td>1.200000</td>\n",
       "      <td>0.000000</td>\n",
       "      <td>...</td>\n",
       "      <td>4.000000</td>\n",
       "      <td>1.900000</td>\n",
       "      <td>5.600000</td>\n",
       "      <td>26.800000</td>\n",
       "      <td>2.863275e+04</td>\n",
       "      <td>79.700000</td>\n",
       "      <td>20.500000</td>\n",
       "      <td>9.400000</td>\n",
       "      <td>0.300000</td>\n",
       "      <td>9.900000</td>\n",
       "    </tr>\n",
       "    <tr>\n",
       "      <th>max</th>\n",
       "      <td>72153.000000</td>\n",
       "      <td>1.003839e+07</td>\n",
       "      <td>4.945351e+06</td>\n",
       "      <td>5.093037e+06</td>\n",
       "      <td>99.900000</td>\n",
       "      <td>99.800000</td>\n",
       "      <td>85.900000</td>\n",
       "      <td>92.100000</td>\n",
       "      <td>41.600000</td>\n",
       "      <td>35.300000</td>\n",
       "      <td>...</td>\n",
       "      <td>71.200000</td>\n",
       "      <td>39.100000</td>\n",
       "      <td>37.200000</td>\n",
       "      <td>44.000000</td>\n",
       "      <td>4.635465e+06</td>\n",
       "      <td>88.300000</td>\n",
       "      <td>66.200000</td>\n",
       "      <td>36.600000</td>\n",
       "      <td>9.800000</td>\n",
       "      <td>36.500000</td>\n",
       "    </tr>\n",
       "  </tbody>\n",
       "</table>\n",
       "<p>8 rows × 35 columns</p>\n",
       "</div>"
      ],
      "text/plain": [
       "           CensusId      TotalPop           Men         Women     Hispanic  \\\n",
       "count   3220.000000  3.220000e+03  3.220000e+03  3.220000e+03  3220.000000   \n",
       "mean   31393.605280  9.940935e+04  4.889694e+04  5.051241e+04    11.011522   \n",
       "std    16292.078954  3.193055e+05  1.566813e+05  1.626620e+05    19.241380   \n",
       "min     1001.000000  8.500000e+01  4.200000e+01  4.300000e+01     0.000000   \n",
       "25%    19032.500000  1.121800e+04  5.637250e+03  5.572000e+03     1.900000   \n",
       "50%    30024.000000  2.603500e+04  1.293200e+04  1.305700e+04     3.900000   \n",
       "75%    46105.500000  6.643050e+04  3.299275e+04  3.348750e+04     9.825000   \n",
       "max    72153.000000  1.003839e+07  4.945351e+06  5.093037e+06    99.900000   \n",
       "\n",
       "             White        Black       Native        Asian      Pacific  ...  \\\n",
       "count  3220.000000  3220.000000  3220.000000  3220.000000  3220.000000  ...   \n",
       "mean     75.428789     8.665497     1.723509     1.229068     0.082733  ...   \n",
       "std      22.932890    14.279122     7.253115     2.633079     0.734931  ...   \n",
       "min       0.000000     0.000000     0.000000     0.000000     0.000000  ...   \n",
       "25%      64.100000     0.500000     0.100000     0.200000     0.000000  ...   \n",
       "50%      84.100000     1.900000     0.300000     0.500000     0.000000  ...   \n",
       "75%      93.200000     9.600000     0.600000     1.200000     0.000000  ...   \n",
       "max      99.800000    85.900000    92.100000    41.600000    35.300000  ...   \n",
       "\n",
       "              Walk  OtherTransp   WorkAtHome  MeanCommute      Employed  \\\n",
       "count  3220.000000  3220.000000  3220.000000  3220.000000  3.220000e+03   \n",
       "mean      3.323509     1.612733     4.631770    23.278758  4.559352e+04   \n",
       "std       3.756096     1.670988     3.178772     5.600466  1.496995e+05   \n",
       "min       0.000000     0.000000     0.000000     4.900000  6.200000e+01   \n",
       "25%       1.400000     0.900000     2.700000    19.500000  4.550750e+03   \n",
       "50%       2.400000     1.300000     3.900000    23.000000  1.050800e+04   \n",
       "75%       4.000000     1.900000     5.600000    26.800000  2.863275e+04   \n",
       "max      71.200000    39.100000    37.200000    44.000000  4.635465e+06   \n",
       "\n",
       "       PrivateWork   PublicWork  SelfEmployed   FamilyWork  Unemployment  \n",
       "count  3220.000000  3220.000000   3220.000000  3220.000000   3220.000000  \n",
       "mean     74.219348    17.560870      7.931801     0.288106      8.094441  \n",
       "std       7.863188     6.510354      3.914974     0.455137      4.096114  \n",
       "min      25.000000     5.800000      0.000000     0.000000      0.000000  \n",
       "25%      70.500000    13.100000      5.400000     0.100000      5.500000  \n",
       "50%      75.700000    16.200000      6.900000     0.200000      7.600000  \n",
       "75%      79.700000    20.500000      9.400000     0.300000      9.900000  \n",
       "max      88.300000    66.200000     36.600000     9.800000     36.500000  \n",
       "\n",
       "[8 rows x 35 columns]"
      ]
     },
     "execution_count": 5,
     "metadata": {},
     "output_type": "execute_result"
    }
   ],
   "source": [
    "census.describe()"
   ]
  },
  {
   "cell_type": "code",
   "execution_count": 7,
   "metadata": {},
   "outputs": [
    {
     "data": {
      "text/plain": [
       "CensusId             int64\n",
       "State               object\n",
       "County              object\n",
       "TotalPop             int64\n",
       "Men                  int64\n",
       "Women                int64\n",
       "Hispanic           float64\n",
       "White              float64\n",
       "Black              float64\n",
       "Native             float64\n",
       "Asian              float64\n",
       "Pacific            float64\n",
       "Citizen              int64\n",
       "Income             float64\n",
       "IncomeErr          float64\n",
       "IncomePerCap         int64\n",
       "IncomePerCapErr      int64\n",
       "Poverty            float64\n",
       "ChildPoverty       float64\n",
       "Professional       float64\n",
       "Service            float64\n",
       "Office             float64\n",
       "Construction       float64\n",
       "Production         float64\n",
       "Drive              float64\n",
       "Carpool            float64\n",
       "Transit            float64\n",
       "Walk               float64\n",
       "OtherTransp        float64\n",
       "WorkAtHome         float64\n",
       "MeanCommute        float64\n",
       "Employed             int64\n",
       "PrivateWork        float64\n",
       "PublicWork         float64\n",
       "SelfEmployed       float64\n",
       "FamilyWork         float64\n",
       "Unemployment       float64\n",
       "dtype: object"
      ]
     },
     "execution_count": 7,
     "metadata": {},
     "output_type": "execute_result"
    }
   ],
   "source": [
    "census.dtypes"
   ]
  },
  {
   "cell_type": "code",
   "execution_count": 6,
   "metadata": {},
   "outputs": [
    {
     "data": {
      "text/plain": [
       "Texas                   254\n",
       "Georgia                 159\n",
       "Virginia                133\n",
       "Kentucky                120\n",
       "Missouri                115\n",
       "Kansas                  105\n",
       "Illinois                102\n",
       "North Carolina          100\n",
       "Iowa                     99\n",
       "Tennessee                95\n",
       "Nebraska                 93\n",
       "Indiana                  92\n",
       "Ohio                     88\n",
       "Minnesota                87\n",
       "Michigan                 83\n",
       "Mississippi              82\n",
       "Puerto Rico              78\n",
       "Oklahoma                 77\n",
       "Arkansas                 75\n",
       "Wisconsin                72\n",
       "Alabama                  67\n",
       "Florida                  67\n",
       "Pennsylvania             67\n",
       "South Dakota             66\n",
       "Louisiana                64\n",
       "Colorado                 64\n",
       "New York                 62\n",
       "California               58\n",
       "Montana                  56\n",
       "West Virginia            55\n",
       "North Dakota             53\n",
       "South Carolina           46\n",
       "Idaho                    44\n",
       "Washington               39\n",
       "Oregon                   36\n",
       "New Mexico               33\n",
       "Utah                     29\n",
       "Alaska                   29\n",
       "Maryland                 24\n",
       "Wyoming                  23\n",
       "New Jersey               21\n",
       "Nevada                   17\n",
       "Maine                    16\n",
       "Arizona                  15\n",
       "Vermont                  14\n",
       "Massachusetts            14\n",
       "New Hampshire            10\n",
       "Connecticut               8\n",
       "Rhode Island              5\n",
       "Hawaii                    5\n",
       "Delaware                  3\n",
       "District of Columbia      1\n",
       "Name: State, dtype: int64"
      ]
     },
     "execution_count": 6,
     "metadata": {},
     "output_type": "execute_result"
    }
   ],
   "source": [
    "census.State.value_counts()"
   ]
  },
  {
   "cell_type": "code",
   "execution_count": 9,
   "metadata": {},
   "outputs": [
    {
     "data": {
      "text/plain": [
       "0    3218\n",
       "1       1\n",
       "2       1\n",
       "dtype: int64"
      ]
     },
     "execution_count": 9,
     "metadata": {},
     "output_type": "execute_result"
    }
   ],
   "source": [
    "census.isnull().sum(axis=1).value_counts()"
   ]
  },
  {
   "cell_type": "code",
   "execution_count": 20,
   "metadata": {},
   "outputs": [],
   "source": [
    "census_missing=census.dropna()"
   ]
  },
  {
   "cell_type": "code",
   "execution_count": 11,
   "metadata": {},
   "outputs": [],
   "source": [
    "census_columns=[col for col in census.columns.values if col not in ['State','County','CensusId']]"
   ]
  },
  {
   "cell_type": "code",
   "execution_count": 12,
   "metadata": {},
   "outputs": [],
   "source": [
    "from sklearn.cluster import KMeans #(unsupervised learning split data in clusters using the means)"
   ]
  },
  {
   "cell_type": "code",
   "execution_count": 13,
   "metadata": {},
   "outputs": [],
   "source": [
    "kmeans= KMeans(n_clusters=4)"
   ]
  },
  {
   "cell_type": "code",
   "execution_count": 14,
   "metadata": {},
   "outputs": [],
   "source": [
    "census_clusters=kmeans.fit(census_missing[census_columns])"
   ]
  },
  {
   "cell_type": "code",
   "execution_count": 16,
   "metadata": {},
   "outputs": [
    {
     "data": {
      "text/plain": [
       "array([[4.86137678e+04, 2.40621967e+04, 2.45515711e+04, 1.05567434e+01,\n",
       "        7.64794408e+01, 8.35263158e+00, 1.80161184e+00, 9.32302632e-01,\n",
       "        6.60197368e-02, 3.59949480e+04, 4.52585901e+04, 2.96736349e+03,\n",
       "        2.35332332e+04, 1.41598651e+03, 1.76663816e+01, 2.44105263e+01,\n",
       "        3.05263158e+01, 1.83702632e+01, 2.20742434e+01, 1.29949671e+01,\n",
       "        1.60345066e+01, 7.94196711e+01, 1.03449342e+01, 6.61085526e-01,\n",
       "        3.34588816e+00, 1.59351974e+00, 4.63578947e+00, 2.30830263e+01,\n",
       "        2.15065523e+04, 7.38485197e+01, 1.77832895e+01, 8.07098684e+00,\n",
       "        2.97006579e-01, 8.08003289e+00],\n",
       "       [2.59497053e+06, 1.27467168e+06, 1.32029884e+06, 3.28736842e+01,\n",
       "        3.98684211e+01, 1.44368421e+01, 3.31578947e-01, 9.75789474e+00,\n",
       "        1.89473684e-01, 1.65020984e+06, 5.85898947e+04, 4.97473684e+02,\n",
       "        3.08353158e+04, 2.48105263e+02, 1.68368421e+01, 2.35842105e+01,\n",
       "        3.71842105e+01, 1.95105263e+01, 2.45473684e+01, 8.02631579e+00,\n",
       "        1.07368421e+01, 6.73736842e+01, 9.48947368e+00, 1.28210526e+01,\n",
       "        3.63684211e+00, 2.17894737e+00, 4.51052632e+00, 2.92157895e+01,\n",
       "        1.20507611e+06, 8.17000000e+01, 1.18947368e+01, 6.28421053e+00,\n",
       "        1.36842105e-01, 9.23157895e+00],\n",
       "       [1.00383880e+07, 4.94535100e+06, 5.09303700e+06, 4.82000000e+01,\n",
       "        2.69000000e+01, 8.00000000e+00, 2.00000000e-01, 1.40000000e+01,\n",
       "        2.00000000e-01, 6.04674900e+06, 5.61960000e+04, 2.70000000e+02,\n",
       "        2.83370000e+04, 1.13000000e+02, 1.82000000e+01, 2.58000000e+01,\n",
       "        3.57000000e+01, 1.91000000e+01, 2.46000000e+01, 7.80000000e+00,\n",
       "        1.28000000e+01, 7.30000000e+01, 9.90000000e+00, 6.80000000e+00,\n",
       "        2.80000000e+00, 2.30000000e+00, 5.10000000e+00, 3.00000000e+01,\n",
       "        4.63546500e+06, 7.90000000e+01, 1.15000000e+01, 9.40000000e+00,\n",
       "        2.00000000e-01, 1.00000000e+01],\n",
       "       [7.14995000e+05, 3.48954639e+05, 3.66040361e+05, 1.67854430e+01,\n",
       "        6.02544304e+01, 1.41050633e+01, 3.38607595e-01, 5.71392405e+00,\n",
       "        1.68354430e-01, 4.95983386e+05, 6.12043038e+04, 8.54474684e+02,\n",
       "        3.16039367e+04, 3.98056962e+02, 1.41791139e+01, 1.99753165e+01,\n",
       "        3.92006329e+01, 1.76835443e+01, 2.45822785e+01, 8.00569620e+00,\n",
       "        1.05272152e+01, 7.64436709e+01, 9.11392405e+00, 5.50126582e+00,\n",
       "        2.59430380e+00, 1.83607595e+00, 4.50379747e+00, 2.63639241e+01,\n",
       "        3.41134006e+05, 8.07563291e+01, 1.36443038e+01, 5.46392405e+00,\n",
       "        1.39240506e-01, 8.22974684e+00]])"
      ]
     },
     "execution_count": 16,
     "metadata": {},
     "output_type": "execute_result"
    }
   ],
   "source": [
    "census_clusters.cluster_centers_ #(scikit-learn works ith arrays)"
   ]
  },
  {
   "cell_type": "code",
   "execution_count": 21,
   "metadata": {},
   "outputs": [
    {
     "name": "stderr",
     "output_type": "stream",
     "text": [
      "/anaconda3/lib/python3.7/site-packages/ipykernel_launcher.py:1: SettingWithCopyWarning: \n",
      "A value is trying to be set on a copy of a slice from a DataFrame.\n",
      "Try using .loc[row_indexer,col_indexer] = value instead\n",
      "\n",
      "See the caveats in the documentation: http://pandas.pydata.org/pandas-docs/stable/indexing.html#indexing-view-versus-copy\n",
      "  \"\"\"Entry point for launching an IPython kernel.\n"
     ]
    }
   ],
   "source": [
    "census_missing['cluster']=census_clusters.fit_predict(census_missing[census_columns])"
   ]
  },
  {
   "cell_type": "code",
   "execution_count": 24,
   "metadata": {},
   "outputs": [
    {
     "data": {
      "text/plain": [
       "0    3045\n",
       "3     153\n",
       "1      19\n",
       "2       1\n",
       "Name: cluster, dtype: int64"
      ]
     },
     "execution_count": 24,
     "metadata": {},
     "output_type": "execute_result"
    }
   ],
   "source": [
    "census_missing.cluster.value_counts() # 1 is an outlier"
   ]
  },
  {
   "cell_type": "code",
   "execution_count": 25,
   "metadata": {},
   "outputs": [
    {
     "data": {
      "text/plain": [
       "Texas             241\n",
       "Georgia           155\n",
       "Virginia          130\n",
       "Kentucky          119\n",
       "Missouri          113\n",
       "Kansas            103\n",
       "Iowa               98\n",
       "Illinois           97\n",
       "North Carolina     97\n",
       "Tennessee          92\n",
       "Nebraska           92\n",
       "Indiana            90\n",
       "Minnesota          84\n",
       "Mississippi        82\n",
       "Ohio               82\n",
       "Michigan           78\n",
       "Puerto Rico        78\n",
       "Oklahoma           75\n",
       "Arkansas           74\n",
       "Wisconsin          69\n",
       "South Dakota       66\n",
       "Alabama            65\n",
       "Louisiana          62\n",
       "Colorado           59\n",
       "Pennsylvania       58\n",
       "Montana            56\n",
       "West Virginia      55\n",
       "Florida            53\n",
       "North Dakota       53\n",
       "New York           51\n",
       "South Carolina     44\n",
       "Idaho              43\n",
       "California         37\n",
       "Washington         34\n",
       "Oregon             33\n",
       "New Mexico         32\n",
       "Alaska             29\n",
       "Utah               27\n",
       "Wyoming            23\n",
       "Maryland           19\n",
       "Maine              16\n",
       "Nevada             15\n",
       "Vermont            14\n",
       "Arizona            13\n",
       "New Jersey         10\n",
       "New Hampshire       9\n",
       "Massachusetts       6\n",
       "Connecticut         5\n",
       "Rhode Island        4\n",
       "Hawaii              3\n",
       "Delaware            2\n",
       "Name: State, dtype: int64"
      ]
     },
     "execution_count": 25,
     "metadata": {},
     "output_type": "execute_result"
    }
   ],
   "source": [
    "census_missing[census_missing.cluster==0].State.value_counts()"
   ]
  },
  {
   "cell_type": "code",
   "execution_count": 28,
   "metadata": {},
   "outputs": [
    {
     "data": {
      "text/plain": [
       "California    5\n",
       "Texas         4\n",
       "New York      3\n",
       "Florida       2\n",
       "Michigan      1\n",
       "Arizona       1\n",
       "Illinois      1\n",
       "Washington    1\n",
       "Nevada        1\n",
       "Name: State, dtype: int64"
      ]
     },
     "execution_count": 28,
     "metadata": {},
     "output_type": "execute_result"
    }
   ],
   "source": [
    "census_missing[census_missing.cluster==1].State.value_counts()"
   ]
  },
  {
   "cell_type": "code",
   "execution_count": 29,
   "metadata": {},
   "outputs": [
    {
     "data": {
      "text/plain": [
       "California    1\n",
       "Name: State, dtype: int64"
      ]
     },
     "execution_count": 29,
     "metadata": {},
     "output_type": "execute_result"
    }
   ],
   "source": [
    "census_missing[census_missing.cluster==2].State.value_counts()"
   ]
  },
  {
   "cell_type": "code",
   "execution_count": 33,
   "metadata": {},
   "outputs": [
    {
     "data": {
      "text/plain": [
       "California              15\n",
       "Florida                 12\n",
       "New Jersey              11\n",
       "Pennsylvania             9\n",
       "Massachusetts            8\n",
       "Texas                    8\n",
       "New York                 8\n",
       "Ohio                     6\n",
       "Colorado                 5\n",
       "Maryland                 5\n",
       "Michigan                 4\n",
       "Illinois                 4\n",
       "Georgia                  4\n",
       "Washington               4\n",
       "Tennessee                3\n",
       "North Carolina           3\n",
       "Wisconsin                3\n",
       "Oregon                   3\n",
       "Connecticut              3\n",
       "Virginia                 3\n",
       "Minnesota                3\n",
       "Missouri                 2\n",
       "Alabama                  2\n",
       "Louisiana                2\n",
       "Kansas                   2\n",
       "Utah                     2\n",
       "South Carolina           2\n",
       "Oklahoma                 2\n",
       "Indiana                  2\n",
       "Rhode Island             1\n",
       "Delaware                 1\n",
       "Iowa                     1\n",
       "Arkansas                 1\n",
       "New Mexico               1\n",
       "Nevada                   1\n",
       "Idaho                    1\n",
       "Nebraska                 1\n",
       "District of Columbia     1\n",
       "Hawaii                   1\n",
       "Kentucky                 1\n",
       "Arizona                  1\n",
       "New Hampshire            1\n",
       "Name: State, dtype: int64"
      ]
     },
     "execution_count": 33,
     "metadata": {},
     "output_type": "execute_result"
    }
   ],
   "source": [
    "census_missing[census_missing.cluster==3].State.value_counts()"
   ]
  },
  {
   "cell_type": "code",
   "execution_count": 30,
   "metadata": {},
   "outputs": [
    {
     "data": {
      "text/plain": [
       "cluster\n",
       "0    45264.092282\n",
       "1    58589.894737\n",
       "2    56196.000000\n",
       "3    61615.901961\n",
       "Name: Income, dtype: float64"
      ]
     },
     "execution_count": 30,
     "metadata": {},
     "output_type": "execute_result"
    }
   ],
   "source": [
    "census_missing.groupby(['cluster'])['Income'].mean()"
   ]
  },
  {
   "cell_type": "code",
   "execution_count": 34,
   "metadata": {},
   "outputs": [
    {
     "data": {
      "text/plain": [
       "cluster\n",
       "0    24.418030\n",
       "1    23.584211\n",
       "2    25.800000\n",
       "3    19.681046\n",
       "Name: ChildPoverty, dtype: float64"
      ]
     },
     "execution_count": 34,
     "metadata": {},
     "output_type": "execute_result"
    }
   ],
   "source": [
    "census_missing.groupby(['cluster'])['ChildPoverty'].mean()"
   ]
  },
  {
   "cell_type": "code",
   "execution_count": null,
   "metadata": {},
   "outputs": [],
   "source": [
    "#hierarchical clustering: divisive/agglomerative"
   ]
  },
  {
   "cell_type": "code",
   "execution_count": 41,
   "metadata": {},
   "outputs": [],
   "source": [
    "from sklearn.cluster import AgglomerativeClustering\n",
    "\n",
    "census_sample= census_missing[census_columns].sample(n=100) # perform it on a sample just for demonstration, we can do it on the whole data\n",
    "hier_clust=AgglomerativeClustering(linkage='ward')\n",
    "census_hier=hier_clust.fit(census_sample)\n"
   ]
  },
  {
   "cell_type": "code",
   "execution_count": 39,
   "metadata": {},
   "outputs": [
    {
     "data": {
      "text/plain": [
       "array([[ 50,  81],\n",
       "       [ 17,  33],\n",
       "       [  2,  58],\n",
       "       [ 64,  75],\n",
       "       [ 74,  85],\n",
       "       [  1,  59],\n",
       "       [ 60,  63],\n",
       "       [ 42,  44],\n",
       "       [ 41,  84],\n",
       "       [ 36,  70],\n",
       "       [ 32,  96],\n",
       "       [ 38,  65],\n",
       "       [  5,  79],\n",
       "       [ 39,  73],\n",
       "       [ 35,  69],\n",
       "       [ 21,  76],\n",
       "       [ 27,  68],\n",
       "       [ 45,  72],\n",
       "       [ 14,  77],\n",
       "       [  4, 107],\n",
       "       [ 22,  40],\n",
       "       [ 15,  24],\n",
       "       [ 71, 112],\n",
       "       [ 19, 113],\n",
       "       [  0, 108],\n",
       "       [ 80,  97],\n",
       "       [102, 110],\n",
       "       [  9, 120],\n",
       "       [ 47,  53],\n",
       "       [ 18,  92],\n",
       "       [ 62,  66],\n",
       "       [ 89, 122],\n",
       "       [  6,  90],\n",
       "       [ 25,  28],\n",
       "       [ 23, 121],\n",
       "       [ 43,  56],\n",
       "       [ 86,  98],\n",
       "       [100, 119],\n",
       "       [ 31, 104],\n",
       "       [ 48,  55],\n",
       "       [105, 124],\n",
       "       [117, 118],\n",
       "       [  7,  26],\n",
       "       [ 34,  61],\n",
       "       [109, 116],\n",
       "       [101, 132],\n",
       "       [123, 130],\n",
       "       [ 83, 106],\n",
       "       [115, 138],\n",
       "       [ 87,  88],\n",
       "       [ 12,  82],\n",
       "       [ 30,  95],\n",
       "       [126, 140],\n",
       "       [ 52, 127],\n",
       "       [133, 134],\n",
       "       [128, 151],\n",
       "       [  3,  49],\n",
       "       [103, 141],\n",
       "       [114, 125],\n",
       "       [ 20, 136],\n",
       "       [111, 135],\n",
       "       [129, 144],\n",
       "       [131, 153],\n",
       "       [ 16,  67],\n",
       "       [148, 154],\n",
       "       [ 13, 142],\n",
       "       [ 51, 147],\n",
       "       [157, 160],\n",
       "       [ 91, 156],\n",
       "       [ 11, 149],\n",
       "       [150, 158],\n",
       "       [146, 152],\n",
       "       [137, 159],\n",
       "       [145, 161],\n",
       "       [ 57, 143],\n",
       "       [ 99, 139],\n",
       "       [165, 167],\n",
       "       [155, 172],\n",
       "       [163, 168],\n",
       "       [ 78, 164],\n",
       "       [162, 171],\n",
       "       [166, 173],\n",
       "       [ 93, 174],\n",
       "       [170, 181],\n",
       "       [177, 179],\n",
       "       [ 37, 169],\n",
       "       [  8,  29],\n",
       "       [176, 180],\n",
       "       [ 10,  54],\n",
       "       [178, 185],\n",
       "       [184, 187],\n",
       "       [175, 182],\n",
       "       [183, 189],\n",
       "       [190, 192],\n",
       "       [186, 188],\n",
       "       [191, 193],\n",
       "       [ 46,  94],\n",
       "       [194, 195],\n",
       "       [196, 197]])"
      ]
     },
     "execution_count": 39,
     "metadata": {},
     "output_type": "execute_result"
    }
   ],
   "source": [
    "census_hier.children_"
   ]
  },
  {
   "cell_type": "code",
   "execution_count": 48,
   "metadata": {},
   "outputs": [
    {
     "data": {
      "image/png": "[encoded data removed]",
      "text/plain": [
       "<Figure size 432x288 with 1 Axes>"
      ]
     },
     "metadata": {
      "needs_background": "light"
     },
     "output_type": "display_data"
    }
   ],
   "source": [
    "from scipy.cluster.hierarchy import dendrogram\n",
    "import matplotlib.pyplot as plt\n",
    "import numpy as np\n",
    "\n",
    "def plot_dendrogram(model, **kwargs):\n",
    "        children=model.children_\n",
    "        distance=np.arange(children.shape[0])\n",
    "        no_observations=np.arange(2,children.shape[0]+2)\n",
    "        linkage_matrix= np.column_stack([children,distance,no_observations]).astype(float)\n",
    "        dendrogram(linkage_matrix, **kwargs)\n",
    "plot_dendrogram(census_hier,labels=census_hier.labels_)"
   ]
  }
 ],
 "metadata": {
  "kernelspec": {
   "display_name": "Python 3",
   "language": "python",
   "name": "python3"
  },
  "language_info": {
   "codemirror_mode": {
    "name": "ipython",
    "version": 3
   },
   "file_extension": ".py",
   "mimetype": "text/x-python",
   "name": "python",
   "nbconvert_exporter": "python",
   "pygments_lexer": "ipython3",
   "version": "3.7.3"
  }
 },
 "nbformat": 4,
 "nbformat_minor": 2
}

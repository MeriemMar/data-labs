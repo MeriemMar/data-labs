{
 "cells": [
  {
   "cell_type": "code",
   "execution_count": 2,
   "metadata": {},
   "outputs": [],
   "source": [
    "import pandas as pd"
   ]
  },
  {
   "cell_type": "code",
   "execution_count": 4,
   "metadata": {},
   "outputs": [],
   "source": [
    "df=pd.read_csv('acs2015_county_data.csv')"
   ]
  },
  {
   "cell_type": "code",
   "execution_count": 5,
   "metadata": {},
   "outputs": [
    {
     "name": "stdout",
     "output_type": "stream",
     "text": [
      "34\n",
      "36\n"
     ]
    }
   ],
   "source": [
    "import numpy as np\n",
    "\n",
    "print(np.random.randint(37))\n",
    "print(np.random.randint(37))\n"
   ]
  },
  {
   "cell_type": "code",
   "execution_count": 6,
   "metadata": {},
   "outputs": [
    {
     "data": {
      "text/html": [
       "<div>\n",
       "<style scoped>\n",
       "    .dataframe tbody tr th:only-of-type {\n",
       "        vertical-align: middle;\n",
       "    }\n",
       "\n",
       "    .dataframe tbody tr th {\n",
       "        vertical-align: top;\n",
       "    }\n",
       "\n",
       "    .dataframe thead th {\n",
       "        text-align: right;\n",
       "    }\n",
       "</style>\n",
       "<table border=\"1\" class=\"dataframe\">\n",
       "  <thead>\n",
       "    <tr style=\"text-align: right;\">\n",
       "      <th></th>\n",
       "      <th>Native</th>\n",
       "      <th>ChildPoverty</th>\n",
       "    </tr>\n",
       "  </thead>\n",
       "  <tbody>\n",
       "    <tr>\n",
       "      <th>0</th>\n",
       "      <td>0.4</td>\n",
       "      <td>18.6</td>\n",
       "    </tr>\n",
       "    <tr>\n",
       "      <th>1</th>\n",
       "      <td>0.6</td>\n",
       "      <td>19.2</td>\n",
       "    </tr>\n",
       "    <tr>\n",
       "      <th>2</th>\n",
       "      <td>0.2</td>\n",
       "      <td>45.3</td>\n",
       "    </tr>\n",
       "    <tr>\n",
       "      <th>3</th>\n",
       "      <td>0.4</td>\n",
       "      <td>27.9</td>\n",
       "    </tr>\n",
       "    <tr>\n",
       "      <th>4</th>\n",
       "      <td>0.3</td>\n",
       "      <td>27.2</td>\n",
       "    </tr>\n",
       "  </tbody>\n",
       "</table>\n",
       "</div>"
      ],
      "text/plain": [
       "   Native  ChildPoverty\n",
       "0     0.4          18.6\n",
       "1     0.6          19.2\n",
       "2     0.2          45.3\n",
       "3     0.4          27.9\n",
       "4     0.3          27.2"
      ]
     },
     "execution_count": 6,
     "metadata": {},
     "output_type": "execute_result"
    }
   ],
   "source": [
    "df.iloc[:5,[9,18]]"
   ]
  },
  {
   "cell_type": "code",
   "execution_count": null,
   "metadata": {},
   "outputs": [],
   "source": []
  },
  {
   "cell_type": "code",
   "execution_count": 7,
   "metadata": {},
   "outputs": [
    {
     "name": "stdout",
     "output_type": "stream",
     "text": [
      "(3220, 9) (3220,)\n"
     ]
    }
   ],
   "source": [
    "from sklearn.feature_selection import chi2\n",
    "from sklearn.feature_selection import SelectKBest\n",
    "select = SelectKBest(chi2,k=6)\n",
    "X = df.iloc[:,9:18]\n",
    "y = df.iloc[:,19]\n",
    "print(X.shape,y.shape)\n"
   ]
  },
  {
   "cell_type": "code",
   "execution_count": 10,
   "metadata": {},
   "outputs": [
    {
     "data": {
      "text/plain": [
       "2673"
      ]
     },
     "execution_count": 10,
     "metadata": {},
     "output_type": "execute_result"
    }
   ],
   "source": [
    "X[pd.isnull(X).any(axis=1)].index[0]"
   ]
  },
  {
   "cell_type": "code",
   "execution_count": 11,
   "metadata": {},
   "outputs": [],
   "source": [
    "y.drop(X[pd.isnull(X).any(axis=1)].index[0], inplace=True)\n",
    "\n",
    "X.dropna(inplace=True)\n"
   ]
  },
  {
   "cell_type": "code",
   "execution_count": 12,
   "metadata": {},
   "outputs": [
    {
     "name": "stdout",
     "output_type": "stream",
     "text": [
      "(3219, 9) (3219,)\n"
     ]
    }
   ],
   "source": [
    "print(X.shape,y.shape)"
   ]
  },
  {
   "cell_type": "code",
   "execution_count": 19,
   "metadata": {},
   "outputs": [
    {
     "ename": "ValueError",
     "evalue": "Unknown label type: (array([33.2, 33.1, 26.8, ..., 23.6, 25.9, 28.1]),)",
     "output_type": "error",
     "traceback": [
      "\u001b[0;31m---------------------------------------------------------------------------\u001b[0m",
      "\u001b[0;31mValueError\u001b[0m                                Traceback (most recent call last)",
      "\u001b[0;32m<ipython-input-19-48088bc04194>\u001b[0m in \u001b[0;36m<module>\u001b[0;34m\u001b[0m\n\u001b[0;32m----> 1\u001b[0;31m \u001b[0mX_new\u001b[0m\u001b[0;34m=\u001b[0m\u001b[0mselect\u001b[0m\u001b[0;34m.\u001b[0m\u001b[0mfit_transform\u001b[0m\u001b[0;34m(\u001b[0m\u001b[0mX\u001b[0m\u001b[0;34m,\u001b[0m\u001b[0my\u001b[0m\u001b[0;34m)\u001b[0m\u001b[0;34m\u001b[0m\u001b[0;34m\u001b[0m\u001b[0m\n\u001b[0m\u001b[1;32m      2\u001b[0m \u001b[0mX_new\u001b[0m\u001b[0;34m.\u001b[0m\u001b[0mshape\u001b[0m\u001b[0;34m\u001b[0m\u001b[0;34m\u001b[0m\u001b[0m\n",
      "\u001b[0;32m/anaconda3/lib/python3.7/site-packages/sklearn/base.py\u001b[0m in \u001b[0;36mfit_transform\u001b[0;34m(self, X, y, **fit_params)\u001b[0m\n\u001b[1;32m    465\u001b[0m         \u001b[0;32melse\u001b[0m\u001b[0;34m:\u001b[0m\u001b[0;34m\u001b[0m\u001b[0;34m\u001b[0m\u001b[0m\n\u001b[1;32m    466\u001b[0m             \u001b[0;31m# fit method of arity 2 (supervised transformation)\u001b[0m\u001b[0;34m\u001b[0m\u001b[0;34m\u001b[0m\u001b[0;34m\u001b[0m\u001b[0m\n\u001b[0;32m--> 467\u001b[0;31m             \u001b[0;32mreturn\u001b[0m \u001b[0mself\u001b[0m\u001b[0;34m.\u001b[0m\u001b[0mfit\u001b[0m\u001b[0;34m(\u001b[0m\u001b[0mX\u001b[0m\u001b[0;34m,\u001b[0m \u001b[0my\u001b[0m\u001b[0;34m,\u001b[0m \u001b[0;34m**\u001b[0m\u001b[0mfit_params\u001b[0m\u001b[0;34m)\u001b[0m\u001b[0;34m.\u001b[0m\u001b[0mtransform\u001b[0m\u001b[0;34m(\u001b[0m\u001b[0mX\u001b[0m\u001b[0;34m)\u001b[0m\u001b[0;34m\u001b[0m\u001b[0;34m\u001b[0m\u001b[0m\n\u001b[0m\u001b[1;32m    468\u001b[0m \u001b[0;34m\u001b[0m\u001b[0m\n\u001b[1;32m    469\u001b[0m \u001b[0;34m\u001b[0m\u001b[0m\n",
      "\u001b[0;32m/anaconda3/lib/python3.7/site-packages/sklearn/feature_selection/univariate_selection.py\u001b[0m in \u001b[0;36mfit\u001b[0;34m(self, X, y)\u001b[0m\n\u001b[1;32m    347\u001b[0m \u001b[0;34m\u001b[0m\u001b[0m\n\u001b[1;32m    348\u001b[0m         \u001b[0mself\u001b[0m\u001b[0;34m.\u001b[0m\u001b[0m_check_params\u001b[0m\u001b[0;34m(\u001b[0m\u001b[0mX\u001b[0m\u001b[0;34m,\u001b[0m \u001b[0my\u001b[0m\u001b[0;34m)\u001b[0m\u001b[0;34m\u001b[0m\u001b[0;34m\u001b[0m\u001b[0m\n\u001b[0;32m--> 349\u001b[0;31m         \u001b[0mscore_func_ret\u001b[0m \u001b[0;34m=\u001b[0m \u001b[0mself\u001b[0m\u001b[0;34m.\u001b[0m\u001b[0mscore_func\u001b[0m\u001b[0;34m(\u001b[0m\u001b[0mX\u001b[0m\u001b[0;34m,\u001b[0m \u001b[0my\u001b[0m\u001b[0;34m)\u001b[0m\u001b[0;34m\u001b[0m\u001b[0;34m\u001b[0m\u001b[0m\n\u001b[0m\u001b[1;32m    350\u001b[0m         \u001b[0;32mif\u001b[0m \u001b[0misinstance\u001b[0m\u001b[0;34m(\u001b[0m\u001b[0mscore_func_ret\u001b[0m\u001b[0;34m,\u001b[0m \u001b[0;34m(\u001b[0m\u001b[0mlist\u001b[0m\u001b[0;34m,\u001b[0m \u001b[0mtuple\u001b[0m\u001b[0;34m)\u001b[0m\u001b[0;34m)\u001b[0m\u001b[0;34m:\u001b[0m\u001b[0;34m\u001b[0m\u001b[0;34m\u001b[0m\u001b[0m\n\u001b[1;32m    351\u001b[0m             \u001b[0mself\u001b[0m\u001b[0;34m.\u001b[0m\u001b[0mscores_\u001b[0m\u001b[0;34m,\u001b[0m \u001b[0mself\u001b[0m\u001b[0;34m.\u001b[0m\u001b[0mpvalues_\u001b[0m \u001b[0;34m=\u001b[0m \u001b[0mscore_func_ret\u001b[0m\u001b[0;34m\u001b[0m\u001b[0;34m\u001b[0m\u001b[0m\n",
      "\u001b[0;32m/anaconda3/lib/python3.7/site-packages/sklearn/feature_selection/univariate_selection.py\u001b[0m in \u001b[0;36mchi2\u001b[0;34m(X, y)\u001b[0m\n\u001b[1;32m    216\u001b[0m         \u001b[0;32mraise\u001b[0m \u001b[0mValueError\u001b[0m\u001b[0;34m(\u001b[0m\u001b[0;34m\"Input X must be non-negative.\"\u001b[0m\u001b[0;34m)\u001b[0m\u001b[0;34m\u001b[0m\u001b[0;34m\u001b[0m\u001b[0m\n\u001b[1;32m    217\u001b[0m \u001b[0;34m\u001b[0m\u001b[0m\n\u001b[0;32m--> 218\u001b[0;31m     \u001b[0mY\u001b[0m \u001b[0;34m=\u001b[0m \u001b[0mLabelBinarizer\u001b[0m\u001b[0;34m(\u001b[0m\u001b[0;34m)\u001b[0m\u001b[0;34m.\u001b[0m\u001b[0mfit_transform\u001b[0m\u001b[0;34m(\u001b[0m\u001b[0my\u001b[0m\u001b[0;34m)\u001b[0m\u001b[0;34m\u001b[0m\u001b[0;34m\u001b[0m\u001b[0m\n\u001b[0m\u001b[1;32m    219\u001b[0m     \u001b[0;32mif\u001b[0m \u001b[0mY\u001b[0m\u001b[0;34m.\u001b[0m\u001b[0mshape\u001b[0m\u001b[0;34m[\u001b[0m\u001b[0;36m1\u001b[0m\u001b[0;34m]\u001b[0m \u001b[0;34m==\u001b[0m \u001b[0;36m1\u001b[0m\u001b[0;34m:\u001b[0m\u001b[0;34m\u001b[0m\u001b[0;34m\u001b[0m\u001b[0m\n\u001b[1;32m    220\u001b[0m         \u001b[0mY\u001b[0m \u001b[0;34m=\u001b[0m \u001b[0mnp\u001b[0m\u001b[0;34m.\u001b[0m\u001b[0mappend\u001b[0m\u001b[0;34m(\u001b[0m\u001b[0;36m1\u001b[0m \u001b[0;34m-\u001b[0m \u001b[0mY\u001b[0m\u001b[0;34m,\u001b[0m \u001b[0mY\u001b[0m\u001b[0;34m,\u001b[0m \u001b[0maxis\u001b[0m\u001b[0;34m=\u001b[0m\u001b[0;36m1\u001b[0m\u001b[0;34m)\u001b[0m\u001b[0;34m\u001b[0m\u001b[0;34m\u001b[0m\u001b[0m\n",
      "\u001b[0;32m/anaconda3/lib/python3.7/site-packages/sklearn/preprocessing/label.py\u001b[0m in \u001b[0;36mfit_transform\u001b[0;34m(self, y)\u001b[0m\n\u001b[1;32m    434\u001b[0m             \u001b[0mShape\u001b[0m \u001b[0mwill\u001b[0m \u001b[0mbe\u001b[0m \u001b[0;34m[\u001b[0m\u001b[0mn_samples\u001b[0m\u001b[0;34m,\u001b[0m \u001b[0;36m1\u001b[0m\u001b[0;34m]\u001b[0m \u001b[0;32mfor\u001b[0m \u001b[0mbinary\u001b[0m \u001b[0mproblems\u001b[0m\u001b[0;34m.\u001b[0m\u001b[0;34m\u001b[0m\u001b[0;34m\u001b[0m\u001b[0m\n\u001b[1;32m    435\u001b[0m         \"\"\"\n\u001b[0;32m--> 436\u001b[0;31m         \u001b[0;32mreturn\u001b[0m \u001b[0mself\u001b[0m\u001b[0;34m.\u001b[0m\u001b[0mfit\u001b[0m\u001b[0;34m(\u001b[0m\u001b[0my\u001b[0m\u001b[0;34m)\u001b[0m\u001b[0;34m.\u001b[0m\u001b[0mtransform\u001b[0m\u001b[0;34m(\u001b[0m\u001b[0my\u001b[0m\u001b[0;34m)\u001b[0m\u001b[0;34m\u001b[0m\u001b[0;34m\u001b[0m\u001b[0m\n\u001b[0m\u001b[1;32m    437\u001b[0m \u001b[0;34m\u001b[0m\u001b[0m\n\u001b[1;32m    438\u001b[0m     \u001b[0;32mdef\u001b[0m \u001b[0mtransform\u001b[0m\u001b[0;34m(\u001b[0m\u001b[0mself\u001b[0m\u001b[0;34m,\u001b[0m \u001b[0my\u001b[0m\u001b[0;34m)\u001b[0m\u001b[0;34m:\u001b[0m\u001b[0;34m\u001b[0m\u001b[0;34m\u001b[0m\u001b[0m\n",
      "\u001b[0;32m/anaconda3/lib/python3.7/site-packages/sklearn/preprocessing/label.py\u001b[0m in \u001b[0;36mfit\u001b[0;34m(self, y)\u001b[0m\n\u001b[1;32m    411\u001b[0m \u001b[0;34m\u001b[0m\u001b[0m\n\u001b[1;32m    412\u001b[0m         \u001b[0mself\u001b[0m\u001b[0;34m.\u001b[0m\u001b[0msparse_input_\u001b[0m \u001b[0;34m=\u001b[0m \u001b[0msp\u001b[0m\u001b[0;34m.\u001b[0m\u001b[0missparse\u001b[0m\u001b[0;34m(\u001b[0m\u001b[0my\u001b[0m\u001b[0;34m)\u001b[0m\u001b[0;34m\u001b[0m\u001b[0;34m\u001b[0m\u001b[0m\n\u001b[0;32m--> 413\u001b[0;31m         \u001b[0mself\u001b[0m\u001b[0;34m.\u001b[0m\u001b[0mclasses_\u001b[0m \u001b[0;34m=\u001b[0m \u001b[0munique_labels\u001b[0m\u001b[0;34m(\u001b[0m\u001b[0my\u001b[0m\u001b[0;34m)\u001b[0m\u001b[0;34m\u001b[0m\u001b[0;34m\u001b[0m\u001b[0m\n\u001b[0m\u001b[1;32m    414\u001b[0m         \u001b[0;32mreturn\u001b[0m \u001b[0mself\u001b[0m\u001b[0;34m\u001b[0m\u001b[0;34m\u001b[0m\u001b[0m\n\u001b[1;32m    415\u001b[0m \u001b[0;34m\u001b[0m\u001b[0m\n",
      "\u001b[0;32m/anaconda3/lib/python3.7/site-packages/sklearn/utils/multiclass.py\u001b[0m in \u001b[0;36munique_labels\u001b[0;34m(*ys)\u001b[0m\n\u001b[1;32m     94\u001b[0m     \u001b[0m_unique_labels\u001b[0m \u001b[0;34m=\u001b[0m \u001b[0m_FN_UNIQUE_LABELS\u001b[0m\u001b[0;34m.\u001b[0m\u001b[0mget\u001b[0m\u001b[0;34m(\u001b[0m\u001b[0mlabel_type\u001b[0m\u001b[0;34m,\u001b[0m \u001b[0;32mNone\u001b[0m\u001b[0;34m)\u001b[0m\u001b[0;34m\u001b[0m\u001b[0;34m\u001b[0m\u001b[0m\n\u001b[1;32m     95\u001b[0m     \u001b[0;32mif\u001b[0m \u001b[0;32mnot\u001b[0m \u001b[0m_unique_labels\u001b[0m\u001b[0;34m:\u001b[0m\u001b[0;34m\u001b[0m\u001b[0;34m\u001b[0m\u001b[0m\n\u001b[0;32m---> 96\u001b[0;31m         \u001b[0;32mraise\u001b[0m \u001b[0mValueError\u001b[0m\u001b[0;34m(\u001b[0m\u001b[0;34m\"Unknown label type: %s\"\u001b[0m \u001b[0;34m%\u001b[0m \u001b[0mrepr\u001b[0m\u001b[0;34m(\u001b[0m\u001b[0mys\u001b[0m\u001b[0;34m)\u001b[0m\u001b[0;34m)\u001b[0m\u001b[0;34m\u001b[0m\u001b[0;34m\u001b[0m\u001b[0m\n\u001b[0m\u001b[1;32m     97\u001b[0m \u001b[0;34m\u001b[0m\u001b[0m\n\u001b[1;32m     98\u001b[0m     \u001b[0mys_labels\u001b[0m \u001b[0;34m=\u001b[0m \u001b[0mset\u001b[0m\u001b[0;34m(\u001b[0m\u001b[0mchain\u001b[0m\u001b[0;34m.\u001b[0m\u001b[0mfrom_iterable\u001b[0m\u001b[0;34m(\u001b[0m\u001b[0m_unique_labels\u001b[0m\u001b[0;34m(\u001b[0m\u001b[0my\u001b[0m\u001b[0;34m)\u001b[0m \u001b[0;32mfor\u001b[0m \u001b[0my\u001b[0m \u001b[0;32min\u001b[0m \u001b[0mys\u001b[0m\u001b[0;34m)\u001b[0m\u001b[0;34m)\u001b[0m\u001b[0;34m\u001b[0m\u001b[0;34m\u001b[0m\u001b[0m\n",
      "\u001b[0;31mValueError\u001b[0m: Unknown label type: (array([33.2, 33.1, 26.8, ..., 23.6, 25.9, 28.1]),)"
     ]
    }
   ],
   "source": [
    "X_new=select.fit_transform(X,y)\n",
    "X_new.shape"
   ]
  },
  {
   "cell_type": "code",
   "execution_count": 14,
   "metadata": {},
   "outputs": [
    {
     "data": {
      "text/plain": [
       "[array([ 0.4,  0.6,  0.2,  0.3,  1.2,  0.1,  0. ,  0.7,  0.8,  0.5,  1.1,\n",
       "         3.2,  5.4,  1.3,  8.1, 29. , 12.9,  6.3, 80.6,  3.5, 71.7,  5.7,\n",
       "         6.4, 32.4, 11.8,  7.3, 13.6, 13.3, 87.4, 67.6,  5.1, 69.8, 47.4,\n",
       "        81.5,  5.9, 40.3,  5. , 10.5, 14.8, 17.3, 32.2, 69.9, 26. , 15.1,\n",
       "         2.8, 12.2,  1.6,  1.7, 43.1,  2.4,  4.7,  1. ,  1.4,  0.9,  1.9,\n",
       "        19.4,  1.8,  4.8,  4.6, 10.2,  3. ,  2.3,  3.4,  2.2,  2.7,  1.5,\n",
       "         2.1, 11.3,  3.7,  4. ,  2.6,  8.9,  3.8,  3.6,  6.5,  7.4,  5.3,\n",
       "         2. ,  7.6,  4.5,  6.7, 15.7,  7. , 20. , 10.6,  8.5,  3.3, 39.2,\n",
       "         5.8, 15.3, 62.7, 48. ,  4.1, 19.2, 63.1, 22.3, 23.3,  2.5,  9.4,\n",
       "        14.3, 55.5, 33.6,  4.4, 10.1,  2.9,  8.8,  9.1, 55.1,  3.9, 16.7,\n",
       "        38.5, 72.3,  6.2, 14. , 11.9, 36.3,  9.8,  7.2,  7.8,  8.4, 37.6,\n",
       "        10.4, 26.1, 54.5,  9.9,  4.2, 17.2,  7.1, 26.5,  4.3,  9.6, 77.2,\n",
       "        79.4,  4.9, 14.4, 21.8,  8. , 32.1, 12. , 11.5, 18.5, 20.4,  6. ,\n",
       "        16.4, 17.9, 14.9,  6.9, 13.8, 14.6, 16.1, 19.5, 12.3, 14.5, 13.7,\n",
       "         9. , 13.1, 11.7, 18.9, 15.6,  9.7, 15.8,  3.1, 51.5, 74.9, 30.9,\n",
       "        66.8, 75.6,  7.7,  7.9, 48.5, 37.5, 53.3, 12.1, 92.1, 34.6, 74.4,\n",
       "        15.4, 70.6, 46.8, 15.2, 13.9, 80. ]),\n",
       " array([ 1. ,  0.7,  0.4,  0.1,  0.2,  0.9,  0.8,  0.3,  0. ,  1.2,  1.8,\n",
       "         0.6,  0.5,  1.6,  3.3,  2.5,  1.9,  2.2,  2.1,  2. ,  1.7,  1.5,\n",
       "        30.5, 36.8,  8.7,  2.9,  1.4,  2.6,  3. ,  6.2,  1.3,  7.3, 21.3,\n",
       "         3.2,  5.3,  2.3,  5.8, 10.6,  6.7,  3.7,  1.1,  3.4,  4.3, 27.5,\n",
       "        15.1,  3.9,  9.6,  4.4,  3.5, 14. ,  5.6,  7.4,  5.9,  7.6, 18.8,\n",
       "         6.5,  6. , 14.8, 11.2, 33.5, 14.5,  3.6, 26.2,  4.9,  4.2, 14.6,\n",
       "         3.8,  5.2,  6.9, 13.5,  7.1,  4.1,  2.7,  5. ,  4.7,  2.8,  5.1,\n",
       "         4. ,  5.7,  8.3,  6.3, 11. , 21.4, 41.6, 21.2, 33.6, 26.7, 10. ,\n",
       "         2.4, 10.8,  6.1,  7.2,  7.9,  3.1,  4.5, 16.2, 14.4, 10.5,  9.7,\n",
       "         8.6,  8.4,  4.6, 13.2,  9. ,  8.2, 15.5, 10.1, 23.2, 16. ,  4.8,\n",
       "        11.4,  8.5, 11.6, 24.2,  8. ,  6.8,  9.2,  5.5,  7. ,  7.8, 12.4,\n",
       "        18.3,  5.4,  9.9, 16.1,  7.7,  6.6, 15.4,  9.5,  9.4,  7.5]),\n",
       " array([ 0. ,  0.4,  0.1,  0.2,  1.1,  2.4,  2.1,  0.3,  0.6,  0.9,  0.7,\n",
       "         5.6,  1.2,  2.2,  0.8,  1.4,  0.5,  1. , 11.1,  8.6, 35.3,  9.1,\n",
       "         9.6,  1.7,  1.5,  1.9,  1.3]),\n",
       " array([ 40725, 147695,  20714, ...,  18458,  27924,  30661]),\n",
       " array([51281., 50254., 32964., ..., 17818., 15627., 14708.]),\n",
       " array([2391., 1263., 2973., ..., 1234., 3771., 1245.]),\n",
       " array([24974, 27317, 16824, ...,  8420,  7960,  7743]),\n",
       " array([1080,  711,  798, ...,  437,  331,  474]),\n",
       " array([12.9, 13.4, 26.7, 16.8, 16.7, 24.6, 25.4, 20.5, 21.6, 19.2, 19.1,\n",
       "        23.4, 24.7, 17. , 17.1, 17.4, 33.8, 19.3, 20.2, 18.5, 35. , 18.7,\n",
       "        13.6, 24.2, 19.7, 18.3, 22.5, 23.2, 40.2, 26.8, 15.6, 18. , 18.8,\n",
       "        24.1, 17.9, 23.8, 14.3, 28.5, 25.9, 13.7, 26.1, 20.1, 31.4, 22.6,\n",
       "        16.1, 36.4, 25. , 20.4, 21. , 16. ,  8.3, 42.7, 23. , 37.7, 21.9,\n",
       "         9.1,  8.2, 25.2,  7.2, 12.7, 18.1,  8.1,  5.3, 11.9,  6.6, 10. ,\n",
       "        12.1, 11.3, 33.3, 27. , 10.2, 14.6,  9. ,  4.4, 14.5, 10.9, 11.8,\n",
       "         5.4, 22.4, 36.6, 22.7, 19.8, 30.6, 17.3, 23.5, 20.7, 15.9, 12.2,\n",
       "        17.7, 29. , 17.8, 31.7, 23.7, 21.8, 20.8, 25.6, 15.5, 33. , 28.6,\n",
       "        22. , 19.9, 20.9, 12. , 25.5, 22.1, 24.4, 23.9, 27.3, 12.4, 20.3,\n",
       "        32.8, 28.1, 34.1, 22.8, 20. , 21.4, 17.6, 21.1, 24.8, 23.6, 19. ,\n",
       "        18.6, 12.5, 17.5, 12.8, 12.6, 15. , 10.4, 24. , 11.4, 16.4, 18.2,\n",
       "        15.1,  4.9, 10.3,  8.9, 10.8, 19.5, 13.2, 14.8,  8. , 16.3,  9.5,\n",
       "        23.1, 11.7, 13.9, 11.1, 13.8, 28.9, 11.2, 14.1,  6.5,  8.7,  8.6,\n",
       "        33.4, 21.5,  4. ,  9.2,  7. ,  7.4, 16.9,  8.5, 11.5, 10.6, 14.9,\n",
       "        16.6,  7.6, 11.6, 24.3,  7.8,  7.3, 15.3,  9.9, 16.5, 14.4,  7.5,\n",
       "         6.7, 13. , 10.7, 13.5, 15.2, 20.6, 14. , 10.5, 15.8, 27.1, 29.3,\n",
       "        27.4, 26.4, 19.4, 27.8, 22.3, 18.4, 25.7, 27.7, 28.7, 12.3, 11. ,\n",
       "        14.7, 22.9, 35.3, 26.2, 27.6, 32.9, 41.6, 31.8, 17.2, 42.2, 25.1,\n",
       "        14.2, 28.4, 29.2, 30.7, 28. , 21.3,  6.9, 16.2, 24.9, 30.3,  9.3,\n",
       "        26. , 30.8, 26.6, 27.5, 26.5, 29.6, 27.9, 25.3, 30.2, 18.9, 38.4,\n",
       "        33.2, 30. , 36.2, 19.6, 27.2, 21.2,  9.7, 13.1, 35.7, 34.2, 30.5,\n",
       "         5.5,  9.6,  7.9, 13.3, 10.1,  9.4,  5. ,  6.2,  5.8,  9.8,  4.7,\n",
       "         8.4, 22.2, 15.7,  7.7,  8.8,  6.8,  4.6, 15.4,  4.1,  5.9, 38. ,\n",
       "        39.7, 31.3, 21.7, 31.2, 26.3, 32.6, 32. , 41. , 35.2, 29.9,  6. ,\n",
       "        37.9, 25.8, 43. , 48. , 32.1, 26.9, 35.4,  5.6,  5.2,  5.7, 30.1,\n",
       "        37.1, 42. , 43.4, 40.3, 48.7, 34.3, 41.9, 33.7, 29.1, 39.5, 35.5,\n",
       "        24.5, 36. , 32.3, 29.5, 33.1,  6.3, 23.3,  6.4,  4.5, 28.2,  6.1,\n",
       "        37.5, 29.7, 31.6, 33.5,  4.8, 28.8,  7.1, 33.9, 29.8, 40.5, 45.6,\n",
       "        45.3, 53.3,  5.1, 46.4,  1.4, 39.6,  3.4,  1.5, 39. , 37.4, 34.9,\n",
       "         2.7, 32.5,  4.2, 61.7, 54.2, 49.1, 53.6, 47.2, 49.6, 52.7, 55.9,\n",
       "        61.2, 35.6, 50.7, 48.6, 43.8, 48.9, 41.5, 43.3, 59.5, 39.2, 49.4,\n",
       "        60. , 56.6, 45.5, 45.4, 54. , 61. , 53. , 56. , 44.7, 44.9, 57.8,\n",
       "        51.2, 47.4, 59.3, 58.3, 58. , 49.2, 47.7, 45.8, 46.2, 64.2, 51.1,\n",
       "        54.3, 55.2, 52.6, 59.1, 60.2, 51.8, 55.5, 48.8, 39.1, 47.1, 56.2,\n",
       "        51. , 42.3, 48.4, 56.5, 50.1, 52.3, 50.3, 48.5, 51.7])]"
      ]
     },
     "execution_count": 14,
     "metadata": {},
     "output_type": "execute_result"
    }
   ],
   "source": [
    "[X[i].unique() for i in X.columns]"
   ]
  },
  {
   "cell_type": "code",
   "execution_count": 15,
   "metadata": {},
   "outputs": [
    {
     "name": "stdout",
     "output_type": "stream",
     "text": [
      "<class 'pandas.core.frame.DataFrame'>\n",
      "RangeIndex: 3220 entries, 0 to 3219\n",
      "Data columns (total 37 columns):\n",
      "CensusId           3220 non-null int64\n",
      "State              3220 non-null object\n",
      "County             3220 non-null object\n",
      "TotalPop           3220 non-null int64\n",
      "Men                3220 non-null int64\n",
      "Women              3220 non-null int64\n",
      "Hispanic           3220 non-null float64\n",
      "White              3220 non-null float64\n",
      "Black              3220 non-null float64\n",
      "Native             3220 non-null float64\n",
      "Asian              3220 non-null float64\n",
      "Pacific            3220 non-null float64\n",
      "Citizen            3220 non-null int64\n",
      "Income             3219 non-null float64\n",
      "IncomeErr          3219 non-null float64\n",
      "IncomePerCap       3220 non-null int64\n",
      "IncomePerCapErr    3220 non-null int64\n",
      "Poverty            3220 non-null float64\n",
      "ChildPoverty       3219 non-null float64\n",
      "Professional       3220 non-null float64\n",
      "Service            3220 non-null float64\n",
      "Office             3220 non-null float64\n",
      "Construction       3220 non-null float64\n",
      "Production         3220 non-null float64\n",
      "Drive              3220 non-null float64\n",
      "Carpool            3220 non-null float64\n",
      "Transit            3220 non-null float64\n",
      "Walk               3220 non-null float64\n",
      "OtherTransp        3220 non-null float64\n",
      "WorkAtHome         3220 non-null float64\n",
      "MeanCommute        3220 non-null float64\n",
      "Employed           3220 non-null int64\n",
      "PrivateWork        3220 non-null float64\n",
      "PublicWork         3220 non-null float64\n",
      "SelfEmployed       3220 non-null float64\n",
      "FamilyWork         3220 non-null float64\n",
      "Unemployment       3220 non-null float64\n",
      "dtypes: float64(27), int64(8), object(2)\n",
      "memory usage: 930.9+ KB\n"
     ]
    }
   ],
   "source": [
    "df.info()"
   ]
  },
  {
   "cell_type": "code",
   "execution_count": 17,
   "metadata": {},
   "outputs": [
    {
     "name": "stderr",
     "output_type": "stream",
     "text": [
      "/anaconda3/lib/python3.7/site-packages/numpy/core/fromnumeric.py:2389: FutureWarning: Method .ptp is deprecated and will be removed in a future version. Use numpy.ptp instead.\n",
      "  return ptp(axis=axis, out=out, **kwargs)\n"
     ]
    },
    {
     "data": {
      "text/html": [
       "<table class=\"simpletable\">\n",
       "<caption>OLS Regression Results</caption>\n",
       "<tr>\n",
       "  <th>Dep. Variable:</th>      <td>Professional</td>   <th>  R-squared:         </th> <td>   0.507</td> \n",
       "</tr>\n",
       "<tr>\n",
       "  <th>Model:</th>                   <td>OLS</td>       <th>  Adj. R-squared:    </th> <td>   0.506</td> \n",
       "</tr>\n",
       "<tr>\n",
       "  <th>Method:</th>             <td>Least Squares</td>  <th>  F-statistic:       </th> <td>   366.6</td> \n",
       "</tr>\n",
       "<tr>\n",
       "  <th>Date:</th>             <td>Tue, 25 Jun 2019</td> <th>  Prob (F-statistic):</th>  <td>  0.00</td>  \n",
       "</tr>\n",
       "<tr>\n",
       "  <th>Time:</th>                 <td>16:58:07</td>     <th>  Log-Likelihood:    </th> <td> -9388.1</td> \n",
       "</tr>\n",
       "<tr>\n",
       "  <th>No. Observations:</th>      <td>  3219</td>      <th>  AIC:               </th> <td>1.880e+04</td>\n",
       "</tr>\n",
       "<tr>\n",
       "  <th>Df Residuals:</th>          <td>  3209</td>      <th>  BIC:               </th> <td>1.886e+04</td>\n",
       "</tr>\n",
       "<tr>\n",
       "  <th>Df Model:</th>              <td>     9</td>      <th>                     </th>     <td> </td>    \n",
       "</tr>\n",
       "<tr>\n",
       "  <th>Covariance Type:</th>      <td>nonrobust</td>    <th>                     </th>     <td> </td>    \n",
       "</tr>\n",
       "</table>\n",
       "<table class=\"simpletable\">\n",
       "<tr>\n",
       "         <td></td>            <th>coef</th>     <th>std err</th>      <th>t</th>      <th>P>|t|</th>  <th>[0.025</th>    <th>0.975]</th>  \n",
       "</tr>\n",
       "<tr>\n",
       "  <th>const</th>           <td>    4.5162</td> <td>    0.822</td> <td>    5.494</td> <td> 0.000</td> <td>    2.904</td> <td>    6.128</td>\n",
       "</tr>\n",
       "<tr>\n",
       "  <th>Native</th>          <td>    0.0918</td> <td>    0.011</td> <td>    8.181</td> <td> 0.000</td> <td>    0.070</td> <td>    0.114</td>\n",
       "</tr>\n",
       "<tr>\n",
       "  <th>Asian</th>           <td>    0.1547</td> <td>    0.041</td> <td>    3.740</td> <td> 0.000</td> <td>    0.074</td> <td>    0.236</td>\n",
       "</tr>\n",
       "<tr>\n",
       "  <th>Pacific</th>         <td>   -0.7804</td> <td>    0.118</td> <td>   -6.611</td> <td> 0.000</td> <td>   -1.012</td> <td>   -0.549</td>\n",
       "</tr>\n",
       "<tr>\n",
       "  <th>Citizen</th>         <td> 1.337e-06</td> <td> 4.57e-07</td> <td>    2.924</td> <td> 0.003</td> <td> 4.41e-07</td> <td> 2.23e-06</td>\n",
       "</tr>\n",
       "<tr>\n",
       "  <th>Income</th>          <td> 4.349e-05</td> <td>  1.6e-05</td> <td>    2.726</td> <td> 0.006</td> <td> 1.22e-05</td> <td> 7.48e-05</td>\n",
       "</tr>\n",
       "<tr>\n",
       "  <th>IncomeErr</th>       <td>-3.289e-05</td> <td> 5.98e-05</td> <td>   -0.550</td> <td> 0.582</td> <td>   -0.000</td> <td> 8.43e-05</td>\n",
       "</tr>\n",
       "<tr>\n",
       "  <th>IncomePerCap</th>    <td>    0.0008</td> <td> 3.16e-05</td> <td>   26.042</td> <td> 0.000</td> <td>    0.001</td> <td>    0.001</td>\n",
       "</tr>\n",
       "<tr>\n",
       "  <th>IncomePerCapErr</th> <td> 9.362e-05</td> <td>    0.000</td> <td>    0.810</td> <td> 0.418</td> <td>   -0.000</td> <td>    0.000</td>\n",
       "</tr>\n",
       "<tr>\n",
       "  <th>Poverty</th>         <td>    0.2475</td> <td>    0.017</td> <td>   14.772</td> <td> 0.000</td> <td>    0.215</td> <td>    0.280</td>\n",
       "</tr>\n",
       "</table>\n",
       "<table class=\"simpletable\">\n",
       "<tr>\n",
       "  <th>Omnibus:</th>       <td>266.899</td> <th>  Durbin-Watson:     </th> <td>   1.760</td> \n",
       "</tr>\n",
       "<tr>\n",
       "  <th>Prob(Omnibus):</th> <td> 0.000</td>  <th>  Jarque-Bera (JB):  </th> <td>1220.420</td> \n",
       "</tr>\n",
       "<tr>\n",
       "  <th>Skew:</th>          <td> 0.268</td>  <th>  Prob(JB):          </th> <td>9.75e-266</td>\n",
       "</tr>\n",
       "<tr>\n",
       "  <th>Kurtosis:</th>      <td> 5.968</td>  <th>  Cond. No.          </th> <td>2.27e+06</td> \n",
       "</tr>\n",
       "</table><br/><br/>Warnings:<br/>[1] Standard Errors assume that the covariance matrix of the errors is correctly specified.<br/>[2] The condition number is large, 2.27e+06. This might indicate that there are<br/>strong multicollinearity or other numerical problems."
      ],
      "text/plain": [
       "<class 'statsmodels.iolib.summary.Summary'>\n",
       "\"\"\"\n",
       "                            OLS Regression Results                            \n",
       "==============================================================================\n",
       "Dep. Variable:           Professional   R-squared:                       0.507\n",
       "Model:                            OLS   Adj. R-squared:                  0.506\n",
       "Method:                 Least Squares   F-statistic:                     366.6\n",
       "Date:                Tue, 25 Jun 2019   Prob (F-statistic):               0.00\n",
       "Time:                        16:58:07   Log-Likelihood:                -9388.1\n",
       "No. Observations:                3219   AIC:                         1.880e+04\n",
       "Df Residuals:                    3209   BIC:                         1.886e+04\n",
       "Df Model:                           9                                         \n",
       "Covariance Type:            nonrobust                                         \n",
       "===================================================================================\n",
       "                      coef    std err          t      P>|t|      [0.025      0.975]\n",
       "-----------------------------------------------------------------------------------\n",
       "const               4.5162      0.822      5.494      0.000       2.904       6.128\n",
       "Native              0.0918      0.011      8.181      0.000       0.070       0.114\n",
       "Asian               0.1547      0.041      3.740      0.000       0.074       0.236\n",
       "Pacific            -0.7804      0.118     -6.611      0.000      -1.012      -0.549\n",
       "Citizen          1.337e-06   4.57e-07      2.924      0.003    4.41e-07    2.23e-06\n",
       "Income           4.349e-05    1.6e-05      2.726      0.006    1.22e-05    7.48e-05\n",
       "IncomeErr       -3.289e-05   5.98e-05     -0.550      0.582      -0.000    8.43e-05\n",
       "IncomePerCap        0.0008   3.16e-05     26.042      0.000       0.001       0.001\n",
       "IncomePerCapErr  9.362e-05      0.000      0.810      0.418      -0.000       0.000\n",
       "Poverty             0.2475      0.017     14.772      0.000       0.215       0.280\n",
       "==============================================================================\n",
       "Omnibus:                      266.899   Durbin-Watson:                   1.760\n",
       "Prob(Omnibus):                  0.000   Jarque-Bera (JB):             1220.420\n",
       "Skew:                           0.268   Prob(JB):                    9.75e-266\n",
       "Kurtosis:                       5.968   Cond. No.                     2.27e+06\n",
       "==============================================================================\n",
       "\n",
       "Warnings:\n",
       "[1] Standard Errors assume that the covariance matrix of the errors is correctly specified.\n",
       "[2] The condition number is large, 2.27e+06. This might indicate that there are\n",
       "strong multicollinearity or other numerical problems.\n",
       "\"\"\""
      ]
     },
     "execution_count": 17,
     "metadata": {},
     "output_type": "execute_result"
    }
   ],
   "source": [
    "from statsmodels.regression.linear_model import OLS\n",
    "\n",
    "import statsmodels.api as sm\n",
    "X=sm.add_constant(X)\n",
    "model=sm.OLS(y,X)\n",
    "results=model.fit()\n",
    "results.summary()"
   ]
  },
  {
   "cell_type": "code",
   "execution_count": 18,
   "metadata": {},
   "outputs": [
    {
     "data": {
      "text/plain": [
       "Ridge(alpha=1.0, copy_X=True, fit_intercept=True, max_iter=None,\n",
       "   normalize=False, random_state=None, solver='auto', tol=0.001)"
      ]
     },
     "execution_count": 18,
     "metadata": {},
     "output_type": "execute_result"
    }
   ],
   "source": [
    "from sklearn.linear_model import Ridge\n",
    "\n",
    "model=Ridge(alpha=1.0)\n",
    "model.fit(X,y)"
   ]
  },
  {
   "cell_type": "code",
   "execution_count": 20,
   "metadata": {},
   "outputs": [
    {
     "data": {
      "text/plain": [
       "4.516037304773494"
      ]
     },
     "execution_count": 20,
     "metadata": {},
     "output_type": "execute_result"
    }
   ],
   "source": [
    "model.intercept_"
   ]
  },
  {
   "cell_type": "code",
   "execution_count": 22,
   "metadata": {},
   "outputs": [
    {
     "data": {
      "text/plain": [
       "array([ 0.00000000e+00,  9.17579132e-02,  1.54564315e-01, -7.79871751e-01,\n",
       "        1.33724639e-06,  4.34992256e-05, -3.28936533e-05,  8.22788117e-04,\n",
       "        9.35729856e-05,  2.47499295e-01])"
      ]
     },
     "execution_count": 22,
     "metadata": {},
     "output_type": "execute_result"
    }
   ],
   "source": [
    "model.coef_"
   ]
  },
  {
   "cell_type": "code",
   "execution_count": 23,
   "metadata": {},
   "outputs": [
    {
     "data": {
      "text/plain": [
       "Ridge(alpha=0.8, copy_X=True, fit_intercept=True, max_iter=None,\n",
       "   normalize=False, random_state=None, solver='auto', tol=0.001)"
      ]
     },
     "execution_count": 23,
     "metadata": {},
     "output_type": "execute_result"
    }
   ],
   "source": [
    "from sklearn.linear_model import Ridge\n",
    "\n",
    "model=Ridge(alpha=0.8)\n",
    "model.fit(X,y)"
   ]
  },
  {
   "cell_type": "code",
   "execution_count": 24,
   "metadata": {},
   "outputs": [
    {
     "data": {
      "text/plain": [
       "4.516065267065194"
      ]
     },
     "execution_count": 24,
     "metadata": {},
     "output_type": "execute_result"
    }
   ],
   "source": [
    "model.intercept_"
   ]
  },
  {
   "cell_type": "code",
   "execution_count": 25,
   "metadata": {},
   "outputs": [
    {
     "data": {
      "text/plain": [
       "array([ 0.00000000e+00,  9.17583171e-02,  1.54581448e-01, -7.79982875e-01,\n",
       "        1.33718599e-06,  4.34981593e-05, -3.28926113e-05,  8.22788295e-04,\n",
       "        9.35816831e-05,  2.47498942e-01])"
      ]
     },
     "execution_count": 25,
     "metadata": {},
     "output_type": "execute_result"
    }
   ],
   "source": [
    "model.coef_"
   ]
  },
  {
   "cell_type": "code",
   "execution_count": 26,
   "metadata": {},
   "outputs": [
    {
     "data": {
      "text/plain": [
       "Lasso(alpha=1.0, copy_X=True, fit_intercept=True, max_iter=1000,\n",
       "   normalize=False, positive=False, precompute=False, random_state=None,\n",
       "   selection='cyclic', tol=0.0001, warm_start=False)"
      ]
     },
     "execution_count": 26,
     "metadata": {},
     "output_type": "execute_result"
    }
   ],
   "source": [
    "from sklearn.linear_model import Lasso\n",
    "\n",
    "model=Lasso(alpha=1.0)\n",
    "model.fit(X,y)"
   ]
  },
  {
   "cell_type": "code",
   "execution_count": 27,
   "metadata": {},
   "outputs": [
    {
     "data": {
      "text/plain": [
       "array([ 0.00000000e+00,  7.42346228e-02,  0.00000000e+00, -0.00000000e+00,\n",
       "        2.04132787e-06,  4.61855466e-05, -4.42743651e-05,  8.04203083e-04,\n",
       "        2.06463305e-05,  2.21959512e-01])"
      ]
     },
     "execution_count": 27,
     "metadata": {},
     "output_type": "execute_result"
    }
   ],
   "source": [
    "model.coef_"
   ]
  },
  {
   "cell_type": "code",
   "execution_count": 28,
   "metadata": {},
   "outputs": [
    {
     "data": {
      "text/plain": [
       "0.49871839621728264"
      ]
     },
     "execution_count": 28,
     "metadata": {},
     "output_type": "execute_result"
    }
   ],
   "source": [
    "model.score(X,y)"
   ]
  }
 ],
 "metadata": {
  "kernelspec": {
   "display_name": "Python 3",
   "language": "python",
   "name": "python3"
  },
  "language_info": {
   "codemirror_mode": {
    "name": "ipython",
    "version": 3
   },
   "file_extension": ".py",
   "mimetype": "text/x-python",
   "name": "python",
   "nbconvert_exporter": "python",
   "pygments_lexer": "ipython3",
   "version": "3.7.3"
  }
 },
 "nbformat": 4,
 "nbformat_minor": 2
}
